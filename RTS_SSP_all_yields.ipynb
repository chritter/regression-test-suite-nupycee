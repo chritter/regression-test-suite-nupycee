{
 "cells": [
  {
   "cell_type": "markdown",
   "metadata": {},
   "source": [
    "# RTS: To try with more complex yield composition"
   ]
  },
  {
   "cell_type": "markdown",
   "metadata": {},
   "source": [
    "## Results:"
   ]
  },
  {
   "cell_type": "markdown",
   "metadata": {},
   "source": [
    "$\\odot$ Check that non-default mode and default mode give the same results\n",
    "\n",
    "$\\odot$ Evolution of ISM fine\n",
    "\n",
    "\n",
    "\n"
   ]
  },
  {
   "cell_type": "code",
   "execution_count": 5,
   "metadata": {
    "collapsed": false
   },
   "outputs": [
    {
     "name": "stderr",
     "output_type": "stream",
     "text": [
      "/home/christian/test/ipython/IPython/kernel/__init__.py:10: UserWarning: The `IPython.kernel` package has been deprecated. You should import from ipython_kernel or jupyter_client instead.\n",
      "  warn(\"The `IPython.kernel` package has been deprecated. \"\n"
     ]
    }
   ],
   "source": [
    "#from imp import *\n",
    "#s=load_source('sygma','/home/nugrid/nugrid/SYGMA/SYGMA_online/SYGMA_dev/sygma.py')\n",
    "import sygma as s\n",
    "reload(s)\n",
    "from scipy.integrate import quad\n",
    "from scipy.interpolate import UnivariateSpline\n",
    "%matplotlib inline\n",
    "import numpy as np\n",
    "#import mpld3\n",
    "#mpld3.enable_notebook()"
   ]
  },
  {
   "cell_type": "markdown",
   "metadata": {},
   "source": [
    "### SNII and SNIa : Compare non-default with default mode: numbers should be the same"
   ]
  },
  {
   "cell_type": "code",
   "execution_count": 6,
   "metadata": {
    "collapsed": false
   },
   "outputs": [
    {
     "name": "stdout",
     "output_type": "stream",
     "text": [
      "SYGMA run in progress..\n",
      "   SYGMA run completed - Run time: 1.54s\n",
      "SYGMA run in progress..\n",
      "   SYGMA run completed - Run time: 1.81s\n"
     ]
    }
   ],
   "source": [
    "s7=s.sygma(iolevel=0,mgal=1e11,dt=1e7,tend=1e9,imf_type='salpeter',imf_bdys=[1,30],special_timesteps=-1,hardsetZ=0.0001,table='yield_tables/isotope_yield_table_h1.txt',sn1a_on=True, sn1a_table='yield_tables/sn1a_h1.txt', iniabu_table='yield_tables/iniabu/iniab1.0E-04GN93_alpha_h1.ppn',pop3_table='yield_tables/popIII_h1.txt')\n",
    "s8=s.sygma(iolevel=0,mgal=1e11,dt=1e7,tend=1e9,imf_type='salpeter',imf_bdys=[1,30],special_timesteps=-1,iniZ=0.0001)"
   ]
  },
  {
   "cell_type": "code",
   "execution_count": 7,
   "metadata": {
    "collapsed": false
   },
   "outputs": [
    {
     "data": {
      "image/png": "[encoded data removed]",
      "text/plain": [
       "<matplotlib.figure.Figure at 0xb164ccec>"
      ]
     },
     "metadata": {},
     "output_type": "display_data"
    }
   ],
   "source": [
    "s7.plot_sn_distr(marker1='o',color1='b',marker2='s',markevery=1)\n",
    "s8.plot_sn_distr(marker1='d',marker2='x',color2='r',markevery=1)"
   ]
  },
  {
   "cell_type": "code",
   "execution_count": 8,
   "metadata": {
    "collapsed": false
   },
   "outputs": [
    {
     "name": "stdout",
     "output_type": "stream",
     "text": [
      "SYGMA run in progress..\n",
      "   SYGMA run completed - Run time: 3.67s\n"
     ]
    }
   ],
   "source": [
    "s8=s.sygma(iolevel=0,mgal=1e11,dt=1e7,tend=1e9,imf_type='salpeter',imf_bdys=[1,30],special_timesteps=200,iniZ=0.0001)"
   ]
  },
  {
   "cell_type": "markdown",
   "metadata": {},
   "source": [
    "# End of tests here for now"
   ]
  },
  {
   "cell_type": "markdown",
   "metadata": {},
   "source": [
    "### Check final yield of specific isotopes. How to do this properly?"
   ]
  },
  {
   "cell_type": "code",
   "execution_count": 9,
   "metadata": {
    "collapsed": false
   },
   "outputs": [],
   "source": [
    "k_N=1e11*0.35/ (1**-0.35 - 30**-0.35) #(I)\n"
   ]
  },
  {
   "cell_type": "code",
   "execution_count": 11,
   "metadata": {
    "collapsed": false
   },
   "outputs": [
    {
     "ename": "IOError",
     "evalue": "[Errno 2] No such file or directory: '/home/christian/NuGrid/SYGMA_PROJECT/GCE/OMEGA_SYGMA_New/yield_tables/isotope_yield_table_h1_c12.txt'",
     "output_type": "error",
     "traceback": [
      "\u001b[1;31m---------------------------------------------------------------------------\u001b[0m",
      "\u001b[1;31mIOError\u001b[0m                                   Traceback (most recent call last)",
      "\u001b[1;32m<ipython-input-11-24d50a5e1ca3>\u001b[0m in \u001b[0;36m<module>\u001b[1;34m()\u001b[0m\n\u001b[1;32m----> 1\u001b[1;33m \u001b[0ms3\u001b[0m\u001b[1;33m=\u001b[0m\u001b[0ms\u001b[0m\u001b[1;33m.\u001b[0m\u001b[0msygma\u001b[0m\u001b[1;33m(\u001b[0m\u001b[0miolevel\u001b[0m\u001b[1;33m=\u001b[0m\u001b[1;36m0\u001b[0m\u001b[1;33m,\u001b[0m\u001b[0mmgal\u001b[0m\u001b[1;33m=\u001b[0m\u001b[1;36m1e11\u001b[0m\u001b[1;33m,\u001b[0m\u001b[0mdt\u001b[0m\u001b[1;33m=\u001b[0m\u001b[1;36m1e7\u001b[0m\u001b[1;33m,\u001b[0m\u001b[0mtend\u001b[0m\u001b[1;33m=\u001b[0m\u001b[1;36m1.3e10\u001b[0m\u001b[1;33m,\u001b[0m\u001b[0mimf_type\u001b[0m\u001b[1;33m=\u001b[0m\u001b[1;34m'salpeter'\u001b[0m\u001b[1;33m,\u001b[0m\u001b[0mimf_bdys\u001b[0m\u001b[1;33m=\u001b[0m\u001b[1;33m[\u001b[0m\u001b[1;36m1\u001b[0m\u001b[1;33m,\u001b[0m\u001b[1;36m30\u001b[0m\u001b[1;33m]\u001b[0m\u001b[1;33m,\u001b[0m\u001b[0mhardsetZ\u001b[0m\u001b[1;33m=\u001b[0m\u001b[1;36m0.0001\u001b[0m\u001b[1;33m,\u001b[0m\u001b[0mtable\u001b[0m\u001b[1;33m=\u001b[0m\u001b[1;34m'yield_tables/isotope_yield_table_h1_c12.txt'\u001b[0m\u001b[1;33m,\u001b[0m\u001b[0msn1a_on\u001b[0m\u001b[1;33m=\u001b[0m\u001b[0mTrue\u001b[0m\u001b[1;33m,\u001b[0m \u001b[0msn1a_table\u001b[0m\u001b[1;33m=\u001b[0m\u001b[1;34m'yield_tables/sn1a_h1_c12.txt'\u001b[0m\u001b[1;33m,\u001b[0m \u001b[0miniabu_table\u001b[0m\u001b[1;33m=\u001b[0m\u001b[1;34m'yield_tables/iniabu/iniab1.0E-04GN93_alpha_h1_c12.ppn'\u001b[0m\u001b[1;33m,\u001b[0m\u001b[0mpop3_table\u001b[0m\u001b[1;33m=\u001b[0m\u001b[1;34m'yield_tables/popIII_h1_c12.txt'\u001b[0m\u001b[1;33m)\u001b[0m\u001b[1;33m\u001b[0m\u001b[0m\n\u001b[0m",
      "\u001b[1;32m/home/christian/NuGrid/SYGMA_PROJECT/GCE/OMEGA_SYGMA_New/sygma.pyc\u001b[0m in \u001b[0;36m__init__\u001b[1;34m(self, sfr, imf_type, alphaimf, imf_bdys, sn1a_rate, iniZ, dt, special_timesteps, tend, mgal, transitionmass, iolevel, ini_alpha, table, hardsetZ, sn1a_on, sn1a_table, iniabu_table, extra_source_on, extra_source_table, pop3_table, imf_bdys_pop3, imf_yields_range_pop3, starbursts, beta_pow, nb_1a_per_m, Z_trans, f_arfo, imf_yields_range)\u001b[0m\n\u001b[0;32m    214\u001b[0m                  \u001b[0mstarbursts\u001b[0m\u001b[1;33m=\u001b[0m\u001b[0mstarbursts\u001b[0m\u001b[1;33m,\u001b[0m \u001b[0mbeta_pow\u001b[0m\u001b[1;33m=\u001b[0m\u001b[0mbeta_pow\u001b[0m\u001b[1;33m,\u001b[0m\u001b[0;31m \u001b[0m\u001b[0;31m\\\u001b[0m\u001b[1;33m\u001b[0m\u001b[0m\n\u001b[0;32m    215\u001b[0m                  \u001b[0mnb_1a_per_m\u001b[0m\u001b[1;33m=\u001b[0m\u001b[0mnb_1a_per_m\u001b[0m\u001b[1;33m,\u001b[0m \u001b[0mZ_trans\u001b[0m\u001b[1;33m=\u001b[0m\u001b[0mZ_trans\u001b[0m\u001b[1;33m,\u001b[0m \u001b[0mf_arfo\u001b[0m\u001b[1;33m=\u001b[0m\u001b[0mf_arfo\u001b[0m\u001b[1;33m,\u001b[0m\u001b[0;31m \u001b[0m\u001b[0;31m\\\u001b[0m\u001b[1;33m\u001b[0m\u001b[0m\n\u001b[1;32m--> 216\u001b[1;33m                  imf_yields_range=imf_yields_range)\n\u001b[0m\u001b[0;32m    217\u001b[0m \u001b[1;33m\u001b[0m\u001b[0m\n\u001b[0;32m    218\u001b[0m         \u001b[1;32mif\u001b[0m \u001b[0mself\u001b[0m\u001b[1;33m.\u001b[0m\u001b[0mneed_to_quit\u001b[0m\u001b[1;33m:\u001b[0m\u001b[1;33m\u001b[0m\u001b[0m\n",
      "\u001b[1;32m/home/christian/NuGrid/SYGMA_PROJECT/GCE/OMEGA_SYGMA_New/chem_evol.pyc\u001b[0m in \u001b[0;36m__init__\u001b[1;34m(self, imf_type, alphaimf, imf_bdys, sn1a_rate, iniZ, dt, special_timesteps, tend, mgal, transitionmass, iolevel, ini_alpha, table, hardsetZ, sn1a_on, sn1a_table, iniabu_table, extra_source_on, extra_source_table, pop3_table, imf_bdys_pop3, imf_yields_range_pop3, starbursts, beta_pow, nb_1a_per_m, Z_trans, f_arfo, imf_yields_range)\u001b[0m\n\u001b[0;32m    261\u001b[0m \u001b[1;33m\u001b[0m\u001b[0m\n\u001b[0;32m    262\u001b[0m         \u001b[1;31m# Initialisation of the yield tables\u001b[0m\u001b[1;33m\u001b[0m\u001b[1;33m\u001b[0m\u001b[0m\n\u001b[1;32m--> 263\u001b[1;33m         \u001b[0mself\u001b[0m\u001b[1;33m.\u001b[0m\u001b[0m__set_yield_tables\u001b[0m\u001b[1;33m(\u001b[0m\u001b[1;33m)\u001b[0m\u001b[1;33m\u001b[0m\u001b[0m\n\u001b[0m\u001b[0;32m    264\u001b[0m \u001b[1;33m\u001b[0m\u001b[0m\n\u001b[0;32m    265\u001b[0m         \u001b[1;31m# Initialisation of the composition of the gas reservoir\u001b[0m\u001b[1;33m\u001b[0m\u001b[1;33m\u001b[0m\u001b[0m\n",
      "\u001b[1;32m/home/christian/NuGrid/SYGMA_PROJECT/GCE/OMEGA_SYGMA_New/chem_evol.pyc\u001b[0m in \u001b[0;36m__set_yield_tables\u001b[1;34m(self)\u001b[0m\n\u001b[0;32m    768\u001b[0m \u001b[1;33m\u001b[0m\u001b[0m\n\u001b[0;32m    769\u001b[0m         \u001b[1;31m# Read stellar yields\u001b[0m\u001b[1;33m\u001b[0m\u001b[1;33m\u001b[0m\u001b[0m\n\u001b[1;32m--> 770\u001b[1;33m         \u001b[0mytables\u001b[0m \u001b[1;33m=\u001b[0m \u001b[0mry\u001b[0m\u001b[1;33m.\u001b[0m\u001b[0mread_nugrid_yields\u001b[0m\u001b[1;33m(\u001b[0m\u001b[0mglobal_path\u001b[0m \u001b[1;33m+\u001b[0m \u001b[0mself\u001b[0m\u001b[1;33m.\u001b[0m\u001b[0mtable\u001b[0m\u001b[1;33m)\u001b[0m\u001b[1;33m\u001b[0m\u001b[0m\n\u001b[0m\u001b[0;32m    771\u001b[0m         \u001b[0mself\u001b[0m\u001b[1;33m.\u001b[0m\u001b[0mytables\u001b[0m \u001b[1;33m=\u001b[0m \u001b[0mytables\u001b[0m\u001b[1;33m\u001b[0m\u001b[0m\n\u001b[0;32m    772\u001b[0m \u001b[1;33m\u001b[0m\u001b[0m\n",
      "\u001b[1;32m/home/christian/NuGrid/SYGMA_PROJECT/GCE/OMEGA_SYGMA_New/read_yields.pyc\u001b[0m in \u001b[0;36m__init__\u001b[1;34m(self, nugridtable, isotopes)\u001b[0m\n\u001b[0;32m     56\u001b[0m             \u001b[0mos\u001b[0m\u001b[1;33m.\u001b[0m\u001b[0msystem\u001b[0m\u001b[1;33m(\u001b[0m\u001b[1;34m'sudo python delete.py '\u001b[0m\u001b[1;33m+\u001b[0m\u001b[0mnugridtable\u001b[0m\u001b[1;33m)\u001b[0m\u001b[1;33m\u001b[0m\u001b[0m\n\u001b[0;32m     57\u001b[0m         \u001b[1;32melse\u001b[0m\u001b[1;33m:\u001b[0m\u001b[1;33m\u001b[0m\u001b[0m\n\u001b[1;32m---> 58\u001b[1;33m             \u001b[0mfile1\u001b[0m\u001b[1;33m=\u001b[0m\u001b[0mopen\u001b[0m\u001b[1;33m(\u001b[0m\u001b[0mnugridtable\u001b[0m\u001b[1;33m)\u001b[0m\u001b[1;33m\u001b[0m\u001b[0m\n\u001b[0m\u001b[0;32m     59\u001b[0m             \u001b[0mlines\u001b[0m\u001b[1;33m=\u001b[0m\u001b[0mfile1\u001b[0m\u001b[1;33m.\u001b[0m\u001b[0mreadlines\u001b[0m\u001b[1;33m(\u001b[0m\u001b[1;33m)\u001b[0m\u001b[1;33m\u001b[0m\u001b[0m\n\u001b[0;32m     60\u001b[0m             \u001b[0mfile1\u001b[0m\u001b[1;33m.\u001b[0m\u001b[0mclose\u001b[0m\u001b[1;33m(\u001b[0m\u001b[1;33m)\u001b[0m\u001b[1;33m\u001b[0m\u001b[0m\n",
      "\u001b[1;31mIOError\u001b[0m: [Errno 2] No such file or directory: '/home/christian/NuGrid/SYGMA_PROJECT/GCE/OMEGA_SYGMA_New/yield_tables/isotope_yield_table_h1_c12.txt'"
     ]
    }
   ],
   "source": [
    "s3=s.sygma(iolevel=0,mgal=1e11,dt=1e7,tend=1.3e10,imf_type='salpeter',imf_bdys=[1,30],hardsetZ=0.0001,table='yield_tables/isotope_yield_table_h1_c12.txt',sn1a_on=True, sn1a_table='yield_tables/sn1a_h1_c12.txt', iniabu_table='yield_tables/iniabu/iniab1.0E-04GN93_alpha_h1_c12.ppn',pop3_table='yield_tables/popIII_h1_c12.txt')\n"
   ]
  },
  {
   "cell_type": "code",
   "execution_count": 6,
   "metadata": {
    "collapsed": false
   },
   "outputs": [],
   "source": []
  }
 ],
 "metadata": {
  "kernelspec": {
   "display_name": "Python 2",
   "language": "python",
   "name": "python2"
  },
  "language_info": {
   "codemirror_mode": {
    "name": "ipython",
    "version": 2
   },
   "file_extension": ".py",
   "mimetype": "text/x-python",
   "name": "python",
   "nbconvert_exporter": "python",
   "pygments_lexer": "ipython2",
   "version": "2.7.8"
  }
 },
 "nbformat": 4,
 "nbformat_minor": 0
}
