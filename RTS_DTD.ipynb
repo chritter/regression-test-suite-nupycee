{
 "cells": [
  {
   "cell_type": "markdown",
   "metadata": {},
   "source": [
    "# To test the input parameter for the DTDs."
   ]
  },
  {
   "cell_type": "code",
   "execution_count": null,
   "metadata": {
    "collapsed": true
   },
   "outputs": [],
   "source": []
  },
  {
   "cell_type": "code",
   "execution_count": 13,
   "metadata": {
    "collapsed": false
   },
   "outputs": [
    {
     "name": "stderr",
     "output_type": "stream",
     "text": [
      "/home/christian/test/ipython/IPython/kernel/__init__.py:10: UserWarning: The `IPython.kernel` package has been deprecated. You should import from ipython_kernel or jupyter_client instead.\n",
      "  warn(\"The `IPython.kernel` package has been deprecated. \"\n"
     ]
    }
   ],
   "source": [
    "import sygma as s\n",
    "from scipy.integrate import quad\n",
    "from scipy.interpolate import UnivariateSpline\n",
    "import numpy as np\n",
    "import matplotlib.pyplot as plt\n",
    "%matplotlib inline"
   ]
  },
  {
   "cell_type": "markdown",
   "metadata": {},
   "source": [
    "# Gaussian "
   ]
  },
  {
   "cell_type": "markdown",
   "metadata": {},
   "source": [
    "## gauss_dtd=[3.3e9,6.6e8] (as used in Wiersma09)"
   ]
  },
  {
   "cell_type": "code",
   "execution_count": 14,
   "metadata": {
    "collapsed": true
   },
   "outputs": [],
   "source": [
    "gauss_dtd=[1e9,6.6e8]"
   ]
  },
  {
   "cell_type": "code",
   "execution_count": 8,
   "metadata": {
    "collapsed": false
   },
   "outputs": [
    {
     "name": "stdout",
     "output_type": "stream",
     "text": [
      "SYGMA run in progress..\n",
      "   SYGMA run completed - Run time: 0.87s\n"
     ]
    }
   ],
   "source": [
    "reload(s)\n",
    "s2=s.sygma(iolevel=0,mgal=1e11,dt=1e7,tend=1.3e10,sn1a_rate='gauss',gauss_dtd=gauss_dtd,imf_type='salpeter',imf_bdys=[1,30],hardsetZ=0.0001,table='yield_tables/isotope_yield_table_h1.txt',sn1a_on=True, sn1a_table='yield_tables/sn1a_h1.txt', iniabu_table='yield_tables/iniabu/iniab1.0E-04GN93_alpha_h1.ppn')\n",
    "Yield_tot_sim=s2.history.ism_iso_yield_1a[-1][0]\n",
    "zm_lifetime_grid=s2.zm_lifetime_grid_current\n",
    "idx_z = (np.abs(zm_lifetime_grid[0]-0.0001)).argmin() #Z=0\n",
    "grid_masses=zm_lifetime_grid[1][::-1]\n",
    "grid_lifetimes=zm_lifetime_grid[2][idx_z][::-1]\n",
    "spline_degree1=2\n",
    "smoothing1=0\n",
    "boundary=[None,None]\n",
    "spline = UnivariateSpline(grid_lifetimes,np.log10(grid_masses),bbox=boundary,k=spline_degree1,s=smoothing1)"
   ]
  },
  {
   "cell_type": "code",
   "execution_count": 15,
   "metadata": {
    "collapsed": false
   },
   "outputs": [
    {
     "name": "stdout",
     "output_type": "stream",
     "text": [
      "9999999.99403\n",
      "10000000.0\n",
      "Should be 1:  0.999999999403\n"
     ]
    },
    {
     "data": {
      "image/png": "[encoded data removed]",
      "text/plain": [
       "<matplotlib.figure.Figure at 0xae64292c>"
      ]
     },
     "metadata": {},
     "output_type": "display_data"
    }
   ],
   "source": [
    "from scipy.integrate import dblquad\n",
    "def spline1(x):\n",
    "    #x=t\n",
    "    return max(3.,10**spline(np.log10(x)))\n",
    "def f_wd_dtd(m,t):\n",
    "        #print 'time ',t\n",
    "        #print 'mass ',m\n",
    "        mlim=10**spline(np.log10(t))\n",
    "        #print 'mlim',mlim\n",
    "        if mlim>8.:\n",
    "                #print t\n",
    "                #print mlim\n",
    "                return 0\n",
    "        else:\n",
    "                #mmin=max(3.,massfunc(t))\n",
    "                #mmax=8.\n",
    "                #imf=self.__imf(mmin,mmax,1)\n",
    "                #Delay time distribution function (DTD)\n",
    "                [1e9,6.6e8]\n",
    "                tau=  gauss_dtd[0] #1e9 #3.3e9 #characteristic delay time\n",
    "                sigma=gauss_dtd[1]  #0.66e9#0.25*tau \n",
    "                #sigma=0.2#narrow distribution\n",
    "                #sigma=0.5*tau #wide distribution\n",
    "                mmin=0\n",
    "                mmax=0\n",
    "                inte=0\n",
    "                def g2(mm):\n",
    "                    return mm*mm**-2.35\n",
    "                norm=1./quad(g2,1,30)[0]\n",
    "                #imf normalized to 1Msun\n",
    "                return  norm*m**-2.35* 1./np.sqrt(2*np.pi*sigma**2) * np.exp(-(t-tau)**2/(2*sigma**2))\n",
    "                \n",
    "#a= 0.0069 #normalization parameter\n",
    "#if spline(np.log10(t))\n",
    "a=1e-3/(dblquad(f_wd_dtd,0,1.3e10,lambda x: spline1(x), lambda x: 8)[0] )\n",
    "n1a= a* dblquad(f_wd_dtd,0,1.3e10,lambda x: spline1(x), lambda x: 8)[0]            \n",
    "Yield_tot=n1a*1e11*0.1 #special factor\n",
    "print Yield_tot_sim\n",
    "print Yield_tot\n",
    "print 'Should be 1: ', Yield_tot_sim/Yield_tot\n",
    "s2.plot_mass(specie='H',source='sn1a',label='H',color='k',shape='-',marker='o',markevery=800)\n",
    "yields1=[]\n",
    "ages1=[]\n",
    "m=[1,1.65,2,3,4,5,6,7,12,15,20,25]\n",
    "ages=[5.67e9,1.211e9,6.972e8,2.471e8,1.347e8,8.123e7,5.642e7,4.217e7,1.892e7,1.381e7,9.895e6,7.902e6]\n",
    "for m1 in m:\n",
    "    t=ages[m.index(m1)]\n",
    "    yields= a* dblquad(f_wd_dtd,0,t,lambda x: spline1(x), lambda x: 8)[0] *1e11*0.1 #special factor\n",
    "    yields1.append(yields)\n",
    "    ages1.append(t)\n",
    "plt.plot(ages1,yields1,marker='+',linestyle='',markersize=20,label='semi')\n",
    "plt.legend(loc=2)\n",
    "plt.show()"
   ]
  },
  {
   "cell_type": "markdown",
   "metadata": {},
   "source": [
    "## gauss_dtd=[4e9,3.2e9] (as mentioned in Wiersma09)"
   ]
  },
  {
   "cell_type": "code",
   "execution_count": 17,
   "metadata": {
    "collapsed": true
   },
   "outputs": [],
   "source": [
    "gauss_dtd=[4e9,2e9]"
   ]
  },
  {
   "cell_type": "code",
   "execution_count": 18,
   "metadata": {
    "collapsed": false
   },
   "outputs": [
    {
     "name": "stdout",
     "output_type": "stream",
     "text": [
      "SYGMA run in progress..\n",
      "   SYGMA run completed - Run time: 0.58s\n"
     ]
    }
   ],
   "source": [
    "reload(s)\n",
    "s2=s.sygma(iolevel=0,mgal=1e11,dt=1e7,tend=1.3e10,sn1a_rate='gauss',gauss_dtd=gauss_dtd,imf_type='salpeter',imf_bdys=[1,30],hardsetZ=0.0001,table='yield_tables/isotope_yield_table_h1.txt',sn1a_on=True, sn1a_table='yield_tables/sn1a_h1.txt', iniabu_table='yield_tables/iniabu/iniab1.0E-04GN93_alpha_h1.ppn')\n",
    "Yield_tot_sim=s2.history.ism_iso_yield_1a[-1][0]\n",
    "zm_lifetime_grid=s2.zm_lifetime_grid_current\n",
    "idx_z = (np.abs(zm_lifetime_grid[0]-0.0001)).argmin() #Z=0\n",
    "grid_masses=zm_lifetime_grid[1][::-1]\n",
    "grid_lifetimes=zm_lifetime_grid[2][idx_z][::-1]\n",
    "spline_degree1=2\n",
    "smoothing1=0\n",
    "boundary=[None,None]\n",
    "spline = UnivariateSpline(grid_lifetimes,np.log10(grid_masses),bbox=boundary,k=spline_degree1,s=smoothing1)"
   ]
  },
  {
   "cell_type": "code",
   "execution_count": 19,
   "metadata": {
    "collapsed": false
   },
   "outputs": [
    {
     "name": "stdout",
     "output_type": "stream",
     "text": [
      "10000051.6885\n",
      "10000000.0\n",
      "Should be 1:  1.00000516885\n"
     ]
    },
    {
     "data": {
      "image/png": "[encoded data removed]",
      "text/plain": [
       "<matplotlib.figure.Figure at 0xae44c5ac>"
      ]
     },
     "metadata": {},
     "output_type": "display_data"
    }
   ],
   "source": [
    "from scipy.integrate import dblquad\n",
    "def spline1(x):\n",
    "    #x=t\n",
    "    return max(3.,10**spline(np.log10(x)))\n",
    "def f_wd_dtd(m,t):\n",
    "        #print 'time ',t\n",
    "        #print 'mass ',m\n",
    "        mlim=10**spline(np.log10(t))\n",
    "        #print 'mlim',mlim\n",
    "        if mlim>8.:\n",
    "                #print t\n",
    "                #print mlim\n",
    "                return 0\n",
    "        else:\n",
    "                #mmin=max(3.,massfunc(t))\n",
    "                #mmax=8.\n",
    "                #imf=self.__imf(mmin,mmax,1)\n",
    "                #Delay time distribution function (DTD)\n",
    "                [1e9,6.6e8]\n",
    "                tau=  gauss_dtd[0] #1e9 #3.3e9 #characteristic delay time\n",
    "                sigma=gauss_dtd[1]  #0.66e9#0.25*tau \n",
    "                #sigma=0.2#narrow distribution\n",
    "                #sigma=0.5*tau #wide distribution\n",
    "                mmin=0\n",
    "                mmax=0\n",
    "                inte=0\n",
    "                def g2(mm):\n",
    "                    return mm*mm**-2.35\n",
    "                norm=1./quad(g2,1,30)[0]\n",
    "                #imf normalized to 1Msun\n",
    "                return  norm*m**-2.35* 1./np.sqrt(2*np.pi*sigma**2) * np.exp(-(t-tau)**2/(2*sigma**2))\n",
    "                \n",
    "#a= 0.0069 #normalization parameter\n",
    "#if spline(np.log10(t))\n",
    "a=1e-3/(dblquad(f_wd_dtd,0,1.3e10,lambda x: spline1(x), lambda x: 8)[0] )\n",
    "n1a= a* dblquad(f_wd_dtd,0,1.3e10,lambda x: spline1(x), lambda x: 8)[0]            \n",
    "Yield_tot=n1a*1e11*0.1 #special factor\n",
    "print Yield_tot_sim\n",
    "print Yield_tot\n",
    "print 'Should be 1: ', Yield_tot_sim/Yield_tot\n",
    "s2.plot_mass(specie='H',source='sn1a',label='H',color='k',shape='-',marker='o',markevery=800)\n",
    "yields1=[]\n",
    "ages1=[]\n",
    "m=[1,1.65,2,3,4,5,6,7,12,15,20,25]\n",
    "ages=[5.67e9,1.211e9,6.972e8,2.471e8,1.347e8,8.123e7,5.642e7,4.217e7,1.892e7,1.381e7,9.895e6,7.902e6]\n",
    "for m1 in m:\n",
    "    t=ages[m.index(m1)]\n",
    "    yields= a* dblquad(f_wd_dtd,0,t,lambda x: spline1(x), lambda x: 8)[0] *1e11*0.1 #special factor\n",
    "    yields1.append(yields)\n",
    "    ages1.append(t)\n",
    "plt.plot(ages1,yields1,marker='+',linestyle='',markersize=20,label='semi')\n",
    "plt.legend(loc=2)\n",
    "plt.show()"
   ]
  },
  {
   "cell_type": "markdown",
   "metadata": {},
   "source": [
    "# Exponential"
   ]
  },
  {
   "cell_type": "markdown",
   "metadata": {},
   "source": [
    "## exp_dtd (as used in Wiersma09) 2e9"
   ]
  },
  {
   "cell_type": "code",
   "execution_count": 27,
   "metadata": {
    "collapsed": true
   },
   "outputs": [],
   "source": [
    "exp_dtd=2e9"
   ]
  },
  {
   "cell_type": "code",
   "execution_count": 23,
   "metadata": {
    "collapsed": false
   },
   "outputs": [
    {
     "name": "stdout",
     "output_type": "stream",
     "text": [
      "SYGMA run in progress..\n",
      "   SYGMA run completed - Run time: 1.04s\n"
     ]
    },
    {
     "data": {
      "text/plain": [
       "<matplotlib.legend.Legend at 0xaf00b1ec>"
      ]
     },
     "execution_count": 23,
     "metadata": {},
     "output_type": "execute_result"
    },
    {
     "data": {
      "image/png": "[encoded data removed]",
      "text/plain": [
       "<matplotlib.figure.Figure at 0xae95626c>"
      ]
     },
     "metadata": {},
     "output_type": "display_data"
    }
   ],
   "source": [
    "#import read_yields as ry\n",
    "import sygma as s\n",
    "reload(s)\n",
    "#interpolate_lifetimes_grid=s22.__interpolate_lifetimes_grid\n",
    "#ytables=ry.read_nugrid_yields('yield_tables/isotope_yield_table_h1.txt')\n",
    "#zm_lifetime_grid=interpolate_lifetimes_grid(ytables,iolevel=0) 1e7\n",
    "s1=s.sygma(iolevel=0,mgal=1e11,dt=1e7,tend=1.3e10,sn1a_on=True,sn1a_rate='exp',exp_dtd=exp_dtd,imf_type='salpeter',imf_bdys=[1,30],hardsetZ=0.0001,table='yield_tables/isotope_yield_table_h1.txt', sn1a_table='yield_tables/sn1a_h1.txt', iniabu_table='yield_tables/iniabu/iniab1.0E-04GN93_alpha_h1.ppn')\n",
    "Yield_tot_sim=s1.history.ism_iso_yield_1a[-1][0]\n",
    "zm_lifetime_grid=s1.zm_lifetime_grid_current\n",
    "idx_z = (np.abs(zm_lifetime_grid[0]-0.0001)).argmin() #Z=0\n",
    "grid_masses=zm_lifetime_grid[1][::-1]\n",
    "grid_lifetimes=zm_lifetime_grid[2][idx_z][::-1]\n",
    "spline_degree1=2\n",
    "smoothing1=0\n",
    "boundary=[None,None]\n",
    "spline_lifetime = UnivariateSpline(grid_lifetimes,np.log10(grid_masses),bbox=boundary,k=spline_degree1,s=smoothing1)\n",
    "plt.plot(grid_masses,grid_lifetimes,label='spline fit grid points (SYGMA)')\n",
    "plt.xlabel('Mini/Msun')\n",
    "plt.ylabel('log lifetime')\n",
    "m=[1,1.65,2,3,4,5,6,7,12,15,20,25]\n",
    "ages=[5.67e9,1.211e9,6.972e8,2.471e8,1.347e8,8.123e7,5.642e7,4.217e7,1.892e7,1.381e7,9.895e6,7.902e6]\n",
    "plt.plot(np.array(m),np.log10(np.array(ages)),marker='+',markersize=20,label='input yield grid',linestyle='None')\n",
    "plt.plot(10**spline_lifetime(np.log10(ages)),np.log10(ages),linestyle='--',label='spline fit SNIa')\n",
    "plt.legend()\n",
    "#plt.yscale('log')"
   ]
  },
  {
   "cell_type": "code",
   "execution_count": 25,
   "metadata": {
    "collapsed": false
   },
   "outputs": [
    {
     "name": "stdout",
     "output_type": "stream",
     "text": [
      "10000000.0201\n",
      "10000000.0\n",
      "Should be :  1.00000000201\n"
     ]
    },
    {
     "data": {
      "text/plain": [
       "<matplotlib.legend.Legend at 0xaef7896c>"
      ]
     },
     "execution_count": 25,
     "metadata": {},
     "output_type": "execute_result"
    },
    {
     "data": {
      "image/png": "[encoded data removed]",
      "text/plain": [
       "<matplotlib.figure.Figure at 0xaef1872c>"
      ]
     },
     "metadata": {},
     "output_type": "display_data"
    }
   ],
   "source": [
    "#following inside function wiersma09_efolding\n",
    "\n",
    "#if timemin ==0:\n",
    "#    timemin=1\n",
    "\n",
    "from scipy.integrate import dblquad\n",
    "def spline1(x):\n",
    "    #x=t\n",
    "    minm_prog1a=3\n",
    "    #if minimum progenitor mass is larger than 3Msun due to IMF range:\n",
    "    #if self.imf_bdys[0]>3:\n",
    "    #    minm_prog1a=self.imf_bdys[0]\n",
    "    return max(minm_prog1a,10**spline_lifetime(np.log10(x)))\n",
    "\n",
    "\n",
    "def f_wd_dtd(m,t):\n",
    "                #print 'time ',t\n",
    "                #print 'mass ',m\n",
    "                mlim=10**spline_lifetime(np.log10(t))\n",
    "                maxm_prog1a=8\n",
    "                #if maximum progenitor mass is smaller than 8Msun due to IMF range:\n",
    "                #if 8>self.imf_bdys[1]:\n",
    "                #        maxm_prog1a=self.imf_bdys[1]\n",
    "                if mlim>maxm_prog1a:\n",
    "                        return 0\n",
    "                else:\n",
    "                        #Delay time distribution function (DTD)\n",
    "                        tau=  2e9\n",
    "                        mmin=0\n",
    "                        mmax=0\n",
    "                        inte=0\n",
    "                #follwing is done in __imf()\n",
    "                def g2(mm):\n",
    "                    return mm*mm**-2.35\n",
    "                norm=1./quad(g2,1,30)[0]\n",
    "                #print 'IMF test',norm*m**-2.35\n",
    "                #imf normalized to 1Msun\n",
    "                return  norm*m**-2.35* np.exp(-t/tau)/tau\n",
    "                \n",
    "a= 0.01 #normalization parameter\n",
    "#if spline(np.log10(t))\n",
    "#a=1e-3/()\n",
    "a=1e-3/(dblquad(f_wd_dtd,0,1.3e10,lambda x: spline1(x), lambda x: 8)[0]   )\n",
    "n1a= a* dblquad(f_wd_dtd,0,1.3e10,lambda x: spline1(x), lambda x: 8)[0]   \n",
    "# in principle since normalization is set: nb_1a_per_m the above calculation is not necessary anymore\n",
    "Yield_tot=n1a*1e11*0.1 *1 #7 #special factor\n",
    "print Yield_tot_sim\n",
    "print Yield_tot\n",
    "print 'Should be : ', Yield_tot_sim/Yield_tot\n",
    "s1.plot_mass(specie='H',source='sn1a',label='H',color='k',shape='-',marker='o',markevery=800)\n",
    "yields1=[]\n",
    "ages1=[]\n",
    "a= 0.01 #normalization parameter\n",
    "a=1e-3/(dblquad(f_wd_dtd,0,1.3e10,lambda x: spline1(x), lambda x: 8)[0]   )\n",
    "for m1 in m:\n",
    "    t=ages[m.index(m1)]\n",
    "    yields= a* dblquad(f_wd_dtd,0,t,lambda x: spline1(x), lambda x: 8)[0] *1e11*0.1 #special factor \n",
    "    yields1.append(yields)\n",
    "    ages1.append(t)\n",
    "plt.plot(ages1,yields1,marker='+',linestyle='',markersize=20,label='semi')\n",
    "plt.legend(loc=4)"
   ]
  },
  {
   "cell_type": "markdown",
   "metadata": {},
   "source": [
    "## exp_dtd (as used in Wiersma09)"
   ]
  },
  {
   "cell_type": "code",
   "execution_count": 36,
   "metadata": {
    "collapsed": true
   },
   "outputs": [],
   "source": [
    "exp_dtd=10e9"
   ]
  },
  {
   "cell_type": "code",
   "execution_count": 37,
   "metadata": {
    "collapsed": false
   },
   "outputs": [
    {
     "name": "stdout",
     "output_type": "stream",
     "text": [
      "SYGMA run in progress..\n",
      "   SYGMA run completed - Run time: 0.84s\n"
     ]
    },
    {
     "data": {
      "text/plain": [
       "<matplotlib.legend.Legend at 0xaeab664c>"
      ]
     },
     "execution_count": 37,
     "metadata": {},
     "output_type": "execute_result"
    },
    {
     "data": {
      "image/png": "[encoded data removed]",
      "text/plain": [
       "<matplotlib.figure.Figure at 0xaf03822c>"
      ]
     },
     "metadata": {},
     "output_type": "display_data"
    }
   ],
   "source": [
    "#import read_yields as ry\n",
    "import sygma as s\n",
    "reload(s)\n",
    "#interpolate_lifetimes_grid=s22.__interpolate_lifetimes_grid\n",
    "#ytables=ry.read_nugrid_yields('yield_tables/isotope_yield_table_h1.txt')\n",
    "#zm_lifetime_grid=interpolate_lifetimes_grid(ytables,iolevel=0) 1e7\n",
    "s1=s.sygma(iolevel=0,mgal=1e11,dt=1e7,tend=1.3e10,sn1a_on=True,sn1a_rate='exp',exp_dtd=exp_dtd,imf_type='salpeter',imf_bdys=[1,30],hardsetZ=0.0001,table='yield_tables/isotope_yield_table_h1.txt', sn1a_table='yield_tables/sn1a_h1.txt', iniabu_table='yield_tables/iniabu/iniab1.0E-04GN93_alpha_h1.ppn')\n",
    "Yield_tot_sim=s1.history.ism_iso_yield_1a[-1][0]\n",
    "zm_lifetime_grid=s1.zm_lifetime_grid_current\n",
    "idx_z = (np.abs(zm_lifetime_grid[0]-0.0001)).argmin() #Z=0\n",
    "grid_masses=zm_lifetime_grid[1][::-1]\n",
    "grid_lifetimes=zm_lifetime_grid[2][idx_z][::-1]\n",
    "spline_degree1=2\n",
    "smoothing1=0\n",
    "boundary=[None,None]\n",
    "spline_lifetime = UnivariateSpline(grid_lifetimes,np.log10(grid_masses),bbox=boundary,k=spline_degree1,s=smoothing1)\n",
    "plt.plot(grid_masses,grid_lifetimes,label='spline fit grid points (SYGMA)')\n",
    "plt.xlabel('Mini/Msun')\n",
    "plt.ylabel('log lifetime')\n",
    "m=[1,1.65,2,3,4,5,6,7,12,15,20,25]\n",
    "ages=[5.67e9,1.211e9,6.972e8,2.471e8,1.347e8,8.123e7,5.642e7,4.217e7,1.892e7,1.381e7,9.895e6,7.902e6]\n",
    "plt.plot(np.array(m),np.log10(np.array(ages)),marker='+',markersize=20,label='input yield grid',linestyle='None')\n",
    "plt.plot(10**spline_lifetime(np.log10(ages)),np.log10(ages),linestyle='--',label='spline fit SNIa')\n",
    "plt.legend()\n",
    "#plt.yscale('log')"
   ]
  },
  {
   "cell_type": "code",
   "execution_count": 38,
   "metadata": {
    "collapsed": false
   },
   "outputs": [
    {
     "name": "stdout",
     "output_type": "stream",
     "text": [
      "10000000.0039\n",
      "10000000.0\n",
      "Should be :  1.00000000039\n"
     ]
    },
    {
     "data": {
      "text/plain": [
       "<matplotlib.legend.Legend at 0xade4916c>"
      ]
     },
     "execution_count": 38,
     "metadata": {},
     "output_type": "execute_result"
    },
    {
     "data": {
      "image/png": "[encoded data removed]",
      "text/plain": [
       "<matplotlib.figure.Figure at 0xadeabbcc>"
      ]
     },
     "metadata": {},
     "output_type": "display_data"
    }
   ],
   "source": [
    "#following inside function wiersma09_efolding\n",
    "\n",
    "#if timemin ==0:\n",
    "#    timemin=1\n",
    "\n",
    "from scipy.integrate import dblquad\n",
    "def spline1(x):\n",
    "    #x=t\n",
    "    minm_prog1a=3\n",
    "    #if minimum progenitor mass is larger than 3Msun due to IMF range:\n",
    "    #if self.imf_bdys[0]>3:\n",
    "    #    minm_prog1a=self.imf_bdys[0]\n",
    "    return max(minm_prog1a,10**spline_lifetime(np.log10(x)))\n",
    "\n",
    "\n",
    "def f_wd_dtd(m,t):\n",
    "                #print 'time ',t\n",
    "                #print 'mass ',m\n",
    "                mlim=10**spline_lifetime(np.log10(t))\n",
    "                maxm_prog1a=8\n",
    "                #if maximum progenitor mass is smaller than 8Msun due to IMF range:\n",
    "                #if 8>self.imf_bdys[1]:\n",
    "                #        maxm_prog1a=self.imf_bdys[1]\n",
    "                if mlim>maxm_prog1a:\n",
    "                        return 0\n",
    "                else:\n",
    "                        #Delay time distribution function (DTD)\n",
    "                        tau=  exp_dtd\n",
    "                        mmin=0\n",
    "                        mmax=0\n",
    "                        inte=0\n",
    "                #follwing is done in __imf()\n",
    "                def g2(mm):\n",
    "                    return mm*mm**-2.35\n",
    "                norm=1./quad(g2,1,30)[0]\n",
    "                #print 'IMF test',norm*m**-2.35\n",
    "                #imf normalized to 1Msun\n",
    "                return  norm*m**-2.35* np.exp(-t/tau)/tau\n",
    "                \n",
    "a= 0.01 #normalization parameter\n",
    "#if spline(np.log10(t))\n",
    "#a=1e-3/()\n",
    "a=1e-3/(dblquad(f_wd_dtd,0,1.3e10,lambda x: spline1(x), lambda x: 8)[0]   )\n",
    "n1a= a* dblquad(f_wd_dtd,0,1.3e10,lambda x: spline1(x), lambda x: 8)[0]   \n",
    "# in principle since normalization is set: nb_1a_per_m the above calculation is not necessary anymore\n",
    "Yield_tot=n1a*1e11*0.1 *1 #7 #special factor\n",
    "print Yield_tot_sim\n",
    "print Yield_tot\n",
    "print 'Should be : ', Yield_tot_sim/Yield_tot\n",
    "s1.plot_mass(specie='H',source='sn1a',label='H',color='k',shape='-',marker='o',markevery=800)\n",
    "yields1=[]\n",
    "ages1=[]\n",
    "a= 0.01 #normalization parameter\n",
    "a=1e-3/(dblquad(f_wd_dtd,0,1.3e10,lambda x: spline1(x), lambda x: 8)[0]   )\n",
    "for m1 in m:\n",
    "    t=ages[m.index(m1)]\n",
    "    yields= a* dblquad(f_wd_dtd,0,t,lambda x: spline1(x), lambda x: 8)[0] *1e11*0.1 #special factor \n",
    "    yields1.append(yields)\n",
    "    ages1.append(t)\n",
    "plt.plot(ages1,yields1,marker='+',linestyle='',markersize=20,label='semi')\n",
    "plt.legend(loc=4)"
   ]
  },
  {
   "cell_type": "code",
   "execution_count": null,
   "metadata": {
    "collapsed": true
   },
   "outputs": [],
   "source": []
  }
 ],
 "metadata": {
  "kernelspec": {
   "display_name": "Python 2",
   "language": "python",
   "name": "python2"
  },
  "language_info": {
   "codemirror_mode": {
    "name": "ipython",
    "version": 2
   },
   "file_extension": ".py",
   "mimetype": "text/x-python",
   "name": "python",
   "nbconvert_exporter": "python",
   "pygments_lexer": "ipython2",
   "version": "2.7.8"
  }
 },
 "nbformat": 4,
 "nbformat_minor": 0
}
