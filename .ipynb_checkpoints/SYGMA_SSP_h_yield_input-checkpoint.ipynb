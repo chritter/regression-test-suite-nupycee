{
 "cells": [
  {
   "cell_type": "markdown",
   "metadata": {},
   "source": [
    "# Regression test suite: Test of basic SSP GCE features"
   ]
  },
  {
   "cell_type": "markdown",
   "metadata": {},
   "source": [
    "Test of SSP with artificial yields,pure h1 yields, provided in NuGrid tables (no PopIII tests here). Focus are basic GCE features.\n",
    "You can find the documentation <a href=\"doc/sygma.html\">here</a>.\n",
    "\n",
    "Before starting the test make sure that use the standard yield input files.\n",
    "\n",
    "\n",
    "\n"
   ]
  },
  {
   "cell_type": "markdown",
   "metadata": {},
   "source": [
    "## Outline:"
   ]
  },
  {
   "cell_type": "markdown",
   "metadata": {},
   "source": [
    "$\\odot$ Evolution of ISM fine\n",
    "\n",
    "$\\odot$ Sources of massive and AGB stars distinguished\n",
    "\n",
    "$\\odot$ Test of final mass of ISM for different IMF boundaries\n",
    "\n",
    "$\\odot$ Test of Salpeter, Chabrier, Kroupa IMF by checking  the evolution of ISM mass (incl. alphaimf)\n",
    "\n",
    "$\\odot$ Test if SNIa on/off works\n",
    "\n",
    "$\\odot$ Test of the three SNIa implementations, the evolution of SN1a contributions\n",
    "\n",
    "$\\odot$ Test of parameter tend, dt and special_timesteps\n",
    "\n",
    "$\\odot$ Test of parmeter mgal\n",
    "\n",
    "$\\odot$ Test of parameter transitionmass\n",
    "\n",
    "TODO: test non-linear yield fitting (hard set in code right now, no input parameter provided)\n"
   ]
  },
  {
   "cell_type": "code",
   "execution_count": 1,
   "metadata": {
    "collapsed": false
   },
   "outputs": [
    {
     "name": "stdout",
     "output_type": "stream",
     "text": [
      "Populating the interactive namespace from numpy and matplotlib\n"
     ]
    }
   ],
   "source": [
    "#from imp import *\n",
    "#s=load_source('sygma','/home/nugrid/nugrid/SYGMA/SYGMA_online/SYGMA_dev/sygma.py')\n",
    "%pylab nbagg\n",
    "import sygma as s\n",
    "reload(s)\n",
    "s.__file__\n",
    "#import matplotlib\n",
    "#matplotlib.use('nbagg')\n",
    "#import matplotlib.pyplot as plt\n",
    "#matplotlib.use('nbagg')\n",
    "#import numpy as np\n",
    "from scipy.integrate import quad\n",
    "from scipy.interpolate import UnivariateSpline\n",
    "import os"
   ]
  },
  {
   "cell_type": "markdown",
   "metadata": {},
   "source": [
    "### IMF notes:"
   ]
  },
  {
   "cell_type": "markdown",
   "metadata": {},
   "source": [
    "The IMF allows to calculate the number of stars $N_{12}$ in the mass interval [m1,m2] with\n",
    "\n",
    "(I) $N_{12}$ = k_N $\\int _{m1}^{m2} m^{-2.35} dm$ \n",
    "\n",
    "Where k_N is the normalization constant. It can be derived from the total amount of mass of the system $M_{tot}$\n",
    "since the total mass $M_{12}$ in the mass interval above can be estimated with\n",
    "\n",
    "(II) $M_{12}$ = k_N $\\int _{m1}^{m2} m^{-1.35} dm$\n",
    "\n",
    "With a total mass interval of [1,30] and $M_{tot}=1e11$ the $k_N$ can be derived:\n",
    "\n",
    "$1e11 = k_N/0.35 * (1^{-0.35} - 30^{-0.35})$"
   ]
  },
  {
   "cell_type": "code",
   "execution_count": 2,
   "metadata": {
    "collapsed": false
   },
   "outputs": [],
   "source": [
    "k_N=1e11*0.35/ (1**-0.35 - 30**-0.35) #(I)"
   ]
  },
  {
   "cell_type": "markdown",
   "metadata": {},
   "source": [
    "The total number of stars $N_{tot}$ is then:"
   ]
  },
  {
   "cell_type": "code",
   "execution_count": 3,
   "metadata": {
    "collapsed": false
   },
   "outputs": [
    {
     "name": "stdout",
     "output_type": "stream",
     "text": [
      "36877281297.2\n"
     ]
    }
   ],
   "source": [
    "N_tot=k_N/1.35 * (1**-1.35 - 30**-1.35) #(II)\n",
    "print N_tot"
   ]
  },
  {
   "cell_type": "markdown",
   "metadata": {},
   "source": [
    "With a yield ejected of $0.1 Msun$, the total amount ejected is:"
   ]
  },
  {
   "cell_type": "code",
   "execution_count": 4,
   "metadata": {
    "collapsed": false
   },
   "outputs": [
    {
     "name": "stdout",
     "output_type": "stream",
     "text": [
      "0.0368772812972\n"
     ]
    }
   ],
   "source": [
    "Yield_tot=0.1*N_tot\n",
    "print Yield_tot/1e11"
   ]
  },
  {
   "cell_type": "markdown",
   "metadata": {},
   "source": [
    "compared to the simulation:"
   ]
  },
  {
   "cell_type": "code",
   "execution_count": 5,
   "metadata": {
    "collapsed": false,
    "scrolled": false
   },
   "outputs": [
    {
     "name": "stdout",
     "output_type": "stream",
     "text": [
      "SYGMA run in progress..\n",
      "   SYGMA run completed - Run time: 1.11s\n"
     ]
    }
   ],
   "source": [
    "import sygma as s\n",
    "reload(s)\n",
    "s1=s.sygma(iolevel=0,mgal=1e11,dt=1e7,imf_type='salpeter',imf_bdys=[1,30],iniZ=0.02,hardsetZ=0.0001,table='yield_tables/isotope_yield_table_h1.txt',sn1a_on=True, sn1a_table='yield_tables/sn1a_h1.txt', iniabu_table='yield_tables/iniabu/iniab1.0E-04GN93_alpha_h1.ppn',pop3_table='yield_tables/popIII_h1.txt')\n",
    "Yield_tot_sim=s1.history.ism_iso_yield[-1][0]\n",
    "% matplotlib inline"
   ]
  },
  {
   "cell_type": "code",
   "execution_count": 6,
   "metadata": {
    "collapsed": false
   },
   "outputs": [],
   "source": [
    "import read_yields as ry\n",
    "path = os.environ['SYGMADIR']+'/yield_tables/isotope_yield_table.txt'\n",
    "#path='/home/christian/NuGrid/SYGMA_PROJECT/NUPYCEE/new/nupycee.bitbucket.org/yield_tables/isotope_yield_table.txt'\n",
    "ytables = ry.read_nugrid_yields(path,excludemass=[32,60])\n",
    "zm_lifetime_grid=s1.zm_lifetime_grid_current #__interpolate_lifetimes_grid()\n",
    "#return           [[metallicities Z1,Z2,...], [masses], [[log10(lifetimesofZ1)],\n",
    "#           [log10(lifetimesofZ2)],..] ]\n",
    "#s1.__find_lifetimes()\n",
    "\n",
    "#minm1 = self.__find_lifetimes(round(self.zmetal,6),mass=[minm,maxm], lifetime=lifetimemax1)"
   ]
  },
  {
   "cell_type": "markdown",
   "metadata": {},
   "source": [
    "Compare both results:"
   ]
  },
  {
   "cell_type": "code",
   "execution_count": 7,
   "metadata": {
    "collapsed": false
   },
   "outputs": [
    {
     "name": "stdout",
     "output_type": "stream",
     "text": [
      "3697728100.53\n",
      "3687728129.72\n",
      "ratio should be 1 :  1.00271168873\n"
     ]
    }
   ],
   "source": [
    "print Yield_tot_sim\n",
    "print Yield_tot\n",
    "print 'ratio should be 1 : ',Yield_tot_sim/Yield_tot"
   ]
  },
  {
   "cell_type": "markdown",
   "metadata": {},
   "source": [
    "### Test of distinguishing between massive and AGB sources:"
   ]
  },
  {
   "cell_type": "markdown",
   "metadata": {},
   "source": [
    "Boundaries between AGB and massive for Z=0 (1e-4) at 8 (transitionmass parameter)"
   ]
  },
  {
   "cell_type": "code",
   "execution_count": 8,
   "metadata": {
    "collapsed": false
   },
   "outputs": [],
   "source": [
    "Yield_agb= ( k_N/1.35 * (1**-1.35 - 8.**-1.35) ) * 0.1\n",
    "Yield_massive= ( k_N/1.35 * (8.**-1.35 - 30**-1.35) ) * 0.1\n"
   ]
  },
  {
   "cell_type": "code",
   "execution_count": 9,
   "metadata": {
    "collapsed": false
   },
   "outputs": [
    {
     "name": "stdout",
     "output_type": "stream",
     "text": [
      "Should be 1: 1.0\n",
      "Should be 1: 1.0\n",
      "Test total number of SNII agree with massive star yields:  1.0\n",
      "1871484249.69\n"
     ]
    }
   ],
   "source": [
    "print 'Should be 1:',Yield_agb/s1.history.ism_iso_yield_agb[-1][0]\n",
    "print 'Should be 1:',Yield_massive/s1.history.ism_iso_yield_massive[-1][0]\n",
    "print 'Test total number of SNII agree with massive star yields: ',sum(s1.history.sn2_numbers)*0.1/Yield_massive\n",
    "print  sum(s1.history.sn2_numbers)"
   ]
  },
  {
   "cell_type": "code",
   "execution_count": 10,
   "metadata": {
    "collapsed": false
   },
   "outputs": [
    {
     "data": {
      "image/png": "[encoded data removed]",
      "text/plain": [
       "<matplotlib.figure.Figure at 0x7f8550e3dd50>"
      ]
     },
     "metadata": {},
     "output_type": "display_data"
    }
   ],
   "source": [
    "s1.plot_totmasses(source='agb')\n",
    "s1.plot_totmasses(source='massive')\n",
    "s1.plot_totmasses(source='all')\n",
    "s1.plot_totmasses(source='sn1a')"
   ]
  },
  {
   "cell_type": "markdown",
   "metadata": {},
   "source": [
    "### Calculating yield ejection over time "
   ]
  },
  {
   "cell_type": "markdown",
   "metadata": {},
   "source": [
    "For plotting, take the lifetimes/masses from the yield grid:\n",
    "\n",
    "$\n",
    "Ini Mass & Age [yrs]\n",
    "1Msun = 5.67e9\n",
    "1.65 = 1.211e9\n",
    "2 = 6.972e8\n",
    "3 = 2.471e8\n",
    "4 = 1.347e8\n",
    "5 = 8.123e7\n",
    "6 = 5.642e7\n",
    "7 = 4.217e7\n",
    "12 = 1.892e7\n",
    "15 = 1.381e7\n",
    "20 = 9.895e6\n",
    "25 = 7.902e6\n",
    "$"
   ]
  },
  {
   "cell_type": "code",
   "execution_count": 11,
   "metadata": {
    "collapsed": false,
    "scrolled": true
   },
   "outputs": [
    {
     "name": "stdout",
     "output_type": "stream",
     "text": [
      "SYGMA run in progress..\n",
      "   SYGMA run completed - Run time: 0.34s\n"
     ]
    }
   ],
   "source": [
    "s1=s.sygma(iolevel=0,mgal=1e11,dt=1e7,tend=1.3e10,imf_type='salpeter',alphaimf=2.35,\\\n",
    "           imf_bdys=[1,30],iniZ=0,hardsetZ=0.0001,table='yield_tables/isotope_yield_table_h1.txt',sn1a_on=False, \\\n",
    "           sn1a_table='yield_tables/sn1a_h1.txt', iniabu_table='yield_tables/iniabu/iniab1.0E-04GN93_alpha_h1.ppn')\n",
    "Yield_tot_sim=s1.history.ism_iso_yield[-1][0]"
   ]
  },
  {
   "cell_type": "code",
   "execution_count": 12,
   "metadata": {
    "collapsed": false
   },
   "outputs": [
    {
     "data": {
      "text/plain": [
       "<matplotlib.legend.Legend at 0x7f854bf0ec90>"
      ]
     },
     "execution_count": 12,
     "metadata": {},
     "output_type": "execute_result"
    },
    {
     "data": {
      "image/png": "[encoded data removed]",
      "text/plain": [
       "<matplotlib.figure.Figure at 0x7f854becc050>"
      ]
     },
     "metadata": {},
     "output_type": "display_data"
    }
   ],
   "source": [
    "s1.plot_mass(specie='H',label='H, sim',color='k',shape='-',marker='o',markevery=800)\n",
    "m=[1,1.65,2,3,4,5,6,7,12,15,20,25]\n",
    "ages=[5.67e9,1.211e9,6.972e8,2.471e8,1.347e8,8.123e7,5.642e7,4.217e7,1.892e7,1.381e7,9.895e6,7.902e6]\n",
    "def yields(m,k_N):\n",
    "    return ( k_N/1.35 * (m**-1.35 - 30.**-1.35) ) * 0.1\n",
    "yields1=[]\n",
    "for m1 in m:\n",
    "    yields1.append(yields(m1,k_N))\n",
    "plt.plot(ages,yields1,marker='+',linestyle='',markersize=15,label='H, semi')\n",
    "plt.legend(loc=4)"
   ]
  },
  {
   "cell_type": "markdown",
   "metadata": {},
   "source": [
    "Simulation results in the plot above should agree with semi-analytical calculations."
   ]
  },
  {
   "cell_type": "markdown",
   "metadata": {},
   "source": [
    "### Test of parameter imf_bdys: Selection of different initial mass intervals"
   ]
  },
  {
   "cell_type": "markdown",
   "metadata": {},
   "source": [
    "##### Select imf_bdys=[5,20]"
   ]
  },
  {
   "cell_type": "code",
   "execution_count": 13,
   "metadata": {
    "collapsed": false
   },
   "outputs": [],
   "source": [
    "k_N=1e11*0.35/ (5**-0.35 - 20**-0.35)\n",
    "N_tot=k_N/1.35 * (5**-1.35 - 20**-1.35)\n",
    "Yield_tot=0.1*N_tot"
   ]
  },
  {
   "cell_type": "code",
   "execution_count": 14,
   "metadata": {
    "collapsed": false
   },
   "outputs": [
    {
     "name": "stdout",
     "output_type": "stream",
     "text": [
      "SYGMA run in progress..\n",
      "   SYGMA run completed - Run time: 0.27s\n"
     ]
    }
   ],
   "source": [
    "s1=s.sygma(iolevel=0,mgal=1e11,dt=1e9,tend=1.3e10,imf_type='salpeter',\\\n",
    "           imf_bdys=[5,20],hardsetZ=0.0001,table='yield_tables/isotope_yield_table_h1.txt',sn1a_on=False, \\\n",
    "           sn1a_table='yield_tables/sn1a_h1.txt', iniabu_table='yield_tables/iniabu/iniab1.0E-04GN93_alpha_h1.ppn')\n",
    "Yield_tot_sim=s1.history.ism_iso_yield[-1][0]"
   ]
  },
  {
   "cell_type": "code",
   "execution_count": 15,
   "metadata": {
    "collapsed": false
   },
   "outputs": [
    {
     "name": "stdout",
     "output_type": "stream",
     "text": [
      "Sould be 1: 1.0\n"
     ]
    }
   ],
   "source": [
    "print 'Sould be 1:' ,Yield_tot_sim/Yield_tot"
   ]
  },
  {
   "cell_type": "markdown",
   "metadata": {},
   "source": [
    "##### Select imf_bdys=[1,5]"
   ]
  },
  {
   "cell_type": "code",
   "execution_count": 16,
   "metadata": {
    "collapsed": false
   },
   "outputs": [],
   "source": [
    "k_N=1e11*0.35/ (1**-0.35 - 5**-0.35)\n",
    "N_tot=k_N/1.35 * (1**-1.35 - 5**-1.35)\n",
    "Yield_tot=0.1*N_tot"
   ]
  },
  {
   "cell_type": "code",
   "execution_count": 17,
   "metadata": {
    "collapsed": false
   },
   "outputs": [
    {
     "name": "stdout",
     "output_type": "stream",
     "text": [
      "SYGMA run in progress..\n",
      "   SYGMA run completed - Run time: 0.3s\n"
     ]
    }
   ],
   "source": [
    "s1=s.sygma(iolevel=0,mgal=1e11,dt=1e9,tend=1.3e10,imf_type='salpeter',alphaimf=2.35,\\\n",
    "           imf_bdys=[1,5],hardsetZ=0.0001,table='yield_tables/isotope_yield_table_h1.txt',\\\n",
    "           sn1a_on=False, sn1a_table='yield_tables/sn1a_h1.txt', iniabu_table='yield_tables/iniabu/iniab1.0E-04GN93_alpha_h1.ppn')\n",
    "Yield_tot_sim=s1.history.ism_iso_yield[-1][0]"
   ]
  },
  {
   "cell_type": "markdown",
   "metadata": {},
   "source": [
    "Results:"
   ]
  },
  {
   "cell_type": "code",
   "execution_count": 18,
   "metadata": {
    "collapsed": false
   },
   "outputs": [
    {
     "name": "stdout",
     "output_type": "stream",
     "text": [
      "Sould be 1:  1.0\n"
     ]
    }
   ],
   "source": [
    "print 'Sould be 1: ',Yield_tot_sim/Yield_tot"
   ]
  },
  {
   "cell_type": "markdown",
   "metadata": {},
   "source": [
    "### Test of parameter imf_type: Selection of different IMF types"
   ]
  },
  {
   "cell_type": "markdown",
   "metadata": {},
   "source": [
    "#### power-law exponent : alpha_imf"
   ]
  },
  {
   "cell_type": "markdown",
   "metadata": {},
   "source": [
    "The IMF allows to calculate the number of stars $N_{12}$ in the mass interval [m1,m2] with\n",
    "\n",
    "$N_{12}$ = k_N $\\int _{m1}^{m2} m^{-alphaimf} dm$\n",
    "\n",
    "Where k_N is the normalization constant. It can be derived from the total amount of mass of the system $M_{tot}$\n",
    "since the total mass $M_{12}$ in the mass interval above can be estimated with\n",
    "\n",
    "$M_{12}$ = k_N $\\int _{m1}^{m2} m^{-(alphaimf-1)} dm$\n",
    "\n",
    "With a total mass interval of [1,30] and $M_{tot}=1e11$ the $k_N$ can be derived:\n",
    "\n",
    "$1e11 = k_N/(alphaimf-2) * (1^{-(alphaimf-2)} - 30^{-(alphaimf-2)})$"
   ]
  },
  {
   "cell_type": "code",
   "execution_count": 19,
   "metadata": {
    "collapsed": false
   },
   "outputs": [],
   "source": [
    "alphaimf = 1.5 #Set test alphaimf"
   ]
  },
  {
   "cell_type": "code",
   "execution_count": 20,
   "metadata": {
    "collapsed": false
   },
   "outputs": [],
   "source": [
    "k_N=1e11*(alphaimf-2)/ (-1**-(alphaimf-2) + 30**-(alphaimf-2))\n",
    "N_tot=k_N/(alphaimf-1) * (-1**-(alphaimf-1) + 30**-(alphaimf-1))\n",
    "Yield_tot=0.1*N_tot"
   ]
  },
  {
   "cell_type": "code",
   "execution_count": 21,
   "metadata": {
    "collapsed": false
   },
   "outputs": [
    {
     "name": "stdout",
     "output_type": "stream",
     "text": [
      "SYGMA run in progress..\n",
      "   SYGMA run completed - Run time: 0.33s\n"
     ]
    }
   ],
   "source": [
    "s1=s.sygma(iolevel=0,mgal=1e11,dt=1e9,tend=1.3e10,imf_type='alphaimf',alphaimf=1.5,imf_bdys=[1,30],hardsetZ=0.0001,table='yield_tables/isotope_yield_table_h1.txt',sn1a_on=False, sn1a_table='yield_tables/sn1a_h1.txt', iniabu_table='yield_tables/iniabu/iniab1.0E-04GN93_alpha_h1.ppn')\n",
    "Yield_tot_sim=s1.history.ism_iso_yield[-1][0]"
   ]
  },
  {
   "cell_type": "code",
   "execution_count": 22,
   "metadata": {
    "collapsed": false
   },
   "outputs": [
    {
     "name": "stdout",
     "output_type": "stream",
     "text": [
      "Should be 1 : 1.0\n"
     ]
    }
   ],
   "source": [
    "print 'Should be 1 :',Yield_tot/Yield_tot_sim"
   ]
  },
  {
   "cell_type": "markdown",
   "metadata": {},
   "source": [
    "#### Chabrier:"
   ]
  },
  {
   "cell_type": "markdown",
   "metadata": {},
   "source": [
    "Change interval now from [0.01,30]"
   ]
  },
  {
   "cell_type": "markdown",
   "metadata": {},
   "source": [
    "M<1: $IMF(m) = \\frac{0.158}{m} * \\exp{ \\frac{-(log(m) - log(0.08))^2}{2*0.69^2}}$\n",
    "\n",
    "else: $IMF(m) = m^{-2.3}$"
   ]
  },
  {
   "cell_type": "code",
   "execution_count": 23,
   "metadata": {
    "collapsed": false
   },
   "outputs": [],
   "source": [
    "def imf_times_m(mass):\n",
    "    if mass<=1:\n",
    "        return 0.158 * np.exp( -np.log10(mass/0.079)**2 / (2.*0.69**2))\n",
    "    else:\n",
    "        return mass*0.0443*mass**(-2.3)\n",
    "k_N= 1e11/ (quad(imf_times_m,0.01,30)[0] )"
   ]
  },
  {
   "cell_type": "code",
   "execution_count": 24,
   "metadata": {
    "collapsed": false
   },
   "outputs": [],
   "source": [
    "N_tot=k_N/1.3 * 0.0443* (1**-1.3 - 30**-1.3)\n",
    "Yield_tot=N_tot * 0.1"
   ]
  },
  {
   "cell_type": "code",
   "execution_count": 25,
   "metadata": {
    "collapsed": false
   },
   "outputs": [
    {
     "name": "stdout",
     "output_type": "stream",
     "text": [
      "SYGMA run in progress..\n",
      "   SYGMA run completed - Run time: 0.3s\n"
     ]
    }
   ],
   "source": [
    "s1=s.sygma(iolevel=0,mgal=1e11,dt=1e9,tend=1.3e10,imf_type='chabrier',imf_bdys=[0.01,30],hardsetZ=0.0001,table='yield_tables/isotope_yield_table_h1.txt',sn1a_on=False, sn1a_table='yield_tables/sn1a_h1.txt', iniabu_table='yield_tables/iniabu/iniab1.0E-04GN93_alpha_h1.ppn')\n",
    "Yield_tot_sim=s1.history.ism_iso_yield[-1][0]\n"
   ]
  },
  {
   "cell_type": "code",
   "execution_count": 26,
   "metadata": {
    "collapsed": false
   },
   "outputs": [
    {
     "name": "stdout",
     "output_type": "stream",
     "text": [
      "1844499958.22\n",
      "1844499958.22\n",
      "Should be 1 : 1.0\n"
     ]
    }
   ],
   "source": [
    "print Yield_tot\n",
    "print Yield_tot_sim\n",
    "print 'Should be 1 :',Yield_tot/Yield_tot_sim"
   ]
  },
  {
   "cell_type": "code",
   "execution_count": 27,
   "metadata": {
    "collapsed": false
   },
   "outputs": [
    {
     "data": {
      "text/plain": [
       "<matplotlib.legend.Legend at 0x7f854becc5d0>"
      ]
     },
     "execution_count": 27,
     "metadata": {},
     "output_type": "execute_result"
    },
    {
     "data": {
      "image/png": "[encoded data removed]",
      "text/plain": [
       "<matplotlib.figure.Figure at 0x7f854be95c50>"
      ]
     },
     "metadata": {},
     "output_type": "display_data"
    }
   ],
   "source": [
    "plt.figure(11)\n",
    "s1.plot_mass(fig=11,specie='H',label='H',color='k',shape='-',marker='o',markevery=800)\n",
    "m=[1,1.65,2,3,4,5,6,7,12,15,20,25]\n",
    "ages=[5.67e9,1.211e9,6.972e8,2.471e8,1.347e8,8.123e7,5.642e7,4.217e7,1.892e7,1.381e7,9.895e6,7.902e6]\n",
    "def yields(m,k_N):\n",
    "    return ( k_N/1.3 * 0.0443*(m**-1.3 - 30.**-1.3) ) * 0.1\n",
    "yields1=[]\n",
    "for m1 in m:\n",
    "    yields1.append(yields(m1,k_N))\n",
    "plt.plot(ages,yields1,marker='+',linestyle='',markersize=20,label='semi')\n",
    "plt.legend(loc=4)\n",
    "\n"
   ]
  },
  {
   "cell_type": "markdown",
   "metadata": {},
   "source": [
    "Simulation should agree with semi-analytical calculations for Chabrier IMF."
   ]
  },
  {
   "cell_type": "markdown",
   "metadata": {},
   "source": [
    "#### Kroupa:"
   ]
  },
  {
   "cell_type": "markdown",
   "metadata": {},
   "source": [
    "M<0.08: $IMF(m) = m^{-0.3}$\n",
    "\n",
    "M<0.5 : $IMF(m) = m^{-1.3}$\n",
    "\n",
    "else : $IMF(m) = m^{-2.3}$"
   ]
  },
  {
   "cell_type": "code",
   "execution_count": 28,
   "metadata": {
    "collapsed": false
   },
   "outputs": [],
   "source": [
    "def imf_times_m(mass):\n",
    "    p0=1.\n",
    "    p1=0.08**(-0.3+1.3)\n",
    "    p2=0.5**(-1.3+2.3)\n",
    "    p3= 1**(-2.3+2.3)\n",
    "    if mass<0.08:\n",
    "         return mass*p0*mass**(-0.3)\n",
    "    elif mass < 0.5:\n",
    "         return mass*p1*mass**(-1.3)\n",
    "    else: #mass>=0.5:\n",
    "         return mass*p1*p2*mass**(-2.3)\n",
    "k_N= 1e11/ (quad(imf_times_m,0.01,30)[0] )"
   ]
  },
  {
   "cell_type": "code",
   "execution_count": 29,
   "metadata": {
    "collapsed": false
   },
   "outputs": [],
   "source": [
    "p1=0.08**(-0.3+1.3)\n",
    "p2=0.5**(-1.3+2.3)\n",
    "N_tot=k_N/1.3 * p1*p2*(1**-1.3 - 30**-1.3)\n",
    "Yield_tot=N_tot * 0.1"
   ]
  },
  {
   "cell_type": "code",
   "execution_count": 30,
   "metadata": {
    "collapsed": false
   },
   "outputs": [
    {
     "name": "stdout",
     "output_type": "stream",
     "text": [
      "SYGMA run in progress..\n",
      "   SYGMA run completed - Run time: 0.26s\n"
     ]
    }
   ],
   "source": [
    "reload(s)\n",
    "s1=s.sygma(iolevel=0,mgal=1e11,dt=1e7,tend=1.3e10,imf_type='kroupa',imf_bdys=[0.01,30],hardsetZ=0.0001,table='yield_tables/isotope_yield_table_h1.txt',sn1a_on=False, sn1a_table='yield_tables/sn1a_h1.txt', iniabu_table='yield_tables/iniabu/iniab1.0E-04GN93_alpha_h1.ppn')\n",
    "Yield_tot_sim=s1.history.ism_iso_yield[-1][0]\n"
   ]
  },
  {
   "cell_type": "code",
   "execution_count": 31,
   "metadata": {
    "collapsed": false
   },
   "outputs": [
    {
     "name": "stdout",
     "output_type": "stream",
     "text": [
      "Should be 1:  1.0\n"
     ]
    }
   ],
   "source": [
    "print 'Should be 1: ',Yield_tot/Yield_tot_sim"
   ]
  },
  {
   "cell_type": "code",
   "execution_count": 32,
   "metadata": {
    "collapsed": false
   },
   "outputs": [
    {
     "data": {
      "text/plain": [
       "<matplotlib.legend.Legend at 0x7f854ad30a90>"
      ]
     },
     "execution_count": 32,
     "metadata": {},
     "output_type": "execute_result"
    },
    {
     "data": {
      "image/png": "[encoded data removed]",
      "text/plain": [
       "<matplotlib.figure.Figure at 0x7f854bc4a9d0>"
      ]
     },
     "metadata": {},
     "output_type": "display_data"
    }
   ],
   "source": [
    "plt.figure(111)\n",
    "s1.plot_mass(fig=111,specie='H',label='H',color='k',shape='-',marker='o',markevery=800)\n",
    "m=[1,1.65,2,3,4,5,6,7,12,15,20,25]\n",
    "ages=[5.67e9,1.211e9,6.972e8,2.471e8,1.347e8,8.123e7,5.642e7,4.217e7,1.892e7,1.381e7,9.895e6,7.902e6]\n",
    "def yields(m,k_N):\n",
    "    return ( k_N/1.3 *p1*p2* (m**-1.3 - 30.**-1.3) ) * 0.1\n",
    "yields1=[]\n",
    "for m1 in m:\n",
    "    yields1.append(yields(m1,k_N))\n",
    "plt.plot(ages,yields1,marker='+',linestyle='',markersize=20,label='semi')\n",
    "plt.legend(loc=4)"
   ]
  },
  {
   "cell_type": "markdown",
   "metadata": {},
   "source": [
    "Simulation results compared with semi-analytical calculations for Kroupa IMF."
   ]
  },
  {
   "cell_type": "markdown",
   "metadata": {},
   "source": [
    "### Test of parameter sn1a_on: on/off mechanism"
   ]
  },
  {
   "cell_type": "code",
   "execution_count": 33,
   "metadata": {
    "collapsed": false
   },
   "outputs": [
    {
     "name": "stdout",
     "output_type": "stream",
     "text": [
      "SYGMA run in progress..\n",
      "   SYGMA run completed - Run time: 0.27s\n",
      "SYGMA run in progress..\n",
      "   SYGMA run completed - Run time: 1.08s\n"
     ]
    }
   ],
   "source": [
    "s1=s.sygma(iolevel=0,mgal=1e11,dt=1e7,tend=1.3e10,sn1a_on=False,sn1a_rate='maoz',imf_type='salpeter',imf_bdys=[1,30],hardsetZ=0.0001,table='yield_tables/isotope_yield_table_h1.txt', sn1a_table='yield_tables/sn1a_h1.txt', iniabu_table='yield_tables/iniabu/iniab1.0E-04GN93_alpha_h1.ppn')\n",
    "s2=s.sygma(iolevel=0,mgal=1e11,dt=1e7,tend=1.3e10,sn1a_on=True,sn1a_rate='maoz',imf_type='salpeter',imf_bdys=[1,30],hardsetZ=0.0001,table='yield_tables/isotope_yield_table_h1.txt', sn1a_table='yield_tables/sn1a_h1.txt', iniabu_table='yield_tables/iniabu/iniab1.0E-04GN93_alpha_h1.ppn')"
   ]
  },
  {
   "cell_type": "code",
   "execution_count": 34,
   "metadata": {
    "collapsed": false
   },
   "outputs": [
    {
     "name": "stdout",
     "output_type": "stream",
     "text": [
      "[0] [0.0]\n",
      "[100000000000.0] [3687728129.7190342]\n",
      "[0] [9999970.8072689548]\n",
      "[100000000000.0] [3697728100.5263023]\n",
      "1.0\n"
     ]
    },
    {
     "data": {
      "image/png": "[encoded data removed]",
      "text/plain": [
       "<matplotlib.figure.Figure at 0x7f854855ba50>"
      ]
     },
     "metadata": {},
     "output_type": "display_data"
    }
   ],
   "source": [
    "print (s1.history.ism_elem_yield_1a[0]),(s1.history.ism_elem_yield_1a[-1])\n",
    "print (s1.history.ism_elem_yield[0]),(s1.history.ism_elem_yield[-1])\n",
    "print (s2.history.ism_elem_yield_1a[0]),(s2.history.ism_elem_yield_1a[-1])\n",
    "print (s2.history.ism_elem_yield[0]),(s2.history.ism_elem_yield[-1])\n",
    "print (s1.history.ism_elem_yield[-1][0] + s2.history.ism_elem_yield_1a[-1][0])/s2.history.ism_elem_yield[-1][0]\n",
    "s2.plot_mass(fig=33,specie='H-1',source='sn1a') #plot s1 data  (without sn) cannot be plotted -> error, maybe change plot function?"
   ]
  },
  {
   "cell_type": "markdown",
   "metadata": {},
   "source": [
    "##################################### SKIP (until further downwards) ###########################################"
   ]
  },
  {
   "cell_type": "markdown",
   "metadata": {},
   "source": [
    "### Test of parameter sn1a_rate (DTD): Different SN1a rate implementatinos"
   ]
  },
  {
   "cell_type": "markdown",
   "metadata": {},
   "source": [
    "Calculate with SNIa and look at SNIa contribution only. Calculated for each implementation from $4*10^7$ until $1.5*10^{10}$ yrs "
   ]
  },
  {
   "cell_type": "markdown",
   "metadata": {},
   "source": [
    "##### DTD taken from Vogelsberger 2013 (sn1a_rate='vogelsberger')"
   ]
  },
  {
   "cell_type": "markdown",
   "metadata": {},
   "source": [
    "$\\frac{N_{1a}}{Msun} = \\int _t^{t+\\Delta t} 1.3*10^{-3} * (\\frac{t}{4*10^7})^{-1.12} * \\frac{1.12 -1}{4*10^7}$   for  $t>4*10^7 yrs$"
   ]
  },
  {
   "cell_type": "markdown",
   "metadata": {
    "collapsed": false
   },
   "source": [
    "def dtd(t):\n",
    "    return 1.3e-3*(t/4e7)**-1.12 * ((1.12-1)/4e7)\n",
    "n1a_msun= quad(dtd,4e7,1.5e10)[0]\n",
    "Yield_tot=n1a_msun*1e11*0.1 * 7 #special factor\n",
    "print Yield_tot"
   ]
  },
  {
   "cell_type": "markdown",
   "metadata": {
    "collapsed": false
   },
   "source": [
    "reload(s)\n",
    "s1=s.sygma(iolevel=0,mgal=1e11,dt=1e7,tend=1.3e10,sn1a_on=True,sn1a_rate='vogelsberger',imf_type='salpeter',imf_bdys=[1,30],iniZ=-1,hardsetZ=0.0001,table='yield_tables/isotope_yield_table_h1.txt', sn1a_table='yield_tables/sn1a_h1.txt', iniabu_table='yield_tables/iniabu/iniab1.0E-04GN93_alpha_h1.ppn')\n",
    "Yield_tot_sim=s1.history.ism_iso_yield_1a[-1][0]\n"
   ]
  },
  {
   "cell_type": "markdown",
   "metadata": {
    "collapsed": false
   },
   "source": [
    "print 'Should be 1: ',Yield_tot/Yield_tot_sim"
   ]
  },
  {
   "cell_type": "markdown",
   "metadata": {
    "collapsed": false
   },
   "source": [
    "s1.plot_mass(specie='H',source='sn1a',label='H',color='k',shape='-',marker='o',markevery=800)\n",
    "m=[1,1.65,2,3,4,5,6,7,12,15,20,25]\n",
    "ages=[5.67e9,1.211e9,6.972e8,2.471e8,1.347e8,8.123e7,5.642e7,4.217e7,1.892e7,1.381e7,9.895e6,7.902e6]\n",
    "def yields(t):\n",
    "    def dtd(t):\n",
    "        return 1.3e-3*(t/4e7)**-1.12 * ((1.12-1)/4e7)\n",
    "    return quad(dtd,4e7,t)[0]*1e11*0.1 * 7 #special factor\n",
    "yields1=[]\n",
    "ages1=[]\n",
    "for m1 in m:\n",
    "    t=ages[m.index(m1)]\n",
    "    if t>4e7:\n",
    "        yields1.append(yields(t))\n",
    "        ages1.append(t)\n",
    "plt.plot(ages1,yields1,marker='+',linestyle='',markersize=20,label='semi')\n",
    "plt.legend(loc=4)"
   ]
  },
  {
   "cell_type": "markdown",
   "metadata": {},
   "source": [
    "Simulation results should agree with semi-analytical calculations for the SN1 yields."
   ]
  },
  {
   "cell_type": "markdown",
   "metadata": {},
   "source": [
    "### Exponential DTD taken from Wiersma09 (sn1a_rate='wiersmaexp') (maybe transitionmass should replace 8Msun?)"
   ]
  },
  {
   "cell_type": "markdown",
   "metadata": {},
   "source": [
    "$\\frac{N_{1a}}{Msun} = \\int _t ^{t+\\Delta t} f_{wd}(t) exp(-t/\\tau)/\\tau$ with \n",
    "\n",
    "if $M_z(t) >3$ : \n",
    "\n",
    "$f_{wd}(t) = (\\int _{M(t)}^8 IMF(m) dm)$\n",
    "\n",
    "else:    \n",
    "\n",
    "$f_{wd}(t) = 0$\n",
    "\n",
    "with $M(t) = max(3, M_z(t))$ and  $M_z(t)$ being the mass-lifetime function.\n",
    "\n",
    "NOTE: This mass-lifetime function needs to be extracted from the simulation (calculated in SYGMA, see below)\n"
   ]
  },
  {
   "cell_type": "markdown",
   "metadata": {},
   "source": [
    "The following performs the simulation but also takes the mass-metallicity-lifetime grid from this simulation.\n",
    "With the mass-lifetime spline function calculated the integration can be done further down. See also the fit for this function below."
   ]
  },
  {
   "cell_type": "code",
   "execution_count": 54,
   "metadata": {
    "collapsed": false
   },
   "outputs": [
    {
     "name": "stdout",
     "output_type": "stream",
     "text": [
      "Error - Selected sn1a_rate is not available.\n"
     ]
    },
    {
     "ename": "AttributeError",
     "evalue": "'sygma' object has no attribute 'zm_lifetime_grid_current'",
     "output_type": "error",
     "traceback": [
      "\u001b[1;31m---------------------------------------------------------------------------\u001b[0m",
      "\u001b[1;31mAttributeError\u001b[0m                            Traceback (most recent call last)",
      "\u001b[1;32m<ipython-input-54-48f2e3bdf0f1>\u001b[0m in \u001b[0;36m<module>\u001b[1;34m()\u001b[0m\n\u001b[0;32m      7\u001b[0m \u001b[0ms1\u001b[0m\u001b[1;33m=\u001b[0m\u001b[0ms\u001b[0m\u001b[1;33m.\u001b[0m\u001b[0msygma\u001b[0m\u001b[1;33m(\u001b[0m\u001b[0miolevel\u001b[0m\u001b[1;33m=\u001b[0m\u001b[1;36m0\u001b[0m\u001b[1;33m,\u001b[0m\u001b[0mmgal\u001b[0m\u001b[1;33m=\u001b[0m\u001b[1;36m1e11\u001b[0m\u001b[1;33m,\u001b[0m\u001b[0mdt\u001b[0m\u001b[1;33m=\u001b[0m\u001b[1;36m1e7\u001b[0m\u001b[1;33m,\u001b[0m\u001b[0mtend\u001b[0m\u001b[1;33m=\u001b[0m\u001b[1;36m1.3e10\u001b[0m\u001b[1;33m,\u001b[0m\u001b[0msn1a_on\u001b[0m\u001b[1;33m=\u001b[0m\u001b[0mTrue\u001b[0m\u001b[1;33m,\u001b[0m\u001b[0msn1a_rate\u001b[0m\u001b[1;33m=\u001b[0m\u001b[1;34m'wiersmaexp'\u001b[0m\u001b[1;33m,\u001b[0m\u001b[0mimf_type\u001b[0m\u001b[1;33m=\u001b[0m\u001b[1;34m'salpeter'\u001b[0m\u001b[1;33m,\u001b[0m\u001b[0mimf_bdys\u001b[0m\u001b[1;33m=\u001b[0m\u001b[1;33m[\u001b[0m\u001b[1;36m1\u001b[0m\u001b[1;33m,\u001b[0m\u001b[1;36m30\u001b[0m\u001b[1;33m]\u001b[0m\u001b[1;33m,\u001b[0m\u001b[0mhardsetZ\u001b[0m\u001b[1;33m=\u001b[0m\u001b[1;36m0.0001\u001b[0m\u001b[1;33m,\u001b[0m\u001b[0mtable\u001b[0m\u001b[1;33m=\u001b[0m\u001b[1;34m'yield_tables/isotope_yield_table_h1.txt'\u001b[0m\u001b[1;33m,\u001b[0m \u001b[0msn1a_table\u001b[0m\u001b[1;33m=\u001b[0m\u001b[1;34m'yield_tables/sn1a_h1.txt'\u001b[0m\u001b[1;33m,\u001b[0m \u001b[0miniabu_table\u001b[0m\u001b[1;33m=\u001b[0m\u001b[1;34m'yield_tables/iniabu/iniab1.0E-04GN93_alpha_h1.ppn'\u001b[0m\u001b[1;33m)\u001b[0m\u001b[1;33m\u001b[0m\u001b[0m\n\u001b[0;32m      8\u001b[0m \u001b[0mYield_tot_sim\u001b[0m\u001b[1;33m=\u001b[0m\u001b[0ms1\u001b[0m\u001b[1;33m.\u001b[0m\u001b[0mhistory\u001b[0m\u001b[1;33m.\u001b[0m\u001b[0mism_iso_yield_1a\u001b[0m\u001b[1;33m[\u001b[0m\u001b[1;33m-\u001b[0m\u001b[1;36m1\u001b[0m\u001b[1;33m]\u001b[0m\u001b[1;33m[\u001b[0m\u001b[1;36m0\u001b[0m\u001b[1;33m]\u001b[0m\u001b[1;33m\u001b[0m\u001b[0m\n\u001b[1;32m----> 9\u001b[1;33m \u001b[0mzm_lifetime_grid\u001b[0m\u001b[1;33m=\u001b[0m\u001b[0ms1\u001b[0m\u001b[1;33m.\u001b[0m\u001b[0mzm_lifetime_grid_current\u001b[0m\u001b[1;33m\u001b[0m\u001b[0m\n\u001b[0m\u001b[0;32m     10\u001b[0m \u001b[0midx_z\u001b[0m \u001b[1;33m=\u001b[0m \u001b[1;33m(\u001b[0m\u001b[0mnp\u001b[0m\u001b[1;33m.\u001b[0m\u001b[0mabs\u001b[0m\u001b[1;33m(\u001b[0m\u001b[0mzm_lifetime_grid\u001b[0m\u001b[1;33m[\u001b[0m\u001b[1;36m0\u001b[0m\u001b[1;33m]\u001b[0m\u001b[1;33m-\u001b[0m\u001b[1;36m0.0001\u001b[0m\u001b[1;33m)\u001b[0m\u001b[1;33m)\u001b[0m\u001b[1;33m.\u001b[0m\u001b[0margmin\u001b[0m\u001b[1;33m(\u001b[0m\u001b[1;33m)\u001b[0m \u001b[1;31m#Z=0\u001b[0m\u001b[1;33m\u001b[0m\u001b[0m\n\u001b[0;32m     11\u001b[0m \u001b[0mgrid_masses\u001b[0m\u001b[1;33m=\u001b[0m\u001b[0mzm_lifetime_grid\u001b[0m\u001b[1;33m[\u001b[0m\u001b[1;36m1\u001b[0m\u001b[1;33m]\u001b[0m\u001b[1;33m[\u001b[0m\u001b[1;33m:\u001b[0m\u001b[1;33m:\u001b[0m\u001b[1;33m-\u001b[0m\u001b[1;36m1\u001b[0m\u001b[1;33m]\u001b[0m\u001b[1;33m\u001b[0m\u001b[0m\n",
      "\u001b[1;31mAttributeError\u001b[0m: 'sygma' object has no attribute 'zm_lifetime_grid_current'"
     ]
    }
   ],
   "source": [
    "#import read_yields as ry\n",
    "import sygma as s\n",
    "reload(s)\n",
    "#interpolate_lifetimes_grid=s22.__interpolate_lifetimes_grid\n",
    "#ytables=ry.read_nugrid_yields('yield_tables/isotope_yield_table_h1.txt')\n",
    "#zm_lifetime_grid=interpolate_lifetimes_grid(ytables,iolevel=0) 1e7\n",
    "s1=s.sygma(iolevel=0,mgal=1e11,dt=1e7,tend=1.3e10,sn1a_on=True,sn1a_rate='wiersmaexp',imf_type='salpeter',imf_bdys=[1,30],hardsetZ=0.0001,table='yield_tables/isotope_yield_table_h1.txt', sn1a_table='yield_tables/sn1a_h1.txt', iniabu_table='yield_tables/iniabu/iniab1.0E-04GN93_alpha_h1.ppn')\n",
    "Yield_tot_sim=s1.history.ism_iso_yield_1a[-1][0]\n",
    "zm_lifetime_grid=s1.zm_lifetime_grid_current\n",
    "idx_z = (np.abs(zm_lifetime_grid[0]-0.0001)).argmin() #Z=0\n",
    "grid_masses=zm_lifetime_grid[1][::-1]\n",
    "grid_lifetimes=zm_lifetime_grid[2][idx_z][::-1]\n",
    "spline_degree1=2\n",
    "smoothing1=0\n",
    "boundary=[None,None]\n",
    "spline_lifetime = UnivariateSpline(grid_lifetimes,np.log10(grid_masses),bbox=boundary,k=spline_degree1,s=smoothing1)\n",
    "plt.plot(grid_masses,grid_lifetimes,label='spline fit grid points (SYGMA)')\n",
    "plt.xlabel('Mini/Msun')\n",
    "plt.ylabel('log lifetime')\n",
    "m=[1,1.65,2,3,4,5,6,7,12,15,20,25]\n",
    "ages=[5.67e9,1.211e9,6.972e8,2.471e8,1.347e8,8.123e7,5.642e7,4.217e7,1.892e7,1.381e7,9.895e6,7.902e6]\n",
    "plt.plot(np.array(m),np.log10(np.array(ages)),marker='+',markersize=20,label='input yield grid',linestyle='None')\n",
    "plt.plot(10**spline_lifetime(np.log10(ages)),np.log10(ages),linestyle='--',label='spline fit SNIa')\n",
    "plt.legend()\n",
    "#plt.yscale('log')"
   ]
  },
  {
   "cell_type": "code",
   "execution_count": 55,
   "metadata": {
    "collapsed": false
   },
   "outputs": [],
   "source": [
    "#print grid_lifetimes\n",
    "#print grid_masses\n",
    "#10**spline_lifetime(np.log10(7.902e6))"
   ]
  },
  {
   "cell_type": "markdown",
   "metadata": {},
   "source": [
    "Small test: Initial mass vs. lifetime from the input yield grid compared to the fit in the the Mass-Metallicity-lifetime plane (done by SYGMA) for Z=0.02."
   ]
  },
  {
   "cell_type": "markdown",
   "metadata": {},
   "source": [
    "A double integration has to be performed in order to solve the complex integral from Wiersma:"
   ]
  },
  {
   "cell_type": "code",
   "execution_count": 125,
   "metadata": {
    "collapsed": false
   },
   "outputs": [],
   "source": [
    "#following inside function wiersma09_efolding\n",
    "\n",
    "#if timemin ==0:\n",
    "#    timemin=1\n",
    "\n",
    "from scipy.integrate import dblquad\n",
    "def spline1(x):\n",
    "    #x=t\n",
    "    minm_prog1a=3\n",
    "    #if minimum progenitor mass is larger than 3Msun due to IMF range:\n",
    "    #if self.imf_bdys[0]>3:\n",
    "    #    minm_prog1a=self.imf_bdys[0]\n",
    "    return max(minm_prog1a,10**spline_lifetime(np.log10(x)))\n",
    "\n",
    "\n",
    "def f_wd_dtd(m,t):\n",
    "                #print 'time ',t\n",
    "                #print 'mass ',m\n",
    "                mlim=10**spline_lifetime(np.log10(t))\n",
    "                maxm_prog1a=8\n",
    "                #if maximum progenitor mass is smaller than 8Msun due to IMF range:\n",
    "                #if 8>self.imf_bdys[1]:\n",
    "                #        maxm_prog1a=self.imf_bdys[1]\n",
    "                if mlim>maxm_prog1a:\n",
    "                        return 0\n",
    "                else:\n",
    "                        #Delay time distribution function (DTD)\n",
    "                        tau=  2e9\n",
    "                        mmin=0\n",
    "                        mmax=0\n",
    "                        inte=0\n",
    "                #follwing is done in __imf()\n",
    "                def g2(mm):\n",
    "                    return mm*mm**-2.35\n",
    "                norm=1./quad(g2,1,30)[0]\n",
    "                #print 'IMF test',norm*m**-2.35\n",
    "                #imf normalized to 1Msun\n",
    "                return  norm*m**-2.35* np.exp(-t/tau)/tau\n",
    "                \n",
    "a= 0.01 #normalization parameter\n",
    "#if spline(np.log10(t))\n",
    "#a=1e-3/()\n",
    "a=1e-3/(dblquad(f_wd_dtd,0,1.3e10,lambda x: spline1(x), lambda x: 8)[0]   )\n",
    "n1a= a* dblquad(f_wd_dtd,0,1.3e10,lambda x: spline1(x), lambda x: 8)[0]   \n",
    "# in principle since normalization is set: nb_1a_per_m the above calculation is not necessary anymore\n",
    "Yield_tot=n1a*1e11*0.1 *1 #7 #special factor"
   ]
  },
  {
   "cell_type": "code",
   "execution_count": 126,
   "metadata": {
    "collapsed": false
   },
   "outputs": [
    {
     "name": "stdout",
     "output_type": "stream",
     "text": [
      "10000000.0201\n",
      "10000000.0\n",
      "Should be :  1.00000000201\n"
     ]
    }
   ],
   "source": [
    "print Yield_tot_sim\n",
    "print Yield_tot\n",
    "print 'Should be : ', Yield_tot_sim/Yield_tot"
   ]
  },
  {
   "cell_type": "code",
   "execution_count": 127,
   "metadata": {
    "collapsed": false
   },
   "outputs": [
    {
     "data": {
      "text/plain": [
       "<matplotlib.legend.Legend at 0xacf82bcc>"
      ]
     },
     "execution_count": 127,
     "metadata": {},
     "output_type": "execute_result"
    },
    {
     "data": {
      "image/png": "[encoded data removed]",
      "text/plain": [
       "<matplotlib.figure.Figure at 0xacf825ec>"
      ]
     },
     "metadata": {},
     "output_type": "display_data"
    }
   ],
   "source": [
    "s1.plot_mass(specie='H',source='sn1a',label='H',color='k',shape='-',marker='o',markevery=800)\n",
    "yields1=[]\n",
    "ages1=[]\n",
    "a= 0.01 #normalization parameter\n",
    "a=1e-3/(dblquad(f_wd_dtd,0,1.3e10,lambda x: spline1(x), lambda x: 8)[0]   )\n",
    "for m1 in m:\n",
    "    t=ages[m.index(m1)]\n",
    "    yields= a* dblquad(f_wd_dtd,0,t,lambda x: spline1(x), lambda x: 8)[0] *1e11*0.1 #special factor \n",
    "    yields1.append(yields)\n",
    "    ages1.append(t)\n",
    "plt.plot(ages1,yields1,marker='+',linestyle='',markersize=20,label='semi')\n",
    "plt.legend(loc=4)"
   ]
  },
  {
   "cell_type": "markdown",
   "metadata": {},
   "source": [
    "Simulation results compared with semi-analytical calculations for the SN1 sources with Wiersma (exp) implementation."
   ]
  },
  {
   "cell_type": "markdown",
   "metadata": {},
   "source": [
    "#### Compare number of WD's in range"
   ]
  },
  {
   "cell_type": "code",
   "execution_count": 128,
   "metadata": {
    "collapsed": false
   },
   "outputs": [
    {
     "data": {
      "text/plain": [
       "1.0"
      ]
     },
     "execution_count": 128,
     "metadata": {},
     "output_type": "execute_result"
    }
   ],
   "source": [
    "sum(s1.wd_sn1a_range1)/sum(s1.wd_sn1a_range)"
   ]
  },
  {
   "cell_type": "code",
   "execution_count": 129,
   "metadata": {
    "collapsed": false
   },
   "outputs": [
    {
     "data": {
      "image/png": "[encoded data removed]",
      "text/plain": [
       "<matplotlib.figure.Figure at 0xacf9cfcc>"
      ]
     },
     "metadata": {},
     "output_type": "display_data"
    }
   ],
   "source": [
    "s1.plot_sn_distr(xaxis='time',fraction=False)"
   ]
  },
  {
   "cell_type": "markdown",
   "metadata": {},
   "source": [
    "## Wiersmagauss"
   ]
  },
  {
   "cell_type": "code",
   "execution_count": 130,
   "metadata": {
    "collapsed": false
   },
   "outputs": [
    {
     "name": "stdout",
     "output_type": "stream",
     "text": [
      "self.imf_bdys_pop3=imf_bdys_pop3 [0.1, 100]\n",
      "SYGMA run in progress..\n",
      "__get_mfac\n",
      "1,30 wrong\n",
      "apply_imf_mass_bdys [1, 1.325, 1.825, 2.5, 3.5, 4.5, 5.5, 6.5, 8, 13.5, 17.5, 22.5, 30]\n",
      "imf_bd [1, 30]\n",
      "   SYGMA run completed - Run time: 0.95s\n"
     ]
    }
   ],
   "source": [
    "reload(s)\n",
    "s2=s.sygma(iolevel=0,mgal=1e11,dt=1e7,tend=1.3e10,sn1a_rate='wiersmagauss',imf_type='salpeter',imf_bdys=[1,30],hardsetZ=0.0001,table='yield_tables/isotope_yield_table_h1.txt',sn1a_on=True, sn1a_table='yield_tables/sn1a_h1.txt', iniabu_table='yield_tables/iniabu/iniab1.0E-04GN93_alpha_h1.ppn')\n",
    "Yield_tot_sim=s2.history.ism_iso_yield_1a[-1][0]\n",
    "zm_lifetime_grid=s2.zm_lifetime_grid_current\n",
    "idx_z = (np.abs(zm_lifetime_grid[0]-0.0001)).argmin() #Z=0\n",
    "grid_masses=zm_lifetime_grid[1][::-1]\n",
    "grid_lifetimes=zm_lifetime_grid[2][idx_z][::-1]\n",
    "spline_degree1=2\n",
    "smoothing1=0\n",
    "boundary=[None,None]\n",
    "spline = UnivariateSpline(grid_lifetimes,np.log10(grid_masses),bbox=boundary,k=spline_degree1,s=smoothing1)\n"
   ]
  },
  {
   "cell_type": "code",
   "execution_count": 131,
   "metadata": {
    "collapsed": false
   },
   "outputs": [],
   "source": [
    "from scipy.integrate import dblquad\n",
    "def spline1(x):\n",
    "    #x=t\n",
    "    return max(3.,10**spline(np.log10(x)))\n",
    "def f_wd_dtd(m,t):\n",
    "        #print 'time ',t\n",
    "        #print 'mass ',m\n",
    "        mlim=10**spline(np.log10(t))\n",
    "        #print 'mlim',mlim\n",
    "        if mlim>8.:\n",
    "                #print t\n",
    "                #print mlim\n",
    "                return 0\n",
    "        else:\n",
    "                #mmin=max(3.,massfunc(t))\n",
    "                #mmax=8.\n",
    "                #imf=self.__imf(mmin,mmax,1)\n",
    "                #Delay time distribution function (DTD)\n",
    "                tau=  1e9 #3.3e9 #characteristic delay time\n",
    "                sigma=0.66e9#0.25*tau \n",
    "                #sigma=0.2#narrow distribution\n",
    "                #sigma=0.5*tau #wide distribution\n",
    "                mmin=0\n",
    "                mmax=0\n",
    "                inte=0\n",
    "                def g2(mm):\n",
    "                    return mm*mm**-2.35\n",
    "                norm=1./quad(g2,1,30)[0]\n",
    "                #imf normalized to 1Msun\n",
    "                return  norm*m**-2.35* 1./np.sqrt(2*np.pi*sigma**2) * np.exp(-(t-tau)**2/(2*sigma**2))\n",
    "                \n",
    "#a= 0.0069 #normalization parameter\n",
    "#if spline(np.log10(t))\n",
    "a=1e-3/(dblquad(f_wd_dtd,0,1.3e10,lambda x: spline1(x), lambda x: 8)[0] )\n",
    "n1a= a* dblquad(f_wd_dtd,0,1.3e10,lambda x: spline1(x), lambda x: 8)[0]            \n",
    "Yield_tot=n1a*1e11*0.1 #special factor"
   ]
  },
  {
   "cell_type": "code",
   "execution_count": 132,
   "metadata": {
    "collapsed": false
   },
   "outputs": [
    {
     "name": "stdout",
     "output_type": "stream",
     "text": [
      "9999999.99403\n",
      "10000000.0\n",
      "Should be 1:  0.999999999403\n"
     ]
    }
   ],
   "source": [
    "print Yield_tot_sim\n",
    "print Yield_tot\n",
    "print 'Should be 1: ', Yield_tot_sim/Yield_tot"
   ]
  },
  {
   "cell_type": "code",
   "execution_count": 133,
   "metadata": {
    "collapsed": false
   },
   "outputs": [
    {
     "data": {
      "text/plain": [
       "<matplotlib.legend.Legend at 0xad9abecc>"
      ]
     },
     "execution_count": 133,
     "metadata": {},
     "output_type": "execute_result"
    },
    {
     "data": {
      "image/png": "[encoded data removed]",
      "text/plain": [
       "<matplotlib.figure.Figure at 0xae87b84c>"
      ]
     },
     "metadata": {},
     "output_type": "display_data"
    }
   ],
   "source": [
    "s2.plot_mass(specie='H',source='sn1a',label='H',color='k',shape='-',marker='o',markevery=800)\n",
    "yields1=[]\n",
    "ages1=[]\n",
    "m=[1,1.65,2,3,4,5,6,7,12,15,20,25]\n",
    "ages=[5.67e9,1.211e9,6.972e8,2.471e8,1.347e8,8.123e7,5.642e7,4.217e7,1.892e7,1.381e7,9.895e6,7.902e6]\n",
    "for m1 in m:\n",
    "    t=ages[m.index(m1)]\n",
    "    yields= a* dblquad(f_wd_dtd,0,t,lambda x: spline1(x), lambda x: 8)[0] *1e11*0.1 #special factor\n",
    "    yields1.append(yields)\n",
    "    ages1.append(t)\n",
    "plt.plot(ages1,yields1,marker='+',linestyle='',markersize=20,label='semi')\n",
    "plt.legend(loc=2)"
   ]
  },
  {
   "cell_type": "markdown",
   "metadata": {},
   "source": [
    "Simulation results compared with semi-analytical calculations for the SN1 sources with Wiersma (Gauss) implementation."
   ]
  },
  {
   "cell_type": "markdown",
   "metadata": {},
   "source": [
    "#### Compare number of WD's in range"
   ]
  },
  {
   "cell_type": "code",
   "execution_count": 134,
   "metadata": {
    "collapsed": false
   },
   "outputs": [
    {
     "data": {
      "text/plain": [
       "1.0"
      ]
     },
     "execution_count": 134,
     "metadata": {},
     "output_type": "execute_result"
    }
   ],
   "source": [
    "sum(s2.wd_sn1a_range1)/sum(s2.wd_sn1a_range)"
   ]
  },
  {
   "cell_type": "markdown",
   "metadata": {},
   "source": [
    "############################################### CONTINUE ##################################################"
   ]
  },
  {
   "cell_type": "markdown",
   "metadata": {},
   "source": [
    "### SNIa implementation: Maoz12 $t^{-1}$"
   ]
  },
  {
   "cell_type": "code",
   "execution_count": 35,
   "metadata": {
    "collapsed": false
   },
   "outputs": [
    {
     "name": "stdout",
     "output_type": "stream",
     "text": [
      "SYGMA run in progress..\n",
      "   SYGMA run completed - Run time: 3.84s\n"
     ]
    }
   ],
   "source": [
    "import sygma as s\n",
    "reload(s)\n",
    "s2=s.sygma(iolevel=0,mgal=1e11,dt=1e8,tend=1.3e10,sn1a_rate='maoz',imf_type='salpeter',imf_bdys=[1,30],special_timesteps=-1,hardsetZ=0.0001,table='yield_tables/isotope_yield_table_h1.txt',sn1a_on=True, sn1a_table='yield_tables/sn1a_h1.txt', iniabu_table='yield_tables/iniabu/iniab1.0E-04GN93_alpha_h1.ppn')"
   ]
  },
  {
   "cell_type": "code",
   "execution_count": 36,
   "metadata": {
    "collapsed": false
   },
   "outputs": [],
   "source": [
    "Yield_tot_sim=s2.history.ism_iso_yield_1a[-1][0]\n",
    "from scipy.interpolate import UnivariateSpline\n",
    "zm_lifetime_grid=s2.zm_lifetime_grid_current\n",
    "idx_z = (np.abs(zm_lifetime_grid[0]-0.0001)).argmin() #Z=0\n",
    "grid_masses=zm_lifetime_grid[1][::-1]\n",
    "grid_lifetimes=zm_lifetime_grid[2][idx_z][::-1]\n",
    "spline_degree1=2\n",
    "smoothing1=0\n",
    "boundary=[None,None]\n",
    "spline_lifetime = UnivariateSpline(grid_lifetimes,np.log10(grid_masses),bbox=boundary,k=spline_degree1,s=smoothing1)\n",
    "\n",
    "from scipy.integrate import quad"
   ]
  },
  {
   "cell_type": "code",
   "execution_count": 37,
   "metadata": {
    "collapsed": false
   },
   "outputs": [
    {
     "name": "stdout",
     "output_type": "stream",
     "text": [
      "Norm. constant A: 8.47537309048\n"
     ]
    }
   ],
   "source": [
    "def spline1(t):\n",
    "                minm_prog1a=3\n",
    "                #if minimum progenitor mass is larger than 3Msun due to IMF range:\n",
    "                return max(minm_prog1a,10**spline_lifetime(np.log10(t)))\n",
    "\n",
    "            #funciton giving the total (accummulatitive) number of WDs at each timestep\n",
    "def wd_number(m,t):\n",
    "                #print 'time ',t\n",
    "                #print 'mass ',m\n",
    "                mlim=10**spline_lifetime(np.log10(t))\n",
    "                maxm_prog1a=8\n",
    "\n",
    "                if mlim>maxm_prog1a:\n",
    "                        return 0\n",
    "                else:\n",
    "                        mmin=0\n",
    "                        mmax=0\n",
    "                        inte=0\n",
    "                        #normalized to 1msun!\n",
    "                        def g2(mm):\n",
    "                            return mm*mm**-2.35\n",
    "                        norm=1./quad(g2,1,30)[0]\n",
    "                        return  norm*m**-2.35 #self.__imf(mmin,mmax,inte,m)\n",
    "\n",
    "def maoz_sn_rate(m,t):\n",
    "                        return  wd_number(m,t)* 4.0e-13 * (t/1.0e9)**-1\n",
    "\n",
    "def maoz_sn_rate_int(t):\n",
    "                return quad( maoz_sn_rate,spline1(t),8,args=t)[0]\n",
    "\n",
    "#in this formula, (paper) sum_sn1a_progenitors number of \n",
    "maxm_prog1a=8\n",
    "longtimefornormalization=1.3e10 #yrs\n",
    "fIa=0.00147\n",
    "fIa=1e-3\n",
    "#A = (fIa*s2.number_stars_born[1]) / quad(maoz_sn_rate_int,0,longtimefornormalization)[0]\n",
    "A = 1e-3 / quad(maoz_sn_rate_int,0,longtimefornormalization)[0]\n",
    "\n",
    "print 'Norm. constant A:',A\n",
    "n1a= A* quad(maoz_sn_rate_int,0,1.3e10)[0]\n",
    "Yield_tot=n1a*1e11*0.1 #specialfactor"
   ]
  },
  {
   "cell_type": "code",
   "execution_count": 38,
   "metadata": {
    "collapsed": false
   },
   "outputs": [
    {
     "name": "stdout",
     "output_type": "stream",
     "text": [
      "9999964.24491\n",
      "10000000.0\n",
      "Should be 1:  0.999996424491\n"
     ]
    }
   ],
   "source": [
    "print Yield_tot_sim\n",
    "print Yield_tot\n",
    "print 'Should be 1: ', Yield_tot_sim/Yield_tot"
   ]
  },
  {
   "cell_type": "markdown",
   "metadata": {},
   "source": [
    "#### Check trend:"
   ]
  },
  {
   "cell_type": "code",
   "execution_count": 39,
   "metadata": {
    "collapsed": false
   },
   "outputs": [
    {
     "data": {
      "text/plain": [
       "<matplotlib.legend.Legend at 0x7f854882c190>"
      ]
     },
     "execution_count": 39,
     "metadata": {},
     "output_type": "execute_result"
    },
    {
     "data": {
      "image/png": "[encoded data removed]",
      "text/plain": [
       "<matplotlib.figure.Figure at 0x7f854894a5d0>"
      ]
     },
     "metadata": {},
     "output_type": "display_data"
    }
   ],
   "source": [
    "s2.plot_mass(fig=44,specie='H',source='sn1a',label='H',color='k',shape='-',marker='o',markevery=800)\n",
    "yields1=[]\n",
    "ages1=[]\n",
    "m=[1,1.65,2,3,4,5,6,7,12,15,20,25]\n",
    "ages=[5.67e9,1.211e9,6.972e8,2.471e8,1.347e8,8.123e7,5.642e7,4.217e7,1.892e7,1.381e7,9.895e6,7.902e6]\n",
    "for m1 in m:\n",
    "    t=ages[m.index(m1)]\n",
    "    #yields= a* dblquad(wdfrac,0,t,lambda x: spline1(x), lambda x: 8)[0] *1e11*0.1 \n",
    "    yields= A*quad(maoz_sn_rate_int,0,t)[0] *1e11*0.1 #special factor\n",
    "    yields1.append(yields)\n",
    "    ages1.append(t)\n",
    "plt.plot(ages1,yields1,marker='+',linestyle='',markersize=20,label='semi')\n",
    "plt.legend(loc=2)\n",
    "plt.legend(loc=3)"
   ]
  },
  {
   "cell_type": "markdown",
   "metadata": {},
   "source": [
    "### Test of parameter tend, dt and special_timesteps"
   ]
  },
  {
   "cell_type": "markdown",
   "metadata": {},
   "source": [
    "#### First constant timestep size of 1e7"
   ]
  },
  {
   "cell_type": "code",
   "execution_count": 40,
   "metadata": {
    "collapsed": false
   },
   "outputs": [
    {
     "name": "stdout",
     "output_type": "stream",
     "text": [
      "SYGMA run in progress..\n",
      "   SYGMA run completed - Run time: 12.78s\n"
     ]
    }
   ],
   "source": [
    "import sygma as s\n",
    "s1=s.sygma(iolevel=0,mgal=1e11,dt=1e7,tend=1.3e10,special_timesteps=-1,imf_type='salpeter',imf_bdys=[1,30],hardsetZ=0.0001,table='yield_tables/isotope_yield_table_h1.txt',sn1a_on=False, sn1a_table='yield_tables/sn1a_h1.txt', iniabu_table='yield_tables/iniabu/iniab1.0E-04GN93_alpha_h1.ppn')"
   ]
  },
  {
   "cell_type": "code",
   "execution_count": 41,
   "metadata": {
    "collapsed": false
   },
   "outputs": [
    {
     "name": "stdout",
     "output_type": "stream",
     "text": [
      "Should be 0:  0\n",
      "Should be 1:  1.0\n",
      "Should be 1:  1.0\n",
      "Should be 1:  1.0\n",
      "Should be 1:  1.0\n"
     ]
    }
   ],
   "source": [
    "print 'Should be 0: ',s1.history.age[0]\n",
    "print 'Should be 1: ',s1.history.age[-1]/1.3e10\n",
    "print 'Should be 1: ',s1.history.timesteps[0]/1e7\n",
    "print 'Should be 1: ',s1.history.timesteps[-1]/1e7\n",
    "print 'Should be 1: ',sum(s1.history.timesteps)/1.3e10"
   ]
  },
  {
   "cell_type": "markdown",
   "metadata": {},
   "source": [
    "#### First timestep size of 1e7, then  in log space to tend with a total number of steps of 200; Note: changed tend"
   ]
  },
  {
   "cell_type": "code",
   "execution_count": 42,
   "metadata": {
    "collapsed": false
   },
   "outputs": [
    {
     "name": "stdout",
     "output_type": "stream",
     "text": [
      "SYGMA run in progress..\n",
      "   SYGMA run completed - Run time: 1.88s\n"
     ]
    }
   ],
   "source": [
    "import sygma as s\n",
    "s2=s.sygma(iolevel=0,mgal=1e11,dt=1e7,tend=1.5e9,special_timesteps=200,imf_type='salpeter',imf_bdys=[1,30],hardsetZ=0.0001,table='yield_tables/isotope_yield_table_h1.txt',sn1a_on=False, sn1a_table='yield_tables/sn1a_h1.txt', iniabu_table='yield_tables/iniabu/iniab1.0E-04GN93_alpha_h1.ppn')"
   ]
  },
  {
   "cell_type": "code",
   "execution_count": 43,
   "metadata": {
    "collapsed": false
   },
   "outputs": [
    {
     "name": "stdout",
     "output_type": "stream",
     "text": [
      "Should be 0:  0\n",
      "Should be 1:  1.0\n",
      "Should be 201:  201\n",
      "Should be 1:  1.0\n",
      "Should be 200:  200\n",
      "Should be 1:  1.0\n"
     ]
    }
   ],
   "source": [
    "print 'Should be 0: ',s2.history.age[0]\n",
    "print 'Should be 1: ',s2.history.age[-1]/1.5e9\n",
    "print 'Should be 201: ',len(s2.history.age)\n",
    "print 'Should be 1: ',s2.history.timesteps[0]/1e7\n",
    "#print 'in dt steps: ',s2.history.timesteps[1]/1e7,s1.history.timesteps[2]/1e7,'..; larger than 1e7 at step 91!'\n",
    "print 'Should be 200: ',len(s2.history.timesteps)\n",
    "print 'Should be 1: ',sum(s2.history.timesteps)/1.5e9"
   ]
  },
  {
   "cell_type": "code",
   "execution_count": 44,
   "metadata": {
    "collapsed": false
   },
   "outputs": [
    {
     "data": {
      "text/plain": [
       "<matplotlib.legend.Legend at 0x7f854bb1bbd0>"
      ]
     },
     "execution_count": 44,
     "metadata": {},
     "output_type": "execute_result"
    },
    {
     "data": {
      "image/png": "[encoded data removed]",
      "text/plain": [
       "<matplotlib.figure.Figure at 0x7f854ad9b190>"
      ]
     },
     "metadata": {},
     "output_type": "display_data"
    }
   ],
   "source": [
    "plt.figure(55)\n",
    "plt.plot(s1.history.age[1:],s1.history.timesteps,label='linear (constant) scaled',marker='+')\n",
    "plt.plot(s2.history.age[1:],s2.history.timesteps,label='log scaled',marker='+')\n",
    "plt.yscale('log');plt.xscale('log')\n",
    "plt.xlabel('age/years');plt.ylabel('timesteps/years');plt.legend(loc=4)"
   ]
  },
  {
   "cell_type": "markdown",
   "metadata": {},
   "source": [
    "#### Choice of dt should not change final composition:"
   ]
  },
  {
   "cell_type": "markdown",
   "metadata": {},
   "source": [
    "for special_timesteps:"
   ]
  },
  {
   "cell_type": "code",
   "execution_count": 45,
   "metadata": {
    "collapsed": false
   },
   "outputs": [
    {
     "name": "stdout",
     "output_type": "stream",
     "text": [
      "SYGMA run in progress..\n",
      "   SYGMA run completed - Run time: 10.33s\n",
      "SYGMA run in progress..\n",
      "   SYGMA run completed - Run time: 0.02s\n",
      "SYGMA run in progress..\n",
      "   SYGMA run completed - Run time: 2.45s\n",
      "SYGMA run in progress..\n",
      "   SYGMA run completed - Run time: 1.76s\n"
     ]
    }
   ],
   "source": [
    "s3=s.sygma(iolevel=0,mgal=1e11,dt=1e7,tend=1.3e10,special_timesteps=-1,imf_type='salpeter',imf_bdys=[1,30],hardsetZ=0.0001,table='yield_tables/isotope_yield_table_h1.txt',sn1a_on=False, sn1a_table='yield_tables/sn1a_h1.txt', iniabu_table='yield_tables/iniabu/iniab1.0E-04GN93_alpha_h1.ppn')\n",
    "s4=s.sygma(iolevel=0,mgal=1e11,dt=1.3e10,tend=1.3e10,special_timesteps=-1,imf_type='salpeter',imf_bdys=[1,30],hardsetZ=0.0001,table='yield_tables/isotope_yield_table_h1.txt',sn1a_on=False, sn1a_table='yield_tables/sn1a_h1.txt', iniabu_table='yield_tables/iniabu/iniab1.0E-04GN93_alpha_h1.ppn')\n",
    "s5=s.sygma(iolevel=0,mgal=1e11,dt=1e7,tend=1.3e10,special_timesteps=200,imf_type='salpeter',imf_bdys=[1,30],hardsetZ=0.0001,table='yield_tables/isotope_yield_table_h1.txt',sn1a_on=False, sn1a_table='yield_tables/sn1a_h1.txt', iniabu_table='yield_tables/iniabu/iniab1.0E-04GN93_alpha_h1.ppn')\n",
    "s6=s.sygma(iolevel=0,mgal=1e11,dt=1.3e10,tend=1.3e10,special_timesteps=200,imf_type='salpeter',imf_bdys=[1,30],hardsetZ=0.0001,table='yield_tables/isotope_yield_table_h1.txt',sn1a_on=False, sn1a_table='yield_tables/sn1a_h1.txt', iniabu_table='yield_tables/iniabu/iniab1.0E-04GN93_alpha_h1.ppn')"
   ]
  },
  {
   "cell_type": "code",
   "execution_count": 46,
   "metadata": {
    "collapsed": false
   },
   "outputs": [
    {
     "name": "stdout",
     "output_type": "stream",
     "text": [
      "should be 1  1.0\n",
      "should be 1 1.0\n"
     ]
    }
   ],
   "source": [
    "#print s3.history.ism_iso_yield[-1][0] == s4.history.ism_iso_yield[-1][0] why false?\n",
    "print 'should be 1 ',s3.history.ism_iso_yield[-1][0]/s4.history.ism_iso_yield[-1][0]\n",
    "#print s3.history.ism_iso_yield[-1][0],s4.history.ism_iso_yield[-1][0]\n",
    "print 'should be 1',s5.history.ism_iso_yield[-1][0]/s6.history.ism_iso_yield[-1][0]\n",
    "#print s5.history.ism_iso_yield[-1][0],s6.history.ism_iso_yield[-1][0]\n"
   ]
  },
  {
   "cell_type": "markdown",
   "metadata": {},
   "source": [
    "### Test of parameter mgal - the total mass of the SSP"
   ]
  },
  {
   "cell_type": "markdown",
   "metadata": {},
   "source": [
    "Test the total isotopic and elemental ISM matter at first and last timestep."
   ]
  },
  {
   "cell_type": "code",
   "execution_count": 47,
   "metadata": {
    "collapsed": false
   },
   "outputs": [
    {
     "name": "stdout",
     "output_type": "stream",
     "text": [
      "SYGMA run in progress..\n",
      "   SYGMA run completed - Run time: 0.42s\n",
      "SYGMA run in progress..\n",
      "   SYGMA run completed - Run time: 0.39s\n",
      "SYGMA run in progress..\n",
      "   SYGMA run completed - Run time: 0.24s\n"
     ]
    }
   ],
   "source": [
    "s1=s.sygma(iolevel=0,mgal=1e7,dt=1e7,tend=1.3e10,hardsetZ=0.0001,table='yield_tables/isotope_yield_table_h1.txt',sn1a_on=False, sn1a_table='yield_tables/sn1a_h1.txt', iniabu_table='yield_tables/iniabu/iniab1.0E-04GN93_alpha_h1.ppn')\n",
    "s2=s.sygma(iolevel=0,mgal=1e8,dt=1e8,tend=1.3e10,hardsetZ=0.0001,table='yield_tables/isotope_yield_table_h1.txt',sn1a_on=False, sn1a_table='yield_tables/sn1a_h1.txt', iniabu_table='yield_tables/iniabu/iniab1.0E-04GN93_alpha_h1.ppn')\n",
    "s3=s.sygma(iolevel=0,mgal=1e9,dt=1e9,tend=1.3e10,hardsetZ=0.0001,table='yield_tables/isotope_yield_table_h1.txt',sn1a_on=False, sn1a_table='yield_tables/sn1a_h1.txt', iniabu_table='yield_tables/iniabu/iniab1.0E-04GN93_alpha_h1.ppn')"
   ]
  },
  {
   "cell_type": "code",
   "execution_count": 48,
   "metadata": {
    "collapsed": false
   },
   "outputs": [
    {
     "name": "stdout",
     "output_type": "stream",
     "text": [
      "At timestep 0:  1.0 1.0 1.0\n",
      "At timestep 0:  1.0 1.0 1.0\n"
     ]
    }
   ],
   "source": [
    "print 'At timestep 0: ',sum(s1.history.ism_elem_yield[0])/1e7,sum(s2.history.ism_elem_yield[0])/1e8,sum(s3.history.ism_elem_yield[0])/1e9\n",
    "print 'At timestep 0: ',sum(s1.history.ism_iso_yield[0])/1e7,sum(s2.history.ism_iso_yield[0])/1e8,sum(s3.history.ism_iso_yield[0])/1e9"
   ]
  },
  {
   "cell_type": "code",
   "execution_count": 49,
   "metadata": {
    "collapsed": false
   },
   "outputs": [
    {
     "name": "stdout",
     "output_type": "stream",
     "text": [
      "At last timestep, should be the same fraction:  0.0170583657213 0.0170583657213 0.0170583657213\n",
      "At last timestep, should be the same fraction:  0.0170583657213 0.0170583657213 0.0170583657213\n"
     ]
    }
   ],
   "source": [
    "print 'At last timestep, should be the same fraction: ',sum(s1.history.ism_elem_yield[-1])/1e7,sum(s2.history.ism_elem_yield[-1])/1e8,sum(s3.history.ism_elem_yield[-1])/1e9\n",
    "print 'At last timestep, should be the same fraction: ',sum(s1.history.ism_iso_yield[-1])/1e7,sum(s2.history.ism_iso_yield[-1])/1e8,sum(s3.history.ism_iso_yield[-1])/1e9"
   ]
  },
  {
   "cell_type": "markdown",
   "metadata": {},
   "source": [
    "### Test of SN rate: depend on timestep size: shows always mean value of timestep; larger timestep> different mean"
   ]
  },
  {
   "cell_type": "code",
   "execution_count": 50,
   "metadata": {
    "collapsed": false
   },
   "outputs": [
    {
     "name": "stdout",
     "output_type": "stream",
     "text": [
      "SYGMA run in progress..\n",
      "   SYGMA run completed - Run time: 0.87s\n",
      "SYGMA run in progress..\n",
      "   SYGMA run completed - Run time: 0.97s\n",
      "SYGMA run in progress..\n",
      "   SYGMA run completed - Run time: 2.04s\n",
      "SYGMA run in progress..\n",
      "   SYGMA run completed - Run time: 0.4s\n"
     ]
    }
   ],
   "source": [
    "reload(s)\n",
    "s1=s.sygma(iolevel=0,mgal=1e11,dt=7e6,tend=1e8,imf_type='salpeter',imf_bdys=[1,30],hardsetZ=0.0001,table='yield_tables/isotope_yield_table_h1.txt',sn1a_on=True, sn1a_table='yield_tables/sn1a_h1.txt', iniabu_table='yield_tables/iniabu/iniab1.0E-04GN93_alpha_h1.ppn',pop3_table='yield_tables/popIII_h1.txt')\n",
    "s2=s.sygma(iolevel=0,mgal=1e11,dt=7e6,tend=1e8,special_timesteps=-1,imf_type='salpeter',imf_bdys=[1,30],hardsetZ=0.0001,table='yield_tables/isotope_yield_table_h1.txt',sn1a_on=True, sn1a_table='yield_tables/sn1a_h1.txt', iniabu_table='yield_tables/iniabu/iniab1.0E-04GN93_alpha_h1.ppn',pop3_table='yield_tables/popIII_h1.txt')\n",
    "s3=s.sygma(iolevel=0,mgal=1e11,dt=1e6,tend=1e8,special_timesteps=-1,imf_type='salpeter',imf_bdys=[1,30],hardsetZ=0.0001,table='yield_tables/isotope_yield_table_h1.txt',sn1a_on=True, sn1a_table='yield_tables/sn1a_h1.txt', iniabu_table='yield_tables/iniabu/iniab1.0E-04GN93_alpha_h1.ppn',pop3_table='yield_tables/popIII_h1.txt')\n",
    "s4=s.sygma(iolevel=0,mgal=1e11,dt=3e7,tend=1e8,special_timesteps=-1,imf_type='salpeter',imf_bdys=[1,30],hardsetZ=0.0001,table='yield_tables/isotope_yield_table_h1.txt',sn1a_on=True, sn1a_table='yield_tables/sn1a_h1.txt', iniabu_table='yield_tables/iniabu/iniab1.0E-04GN93_alpha_h1.ppn',pop3_table='yield_tables/popIII_h1.txt')"
   ]
  },
  {
   "cell_type": "code",
   "execution_count": 51,
   "metadata": {
    "collapsed": false
   },
   "outputs": [
    {
     "name": "stderr",
     "output_type": "stream",
     "text": [
      "/media/christian/ExtDrive64/NuGrid/NUPYCEE2/sygma.py:1733: RuntimeWarning: invalid value encountered in divide\n",
      "  sn1a_rate=np.array(sn1anumbers[1:])/ (np.array(self.history.timesteps)/100.)\n",
      "/media/christian/ExtDrive64/NuGrid/NUPYCEE2/sygma.py:1734: RuntimeWarning: invalid value encountered in divide\n",
      "  sn2_rate=np.array(sn2numbers[1:])/ (np.array(self.history.timesteps)/100.)\n"
     ]
    },
    {
     "data": {
      "text/plain": [
       "(100.0, 10000.0)"
      ]
     },
     "execution_count": 51,
     "metadata": {},
     "output_type": "execute_result"
    },
    {
     "data": {
      "image/png": "[encoded data removed]",
      "text/plain": [
       "<matplotlib.figure.Figure at 0x7f85483d3390>"
      ]
     },
     "metadata": {},
     "output_type": "display_data"
    }
   ],
   "source": [
    "s1.plot_sn_distr(rate=True,rate_only='sn2',label1='SN1a, rate, 1',label2='SNII, rate 1',marker1='o',marker2='s',shape2='-',markevery=1)\n",
    "s2.plot_sn_distr(rate=True,rate_only='sn2',label1='SN1a, rate, 2',label2='SNII rate 2',marker1='d',marker2='p',markevery=1,shape2='-.')\n",
    "s4.plot_sn_distr(rate=True,rate_only='sn2',label1='SN1a, rate, 2',label2='SNII rate 2',marker1='d',marker2='+',markevery=1,shape2=':',color2='y')\n",
    "s3.plot_sn_distr(rate=True,rate_only='sn2',label1='SN1a, rate, 2',label2='SNII rate 2',marker1='d',marker2='x',markevery=1,shape2='--')\n",
    "plt.xlim(6e6,7e7)\n",
    "#plt.xlim(6.5e6,4e7)\n",
    "plt.vlines(7e6,1e2,1e9)\n",
    "plt.ylim(1e2,1e4)"
   ]
  },
  {
   "cell_type": "code",
   "execution_count": 52,
   "metadata": {
    "collapsed": false
   },
   "outputs": [
    {
     "name": "stdout",
     "output_type": "stream",
     "text": [
      "4.84714211004\n",
      "4.84714211004\n"
     ]
    }
   ],
   "source": [
    "print s1.history.sn2_numbers[1]/s1.history.timesteps[0]\n",
    "print s2.history.sn2_numbers[1]/s2.history.timesteps[0]\n",
    "#print s1.history.timesteps[:5]\n",
    "#print s2.history.timesteps[:5]"
   ]
  },
  {
   "cell_type": "code",
   "execution_count": 53,
   "metadata": {
    "collapsed": false
   },
   "outputs": [
    {
     "name": "stdout",
     "output_type": "stream",
     "text": [
      "SYGMA run in progress..\n",
      "   SYGMA run completed - Run time: 1.12s\n",
      "SYGMA run in progress..\n",
      "   SYGMA run completed - Run time: 25.55s\n"
     ]
    }
   ],
   "source": [
    "s3=s.sygma(iolevel=0,mgal=1e11,dt=1e7,tend=1.3e10,imf_type='salpeter',imf_bdys=[1,30],hardsetZ=0.0001,table='yield_tables/isotope_yield_table_h1.txt',sn1a_on=True, sn1a_table='yield_tables/sn1a_h1.txt', iniabu_table='yield_tables/iniabu/iniab1.0E-04GN93_alpha_h1.ppn',pop3_table='yield_tables/popIII_h1.txt')\n",
    "s4=s.sygma(iolevel=0,mgal=1e11,dt=1e7,tend=1.3e10,special_timesteps=-1,imf_type='salpeter',imf_bdys=[1,30],hardsetZ=0.0001,table='yield_tables/isotope_yield_table_h1.txt',sn1a_on=True, sn1a_table='yield_tables/sn1a_h1.txt', iniabu_table='yield_tables/iniabu/iniab1.0E-04GN93_alpha_h1.ppn',pop3_table='yield_tables/popIII_h1.txt')"
   ]
  },
  {
   "cell_type": "markdown",
   "metadata": {},
   "source": [
    "##### Rate does not depend on timestep type:"
   ]
  },
  {
   "cell_type": "code",
   "execution_count": 54,
   "metadata": {
    "collapsed": false
   },
   "outputs": [
    {
     "data": {
      "text/plain": [
       "(30000000.0, 10000000000.0)"
      ]
     },
     "execution_count": 54,
     "metadata": {},
     "output_type": "execute_result"
    },
    {
     "data": {
      "image/png": "[encoded data removed]",
      "text/plain": [
       "<matplotlib.figure.Figure at 0x7f854be94810>"
      ]
     },
     "metadata": {},
     "output_type": "display_data"
    }
   ],
   "source": [
    "s3.plot_sn_distr(fig=66,rate=True,rate_only='sn1a',label1='SN1a, rate',label2='SNII, rate',marker1='o',marker2='s',markevery=1)\n",
    "s4.plot_sn_distr(fig=66,rate=True,rate_only='sn1a',label1='SN1a, number',label2='SNII number',marker1='d',marker2='p')\n",
    "plt.xlim(3e7,1e10)"
   ]
  },
  {
   "cell_type": "code",
   "execution_count": 55,
   "metadata": {
    "collapsed": false
   },
   "outputs": [
    {
     "data": {
      "text/plain": [
       "(1000000.0, 15000000000.0)"
      ]
     },
     "execution_count": 55,
     "metadata": {},
     "output_type": "execute_result"
    },
    {
     "data": {
      "image/png": "[encoded data removed]",
      "text/plain": [
       "<matplotlib.figure.Figure at 0x7f8547df96d0>"
      ]
     },
     "metadata": {},
     "output_type": "display_data"
    }
   ],
   "source": [
    "s1.plot_sn_distr(fig=77,rate=True,marker1='o',marker2='s',markevery=5)\n",
    "s2.plot_sn_distr(fig=77,rate=True,marker1='x',marker2='^',markevery=1)\n",
    "#s1.plot_sn_distr(rate=False)\n",
    "#s2.plot_sn_distr(rate=True)\n",
    "#s2.plot_sn_distr(rate=False)\n",
    "plt.xlim(1e6,1.5e10)\n",
    "#plt.ylim(1e2,1e4)"
   ]
  },
  {
   "cell_type": "markdown",
   "metadata": {},
   "source": [
    "### Test of parameter transitionmass : Transition from AGB to massive stars"
   ]
  },
  {
   "cell_type": "markdown",
   "metadata": {},
   "source": [
    "Check  if transitionmass is properly set"
   ]
  },
  {
   "cell_type": "code",
   "execution_count": 56,
   "metadata": {
    "collapsed": false,
    "scrolled": true
   },
   "outputs": [
    {
     "name": "stdout",
     "output_type": "stream",
     "text": [
      "SYGMA run in progress..\n",
      "   SYGMA run completed - Run time: 0.45s\n",
      "Warning: Non-default transitionmass chosen. Use in agreement with yield input!\n",
      "SYGMA run in progress..\n",
      "   SYGMA run completed - Run time: 0.3s\n"
     ]
    }
   ],
   "source": [
    "import sygma as s; reload(s)\n",
    "s1=s.sygma(iolevel=0,imf_bdys=[1.65,30],transitionmass=8,mgal=1e11,dt=1e7,tend=1.3e10,hardsetZ=0.0001,table='yield_tables/isotope_yield_table_h1.txt',sn1a_on=False, sn1a_table='yield_tables/sn1a_h1.txt', iniabu_table='yield_tables/iniabu/iniab1.0E-04GN93_alpha_h1.ppn')\n",
    "s2=s.sygma(iolevel=0,imf_bdys=[1.65,30],transitionmass=10,mgal=1e11,dt=1e7,tend=1.3e10,hardsetZ=0.0001,table='yield_tables/isotope_yield_table_h1.txt',sn1a_on=False, sn1a_table='yield_tables/sn1a_h1.txt', iniabu_table='yield_tables/iniabu/iniab1.0E-04GN93_alpha_h1.ppn')\n",
    "#s3=s.sygma(iolevel=1,imf_bdys=[1.65,30],transitionmass=5,mgal=1e11,dt=1e7,tend=1.3e10,iniZ=-1,hardsetZ=0.0001,table='yield_tables/isotope_yield_table_h1.txt',sn1a_on=False, sn1a_table='yield_tables/sn1a_h1.txt', iniabu_table='yield_tables/iniabu/iniab1.0E-04GN93_alpha_h1.ppn')\n",
    "Yield_tot_sim_8=s1.history.ism_iso_yield_agb[-1][0]\n",
    "Yield_tot_sim_10=s2.history.ism_iso_yield_agb[-1][0]\n",
    "#Yield_tot_sim_5=s2.history.ism_iso_yield_agb[-1][0]\n",
    "\n"
   ]
  },
  {
   "cell_type": "code",
   "execution_count": 57,
   "metadata": {
    "collapsed": false
   },
   "outputs": [],
   "source": [
    "alphaimf=2.35\n",
    "k_N=1e11*(alphaimf-2)/ (-1.65**-(alphaimf-2) + 30**-(alphaimf-2))\n",
    "N_tot=k_N/(alphaimf-1) * (-1.65**-(alphaimf-1) + 8**-(alphaimf-1))\n",
    "Yield_tot_8=0.1*N_tot\n",
    "N_tot=k_N/(alphaimf-1) * (-1.65**-(alphaimf-1) + 10**-(alphaimf-1))\n",
    "Yield_tot_10=0.1*N_tot\n",
    "#N_tot=k_N/(alphaimf-1) * (-1.65**-(alphaimf-1) + 5**-(alphaimf-1))\n",
    "#Yield_tot_5=0.1*N_tot"
   ]
  },
  {
   "cell_type": "code",
   "execution_count": 58,
   "metadata": {
    "collapsed": false
   },
   "outputs": [
    {
     "name": "stdout",
     "output_type": "stream",
     "text": [
      "1: 0.965926274324\n",
      "1: 0.967865323769\n"
     ]
    }
   ],
   "source": [
    "print '1:',Yield_tot_sim_8/Yield_tot_8\n",
    "print '1:',Yield_tot_sim_10/Yield_tot_10\n",
    "#print '1:',Yield_tot_sim_5/Yield_tot_5"
   ]
  },
  {
   "cell_type": "markdown",
   "metadata": {},
   "source": [
    "#2 starbursts"
   ]
  },
  {
   "cell_type": "code",
   "execution_count": 59,
   "metadata": {
    "collapsed": false
   },
   "outputs": [
    {
     "name": "stdout",
     "output_type": "stream",
     "text": [
      "Warning - Use isotopes with care.\n",
      "['H-1']\n",
      "Use initial abundance of  yield_tables/iniabu/iniab1.0E-04GN93_alpha_h1.ppn\n",
      "Number of timesteps:  3.0E+01\n",
      "### Start with initial metallicity of  1.0000E-04\n",
      "###############################\n",
      "SYGMA run in progress..\n",
      "################## Star formation at  1.000E+07 (Z=1.0000E-04) of  0.1\n",
      "Mass locked away: 1.000E+10 , new ISM mass: 9.000E+10\n",
      "__get_mass_bdys: mass_bdys:  [1, 1.325, 1.825, 2.5, 3.5, 4.5, 5.5, 6.5, 8, 13.5, 17.5, 22.5, 30]\n",
      "__get_mass_bdys: m_stars [1.0, 1.65, 2.0, 3.0, 4.0, 5.0, 6.0, 7.0, 12.0, 15.0, 20.0, 25.0]\n",
      "Stars under consideration (take into account user-selected imf ends):\n",
      "1 | 1.0 | 1.325\n",
      "1.325 | 1.65 | 1.825\n",
      "1.825 | 2.0 | 2.5\n",
      "2.5 | 3.0 | 3.5\n",
      "3.5 | 4.0 | 4.5\n",
      "4.5 | 5.0 | 5.5\n",
      "5.5 | 6.0 | 6.5\n",
      "6.5 | 7.0 | 8\n",
      "8 | 12.0 | 13.5\n",
      "13.5 | 15.0 | 17.5\n",
      "17.5 | 20.0 | 22.5\n",
      "22.5 | 25.0 | 30\n",
      "lens:  13 12\n",
      "Total mass of the gas in stars:\n",
      "AGB:  7.430E+09\n",
      "Massive:  2.570E+09\n",
      "25.0 Wind (if massive +SN2): of Z= 1.000000E-04  at time  1.000E+07 with lifetime:  7.806E+06\n",
      "20.0 Wind (if massive +SN2): of Z= 1.000000E-04  at time  1.000E+07 with lifetime:  9.828E+06\n",
      "15.0 Wind (if massive +SN2): of Z= 1.000000E-04  at time  1.280E+07 with lifetime:  1.391E+07\n",
      "12.0 Wind (if massive +SN2): of Z= 1.000000E-04  at time  1.640E+07 with lifetime:  1.896E+07\n",
      "7.0 Wind (if massive +SN2): of Z= 1.000000E-04  at time  3.443E+07 with lifetime:  4.284E+07\n",
      "6.0 Wind (if massive +SN2): of Z= 1.000000E-04  at time  5.645E+07 with lifetime:  5.738E+07\n",
      "5.0 Wind (if massive +SN2): of Z= 1.000000E-04  at time  7.228E+07 with lifetime:  8.381E+07\n",
      "4.0 Wind (if massive +SN2): of Z= 1.000000E-04  at time  1.185E+08 with lifetime:  1.377E+08\n",
      "3.0 Wind (if massive +SN2): of Z= 1.000000E-04  at time  1.943E+08 with lifetime:  2.597E+08\n",
      "2.0 Wind (if massive +SN2): of Z= 1.000000E-04  at time  5.224E+08 with lifetime:  7.489E+08\n",
      "1.65 Wind (if massive +SN2): of Z= 1.000000E-04  at time  1.097E+09 with lifetime:  1.271E+09\n",
      "1.0 Wind (if massive +SN2): of Z= 1.000000E-04  at time  2.949E+09 with lifetime:  6.128E+09\n",
      "################## Star formation at  1.280E+07 (Z=1.0000E-04) of  1.0\n",
      "Mass locked away: 9.000E+10 , new ISM mass: 0.000E+00\n",
      "__get_mass_bdys: mass_bdys:  [1, 1.325, 1.825, 2.5, 3.5, 4.5, 5.5, 6.5, 8, 13.5, 17.5, 22.5, 30]\n",
      "__get_mass_bdys: m_stars [1.0, 1.65, 2.0, 3.0, 4.0, 5.0, 6.0, 7.0, 12.0, 15.0, 20.0, 25.0]\n",
      "Stars under consideration (take into account user-selected imf ends):\n",
      "1 | 1.0 | 1.325\n",
      "1.325 | 1.65 | 1.825\n",
      "1.825 | 2.0 | 2.5\n",
      "2.5 | 3.0 | 3.5\n",
      "3.5 | 4.0 | 4.5\n",
      "4.5 | 5.0 | 5.5\n",
      "5.5 | 6.0 | 6.5\n",
      "6.5 | 7.0 | 8\n",
      "8 | 12.0 | 13.5\n",
      "13.5 | 15.0 | 17.5\n",
      "17.5 | 20.0 | 22.5\n",
      "22.5 | 25.0 | 30\n",
      "lens:  13 12\n",
      "Total mass of the gas in stars:\n",
      "AGB:  6.687E+10\n",
      "Massive:  2.313E+10\n",
      "25.0 Wind (if massive +SN2): of Z= 1.000000E-04  at time  2.100E+07 with lifetime:  7.806E+06\n",
      "20.0 Wind (if massive +SN2): of Z= 1.000000E-04  at time  2.100E+07 with lifetime:  9.828E+06\n",
      "15.0 Wind (if massive +SN2): of Z= 1.000000E-04  at time  2.688E+07 with lifetime:  1.391E+07\n",
      "12.0 Wind (if massive +SN2): of Z= 1.000000E-04  at time  2.688E+07 with lifetime:  1.896E+07\n",
      "7.0 Wind (if massive +SN2): of Z= 1.000000E-04  at time  5.645E+07 with lifetime:  4.284E+07\n",
      "6.0 Wind (if massive +SN2): of Z= 1.000000E-04  at time  7.228E+07 with lifetime:  5.738E+07\n",
      "5.0 Wind (if massive +SN2): of Z= 1.000000E-04  at time  9.255E+07 with lifetime:  8.381E+07\n",
      "4.0 Wind (if massive +SN2): of Z= 1.000000E-04  at time  1.185E+08 with lifetime:  1.377E+08\n",
      "3.0 Wind (if massive +SN2): of Z= 1.000000E-04  at time  1.943E+08 with lifetime:  2.597E+08\n",
      "2.0 Wind (if massive +SN2): of Z= 1.000000E-04  at time  5.224E+08 with lifetime:  7.489E+08\n",
      "1.65 Wind (if massive +SN2): of Z= 1.000000E-04  at time  1.097E+09 with lifetime:  1.271E+09\n",
      "1.0 Wind (if massive +SN2): of Z= 1.000000E-04  at time  2.949E+09 with lifetime:  6.128E+09\n",
      "time and metallicity and total mass:\n",
      "1.640E+07 1.0000E-04 2.1647E+06\n",
      "time and metallicity and total mass:\n",
      "1.640E+07 1.0000E-04 2.1647E+06\n",
      "################## Star formation at  1.640E+07 (Z=1.0000E-04) of  0.1\n",
      "Mass locked away: 2.165E+05 , new ISM mass: 1.948E+06\n",
      "__get_mass_bdys: mass_bdys:  [1, 1.325, 1.825, 2.5, 3.5, 4.5, 5.5, 6.5, 8, 13.5, 17.5, 22.5, 30]\n",
      "__get_mass_bdys: m_stars [1.0, 1.65, 2.0, 3.0, 4.0, 5.0, 6.0, 7.0, 12.0, 15.0, 20.0, 25.0]\n",
      "Stars under consideration (take into account user-selected imf ends):\n",
      "1 | 1.0 | 1.325\n",
      "1.325 | 1.65 | 1.825\n",
      "1.825 | 2.0 | 2.5\n",
      "2.5 | 3.0 | 3.5\n",
      "3.5 | 4.0 | 4.5\n",
      "4.5 | 5.0 | 5.5\n",
      "5.5 | 6.0 | 6.5\n",
      "6.5 | 7.0 | 8\n",
      "8 | 12.0 | 13.5\n",
      "13.5 | 15.0 | 17.5\n",
      "17.5 | 20.0 | 22.5\n",
      "22.5 | 25.0 | 30\n",
      "lens:  13 12\n",
      "Total mass of the gas in stars:\n",
      "AGB:  1.608E+05\n",
      "Massive:  5.564E+04\n",
      "25.0 Wind (if massive +SN2): of Z= 1.000000E-04  at time  2.100E+07 with lifetime:  7.806E+06\n",
      "20.0 Wind (if massive +SN2): of Z= 1.000000E-04  at time  2.688E+07 with lifetime:  9.828E+06\n",
      "15.0 Wind (if massive +SN2): of Z= 1.000000E-04  at time  2.688E+07 with lifetime:  1.391E+07\n",
      "12.0 Wind (if massive +SN2): of Z= 1.000000E-04  at time  3.443E+07 with lifetime:  1.896E+07\n",
      "7.0 Wind (if massive +SN2): of Z= 1.000000E-04  at time  5.645E+07 with lifetime:  4.284E+07\n",
      "6.0 Wind (if massive +SN2): of Z= 1.000000E-04  at time  7.228E+07 with lifetime:  5.738E+07\n",
      "5.0 Wind (if massive +SN2): of Z= 1.000000E-04  at time  9.255E+07 with lifetime:  8.381E+07\n",
      "4.0 Wind (if massive +SN2): of Z= 1.000000E-04  at time  1.518E+08 with lifetime:  1.377E+08\n",
      "3.0 Wind (if massive +SN2): of Z= 1.000000E-04  at time  2.488E+08 with lifetime:  2.597E+08\n",
      "2.0 Wind (if massive +SN2): of Z= 1.000000E-04  at time  5.224E+08 with lifetime:  7.489E+08\n",
      "1.65 Wind (if massive +SN2): of Z= 1.000000E-04  at time  1.097E+09 with lifetime:  1.271E+09\n",
      "1.0 Wind (if massive +SN2): of Z= 1.000000E-04  at time  2.949E+09 with lifetime:  6.128E+09\n",
      "time and metallicity and total mass:\n",
      "3.443E+07 1.0000E-04 8.2108E+07\n",
      "time and metallicity and total mass:\n",
      "3.443E+07 1.0000E-04 8.2108E+07\n",
      "time and metallicity and total mass:\n",
      "7.228E+07 1.0000E-04 2.4928E+08\n",
      "time and metallicity and total mass:\n",
      "7.228E+07 1.0000E-04 2.4928E+08\n",
      "time and metallicity and total mass:\n",
      "1.518E+08 1.0000E-04 4.5837E+08\n",
      "time and metallicity and total mass:\n",
      "1.518E+08 1.0000E-04 4.5837E+08\n",
      "time and metallicity and total mass:\n",
      "3.186E+08 1.0000E-04 7.6654E+08\n",
      "time and metallicity and total mass:\n",
      "3.186E+08 1.0000E-04 7.6654E+08\n",
      "time and metallicity and total mass:\n",
      "6.690E+08 1.0000E-04 1.1696E+09\n",
      "time and metallicity and total mass:\n",
      "6.690E+08 1.0000E-04 1.1696E+09\n",
      "time and metallicity and total mass:\n",
      "1.405E+09 1.0000E-04 1.7174E+09\n",
      "time and metallicity and total mass:\n",
      "1.405E+09 1.0000E-04 1.7174E+09\n",
      "time and metallicity and total mass:\n",
      "2.949E+09 1.0000E-04 2.4397E+09\n",
      "time and metallicity and total mass:\n",
      "2.949E+09 1.0000E-04 2.4397E+09\n",
      "time and metallicity and total mass:\n",
      "6.192E+09 1.0000E-04 3.3477E+09\n",
      "time and metallicity and total mass:\n",
      "6.192E+09 1.0000E-04 3.3477E+09\n",
      "time and metallicity and total mass:\n",
      "1.300E+10 1.0000E-04 3.6847E+09\n",
      "time and metallicity and total mass:\n",
      "1.300E+10 1.0000E-04 3.6847E+09\n",
      "   SYGMA run completed - Run time: 1.01s\n"
     ]
    },
    {
     "data": {
      "image/png": "[encoded data removed]",
      "text/plain": [
       "<matplotlib.figure.Figure at 0x7f8547c0d290>"
      ]
     },
     "metadata": {},
     "output_type": "display_data"
    },
    {
     "data": {
      "image/png": "[encoded data removed]",
      "text/plain": [
       "<matplotlib.figure.Figure at 0x7f8547804e50>"
      ]
     },
     "metadata": {},
     "output_type": "display_data"
    },
    {
     "data": {
      "image/png": "[encoded data removed]",
      "text/plain": [
       "<matplotlib.figure.Figure at 0x7f85478109d0>"
      ]
     },
     "metadata": {},
     "output_type": "display_data"
    },
    {
     "data": {
      "image/png": "[encoded data removed]",
      "text/plain": [
       "<matplotlib.figure.Figure at 0x7f854782c1d0>"
      ]
     },
     "metadata": {},
     "output_type": "display_data"
    }
   ],
   "source": [
    "s1=s.sygma(starbursts=[0.1,0.1],iolevel=1,mgal=1e11,dt=1e7,imf_type='salpeter',imf_bdys=[1,30],iniZ=0.02,hardsetZ=0.0001,table='yield_tables/isotope_yield_table_h1.txt',sn1a_on=False, sn1a_table='yield_tables/sn1a_h1.txt', iniabu_table='yield_tables/iniabu/iniab1.0E-04GN93_alpha_h1.ppn',pop3_table='yield_tables/popIII_h1.txt')\n"
   ]
  },
  {
   "cell_type": "markdown",
   "metadata": {},
   "source": [
    "# imf_yield_range - include yields only in this mass range"
   ]
  },
  {
   "cell_type": "code",
   "execution_count": 60,
   "metadata": {
    "collapsed": false
   },
   "outputs": [
    {
     "name": "stdout",
     "output_type": "stream",
     "text": [
      "SYGMA run in progress..\n",
      "   SYGMA run completed - Run time: 0.26s\n"
     ]
    }
   ],
   "source": [
    "s0=s.sygma(iolevel=0,iniZ=0.0001,imf_bdys=[0.01,100],imf_yields_range=[1,100],hardsetZ=0.0001,table='yield_tables/isotope_yield_table_h1.txt',sn1a_on=False, sn1a_table='yield_tables/sn1a_h1.txt', iniabu_table='yield_tables/iniabu/iniab1.0E-04GN93_alpha_h1.ppn')"
   ]
  },
  {
   "cell_type": "code",
   "execution_count": null,
   "metadata": {
    "collapsed": true
   },
   "outputs": [],
   "source": []
  },
  {
   "cell_type": "markdown",
   "metadata": {},
   "source": [
    "s1=s.sygma(iolevel=0,mgal=1e11,dt=1e7,imf_type='salpeter',imf_bdys=[1,30],iniZ=0.02,hardsetZ=0.0001,table='yield_tables/isotope_yield_table_h1.txt',sn1a_on=False, sn1a_table='yield_tables/sn1a_h1.txt', iniabu_table='yield_tables/iniabu/iniab1.0E-04GN93_alpha_h1.ppn',pop3_table='yield_tables/popIII_h1.txt')\n"
   ]
  },
  {
   "cell_type": "markdown",
   "metadata": {},
   "source": [
    "# with net yields netyields_on = True"
   ]
  },
  {
   "cell_type": "markdown",
   "metadata": {},
   "source": [
    "### table input"
   ]
  },
  {
   "cell_type": "code",
   "execution_count": 61,
   "metadata": {
    "collapsed": false
   },
   "outputs": [
    {
     "name": "stdout",
     "output_type": "stream",
     "text": [
      "Warning: Non-default transitionmass chosen. Use in agreement with yield input!\n",
      "SYGMA run in progress..\n",
      "Take yields from Z closest to:  0.019285  found:  0.02\n",
      "   SYGMA run completed - Run time: 1.47s\n"
     ]
    }
   ],
   "source": [
    "s0=s.sygma(iolevel=0,imf_bdys=[0.01,100],imf_yields_range=[0.02,99],imf_type='chabrier',transitionmass=6,sfr='input',iniZ=0.02,\\\n",
    "        dt=1e7,tend=1.3e10, mgal=1e1,sn1a_on=True,sn1a_rate='exp',exp_dtd=2e9,exclude_masses=[100,6,7],netyields_on=True,table='yield_tables/isotope_yield_table_wiersma09.txt')"
   ]
  },
  {
   "cell_type": "code",
   "execution_count": null,
   "metadata": {
    "collapsed": true
   },
   "outputs": [],
   "source": []
  },
  {
   "cell_type": "code",
   "execution_count": null,
   "metadata": {
    "collapsed": true
   },
   "outputs": [],
   "source": []
  }
 ],
 "metadata": {
  "kernelspec": {
   "display_name": "Python 2",
   "language": "python",
   "name": "python2"
  },
  "language_info": {
   "codemirror_mode": {
    "name": "ipython",
    "version": 2
   },
   "file_extension": ".py",
   "mimetype": "text/x-python",
   "name": "python",
   "nbconvert_exporter": "python",
   "pygments_lexer": "ipython2",
   "version": "2.7.9"
  }
 },
 "nbformat": 4,
 "nbformat_minor": 0
}
