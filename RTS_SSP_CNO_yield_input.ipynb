{
 "cells": [
  {
   "cell_type": "markdown",
   "metadata": {},
   "source": [
    "# Regression test suite: Test of basic SSP GCE features"
   ]
  },
  {
   "cell_type": "markdown",
   "metadata": {},
   "source": [
    "Test of SSP with artificial yields of C,N,O + Ni provided in tables. \n",
    "C12 only in low-masss stars (up to 3Msun).\n",
    "N14 only in intermediate mass stars (up to 7Msun).\n",
    "O16 only in massive stars.\n",
    "N-58 only in SNIa.\n",
    "Each star produces only 0.1Msun of yields.\n",
    "\n",
    "Focus are basic GCE features.\n",
    "You can find the documentation <a href=\"doc/sygma.html\">here</a>.\n"
   ]
  },
  {
   "cell_type": "markdown",
   "metadata": {},
   "source": [
    "## Results:"
   ]
  },
  {
   "cell_type": "markdown",
   "metadata": {},
   "source": [
    "$\\odot$ Distinguished final ISM from different sources (low mass, massive AGB, massive stars, SN1a)\n",
    "\n",
    "$\\odot$ Evolution of different sources\n",
    "\n",
    "$\\odot$ Check of transition mass\n",
    "\n",
    "$\\odot$ Check of the exclude_masses parameter\n",
    "\n",
    "$\\odot$ IMPORTANT: Change of SNIa (time) contribution when changing the mass interval! Vogelsberger SNIa does not allow to only partly include SNIa contribution "
   ]
  },
  {
   "cell_type": "code",
   "execution_count": 1,
   "metadata": {
    "collapsed": false
   },
   "outputs": [
    {
     "name": "stderr",
     "output_type": "stream",
     "text": [
      "/home/christian/test/ipython/IPython/kernel/__init__.py:10: UserWarning: The `IPython.kernel` package has been deprecated. You should import from ipython_kernel or jupyter_client instead.\n",
      "  warn(\"The `IPython.kernel` package has been deprecated. \"\n"
     ]
    }
   ],
   "source": [
    "#from imp import *\n",
    "#s=load_source('sygma','/home/nugrid/nugrid/SYGMA/SYGMA_online/SYGMA_dev/sygma.py')\n",
    "import sygma as s\n",
    "reload(s)\n",
    "from scipy.integrate import quad\n",
    "from scipy.interpolate import UnivariateSpline\n",
    "import matplotlib.pyplot as plt\n",
    "%matplotlib inline\n",
    "import numpy as np\n",
    "#import mpld3\n",
    "#mpld3.enable_notebook()"
   ]
  },
  {
   "cell_type": "markdown",
   "metadata": {},
   "source": [
    "The IMF allows to calculate the number of stars $N_{12}$ in the mass interval [m1,m2] with\n",
    "\n",
    "(I) $N_{12}$ = k_N $\\int _{m1}^{m2} m^{-2.35} dm$ \n",
    "\n",
    "Where k_N is the normalization constant. It can be derived from the total amount of mass of the system $M_{tot}$\n",
    "since the total mass $M_{12}$ in the mass interval above can be estimated with\n",
    "\n",
    "(II) $M_{12}$ = k_N $\\int _{m1}^{m2} m^{-1.35} dm$\n",
    "\n",
    "With a total mass interval of [1,30] and $M_{tot}=1e11$ the $k_N$ can be derived:\n",
    "\n",
    "$1e11 = k_N/0.35 * (1^{-0.35} - 30^{-0.35})$"
   ]
  },
  {
   "cell_type": "code",
   "execution_count": 38,
   "metadata": {
    "collapsed": false
   },
   "outputs": [],
   "source": [
    "k_N=1e11*0.35/ (1**-0.35 - 30**-0.35) #(I)"
   ]
  },
  {
   "cell_type": "markdown",
   "metadata": {},
   "source": [
    "The total number of stars $N_{tot}$ is then:"
   ]
  },
  {
   "cell_type": "code",
   "execution_count": 39,
   "metadata": {
    "collapsed": false
   },
   "outputs": [],
   "source": [
    "N_tot=k_N/1.35 * (1**-1.35 - 30**-1.35) #(II)"
   ]
  },
  {
   "cell_type": "code",
   "execution_count": 40,
   "metadata": {
    "collapsed": false
   },
   "outputs": [],
   "source": [
    "k_N=1e11*0.35/ (1**-0.35 - 30**-0.35)"
   ]
  },
  {
   "cell_type": "markdown",
   "metadata": {},
   "source": [
    "### Distinguish between 2 sources (AGB,massive)"
   ]
  },
  {
   "cell_type": "code",
   "execution_count": 42,
   "metadata": {
    "collapsed": false
   },
   "outputs": [
    {
     "name": "stdout",
     "output_type": "stream",
     "text": [
      "self.imf_bdys_pop3=imf_bdys_pop3 [0.1, 100]\n",
      "SYGMA run in progress..\n",
      "__get_mfac\n",
      "1,30 wrong\n",
      "apply_imf_mass_bdys [1, 1.325, 1.825, 2.5, 3.5, 4.5, 5.5, 6.5, 8, 13.5, 17.5, 22.5, 30]\n",
      "imf_bd [1, 30]\n",
      "   SYGMA run completed - Run time: 0.8s\n",
      "['C-12', 'N-14', 'O-16', 'Ni-58']\n"
     ]
    }
   ],
   "source": [
    "s1=s.sygma(iolevel=0,mgal=1e11,dt=1e7,tend=1.3e10,imf_type='salpeter',alphaimf=2.35,imf_bdys=[1,30],sn1a_on=True,hardsetZ=0.0001,table='yield_tables/isotope_yield_table_cnoni.txt', sn1a_table='yield_tables/sn1a_cnoni.txt', iniabu_table='yield_tables/iniabu/iniab1.0E-04GN93_alpha_cnoni.ppn')\n",
    "print s1.history.isotopes\n",
    "Yield_lagb_sim=s1.history.ism_iso_yield[-1][0]\n",
    "Yield_magb_sim=s1.history.ism_iso_yield[-1][1]\n",
    "Yield_massive_sim=s1.history.ism_iso_yield[-1][2]\n",
    "Yield_sn1a_sim=s1.history.ism_iso_yield[-1][3]\n"
   ]
  },
  {
   "cell_type": "markdown",
   "metadata": {},
   "source": [
    "Using the mass boundaries chosen in the yield tables:\n",
    "\n",
    "low mass AGB: till 4 [1,3.5]\n",
    "\n",
    "massive AGB : till 8 [3.5,8] #Different because M12 star is missing in set1.2\n",
    "\n",
    "massive stars till 30 [8,30]"
   ]
  },
  {
   "cell_type": "code",
   "execution_count": 43,
   "metadata": {
    "collapsed": false
   },
   "outputs": [],
   "source": [
    "N_lagb=k_N/1.35 * (1**-1.35 - 3.5**-1.35)\n",
    "Yield_lagb=0.1*N_lagb\n",
    "N_magb=k_N/1.35 * (3.5**-1.35 - 8.**-1.35)\n",
    "Yield_magb=0.1*N_magb\n",
    "N_massive=k_N/1.35 * (8.**-1.35 - 30**-1.35)\n",
    "Yield_massive=0.1*N_massive"
   ]
  },
  {
   "cell_type": "markdown",
   "metadata": {},
   "source": [
    "Compare final yields:"
   ]
  },
  {
   "cell_type": "code",
   "execution_count": 44,
   "metadata": {
    "collapsed": false
   },
   "outputs": [
    {
     "name": "stdout",
     "output_type": "stream",
     "text": [
      "Should be 1: 1.0\n",
      "Should be 1: 1.0\n",
      "Should be 1: 1.0\n"
     ]
    }
   ],
   "source": [
    "print 'Should be 1:',Yield_lagb_sim/Yield_lagb\n",
    "print 'Should be 1:',Yield_magb_sim/Yield_magb\n",
    "print 'Should be 1:',Yield_massive_sim/Yield_massive"
   ]
  },
  {
   "cell_type": "markdown",
   "metadata": {},
   "source": [
    "### Plotting"
   ]
  },
  {
   "cell_type": "code",
   "execution_count": 45,
   "metadata": {
    "collapsed": false
   },
   "outputs": [
    {
     "data": {
      "text/plain": [
       "(7000000.0, 15000000000.0)"
      ]
     },
     "execution_count": 45,
     "metadata": {},
     "output_type": "execute_result"
    },
    {
     "data": {
      "image/png": "[encoded data removed]",
      "text/plain": [
       "<matplotlib.figure.Figure at 0xb178b7ac>"
      ]
     },
     "metadata": {},
     "output_type": "display_data"
    }
   ],
   "source": [
    "s1.plot_mass(specie='C',label='C',color='r',shape='-',marker='o',markevery=800)\n",
    "s1.plot_mass(specie='N',label='N',color='b',shape='-',marker='o',markevery=800)\n",
    "s1.plot_mass(specie='O',label='O',color='g',shape='-',marker='o',markevery=800)\n",
    "m=[1,1.65,2,3,4,5,6,7,12,15,20,25]\n",
    "#ages=[1.177e10,2.172e9,1.265e9,4.141e8,1.829e8,1.039e8,6.95e7,5.022e7,1.165e7,8.109e6,6.628e6]\n",
    "ages=[5.67e9,1.211e9,6.972e8,2.471e8,1.347e8,8.123e7,5.642e7,4.217e7,1.892e7,1.381e7,9.895e6,7.902e6] #0.0001 lifetiems\n",
    "def yields(min1,max1,k_N):\n",
    "    return ( k_N/1.35 * (min1**-1.35 - max1**-1.35) ) * 0.1\n",
    "yields1_lagb=[]\n",
    "age_lagb=[]\n",
    "yields1_magb=[]\n",
    "age_magb=[]\n",
    "yields1_massive=[]\n",
    "age_massive=[]\n",
    "for m1 in m:\n",
    "    idx=m.index(m1)\n",
    "    #print m1,idx\n",
    "    if m1>=1 and m1<=3.5:\n",
    "        yields1_lagb.append(yields(m1,3.5,k_N))\n",
    "        age_lagb.append(ages[idx])\n",
    "        #print yields(1,m1,k_N)\n",
    "        #print ages[idx]\n",
    "    if m1>=3.5 and m1<=8.:\n",
    "        yields1_magb.append(yields(m1,8,k_N))\n",
    "        age_magb.append(ages[idx])\n",
    "    if m1>=8 and m1<=30:\n",
    "        yields1_massive.append(yields(m1,30,k_N))\n",
    "        age_massive.append(ages[idx])\n",
    "plt.plot(age_lagb,yields1_lagb,marker='+',color='r',linestyle='',markersize=30,label='C*')\n",
    "plt.plot(age_magb,yields1_magb,marker='+',color='b',linestyle='',markersize=30,label='N*')\n",
    "plt.plot(age_massive,yields1_massive,marker='+',color='g',linestyle='',markersize=30,label='O*')\n",
    "plt.legend(loc=4,prop={'size':14})\n",
    "plt.xlim(7e6,1.5e10)"
   ]
  },
  {
   "cell_type": "markdown",
   "metadata": {},
   "source": [
    "Simulation results compared with semi-analytical calculations with C,N,O."
   ]
  },
  {
   "cell_type": "markdown",
   "metadata": {},
   "source": [
    "### Distinguish between all 3 sources (AGB,massive AND SNIA)"
   ]
  },
  {
   "cell_type": "markdown",
   "metadata": {},
   "source": [
    "#### DTD taken from Maoz"
   ]
  },
  {
   "cell_type": "code",
   "execution_count": 46,
   "metadata": {
    "collapsed": false
   },
   "outputs": [],
   "source": [
    "Yield_tot_sim=s1.history.ism_iso_yield_1a[-1][0]\n",
    "from scipy.interpolate import UnivariateSpline\n",
    "zm_lifetime_grid=s1.zm_lifetime_grid_current\n",
    "idx_z = (np.abs(zm_lifetime_grid[0]-0.0001)).argmin() #Z=0\n",
    "grid_masses=zm_lifetime_grid[1][::-1]\n",
    "grid_lifetimes=zm_lifetime_grid[2][idx_z][::-1]\n",
    "spline_degree1=2\n",
    "smoothing1=0\n",
    "boundary=[None,None]\n",
    "spline_lifetime = UnivariateSpline(grid_lifetimes,np.log10(grid_masses),bbox=boundary,k=spline_degree1,s=smoothing1)\n",
    "\n",
    "from scipy.integrate import quad"
   ]
  },
  {
   "cell_type": "code",
   "execution_count": 48,
   "metadata": {
    "collapsed": false
   },
   "outputs": [
    {
     "name": "stdout",
     "output_type": "stream",
     "text": [
      "Norm. constant A: 8.42639846058\n"
     ]
    }
   ],
   "source": [
    "def spline1(t):\n",
    "                minm_prog1a=3\n",
    "                #if minimum progenitor mass is larger than 3Msun due to IMF range:\n",
    "                return max(minm_prog1a,10**spline_lifetime(np.log10(t)))\n",
    "\n",
    "            #funciton giving the total (accummulatitive) number of WDs at each timestep\n",
    "def wd_number(m,t):\n",
    "                #print 'time ',t\n",
    "                #print 'mass ',m\n",
    "                mlim=10**spline_lifetime(np.log10(t))\n",
    "                maxm_prog1a=8\n",
    "\n",
    "                if mlim>maxm_prog1a:\n",
    "                        return 0\n",
    "                else:\n",
    "                        mmin=0\n",
    "                        mmax=0\n",
    "                        inte=0\n",
    "                        #normalized to 1msun!\n",
    "                        def g2(mm):\n",
    "                            return mm*mm**-2.35\n",
    "                        norm=1./quad(g2,1,30)[0]\n",
    "                        return  norm*m**-2.35 #self.__imf(mmin,mmax,inte,m)\n",
    "\n",
    "def maoz_sn_rate(m,t):\n",
    "                        return  wd_number(m,t)* 4.0e-13 * (t/1.0e9)**-1\n",
    "\n",
    "def maoz_sn_rate_int(t):\n",
    "                return quad( maoz_sn_rate,spline1(t),8,args=t)[0]\n",
    "\n",
    "#in this formula, (paper) sum_sn1a_progenitors number of \n",
    "maxm_prog1a=8\n",
    "longtimefornormalization=1.3e10 #yrs\n",
    "A = 1e-3 / quad(maoz_sn_rate_int,0,longtimefornormalization)[0]\n",
    "print 'Norm. constant A:',A\n",
    "n1a= A* quad(maoz_sn_rate_int,0,1.3e10)[0]\n",
    "Yield_sn1a=n1a*1e11*0.1 #specialfactor"
   ]
  },
  {
   "cell_type": "code",
   "execution_count": 49,
   "metadata": {
    "collapsed": false
   },
   "outputs": [
    {
     "name": "stdout",
     "output_type": "stream",
     "text": [
      "Should be 1: 0.999999821931\n",
      "Check specific Ni-56:  0.999999821931\n"
     ]
    }
   ],
   "source": [
    "print 'Should be 1:',Yield_sn1a_sim/Yield_sn1a\n",
    "print 'Check specific Ni-56: ',s1.history.ism_iso_yield[-1][-1]/Yield_sn1a #last isotope in s1.history.isotopes, see above"
   ]
  },
  {
   "cell_type": "markdown",
   "metadata": {},
   "source": [
    "### Test of parameter transitionmass"
   ]
  },
  {
   "cell_type": "markdown",
   "metadata": {},
   "source": [
    "#### default (above) is 8Msun; needs to chosen so it agrees with yield input!"
   ]
  },
  {
   "cell_type": "code",
   "execution_count": 2,
   "metadata": {
    "collapsed": false
   },
   "outputs": [
    {
     "name": "stdout",
     "output_type": "stream",
     "text": [
      "correct for isotopes\n",
      "SYGMA run in progress..\n",
      "   SYGMA run completed - Run time: 0.18s\n",
      "correct for isotopes\n",
      "SYGMA run in progress..\n",
      "   SYGMA run completed - Run time: 0.18s\n",
      "correct for isotopes\n",
      "SYGMA run in progress..\n",
      "   SYGMA run completed - Run time: 0.21s\n"
     ]
    }
   ],
   "source": [
    "s2=s.sygma(iolevel=0,transitionmass=7.2,mgal=1e11,dt=1e7,tend=1.3e10,imf_type='salpeter',alphaimf=2.35,imf_bdys=[1,30],sn1a_on=False,table='yield_tables/isotope_yield_table_cnoni.txt', sn1a_table='yield_tables/sn1a_cnoni.txt', iniabu_table='yield_tables/iniabu/iniab1.0E-04GN93_alpha_cnoni.ppn')\n",
    "s3=s.sygma(iolevel=0,transitionmass=8,mgal=1e11,dt=1e7,tend=1.3e10,imf_type='salpeter',alphaimf=2.35,imf_bdys=[1,30],sn1a_on=False,table='yield_tables/isotope_yield_table_cnoni.txt', sn1a_table='yield_tables/sn1a_cnoni.txt', iniabu_table='yield_tables/iniabu/iniab1.0E-04GN93_alpha_cnoni.ppn')\n",
    "s4=s.sygma(iolevel=0,transitionmass=9,mgal=1e11,dt=1e7,tend=1.3e10,imf_type='salpeter',alphaimf=2.35,imf_bdys=[1,30],sn1a_on=False,table='yield_tables/isotope_yield_table_cnoni.txt', sn1a_table='yield_tables/sn1a_cnoni.txt', iniabu_table='yield_tables/iniabu/iniab1.0E-04GN93_alpha_cnoni.ppn')"
   ]
  },
  {
   "cell_type": "code",
   "execution_count": 51,
   "metadata": {
    "collapsed": false
   },
   "outputs": [
    {
     "name": "stdout",
     "output_type": "stream",
     "text": [
      "1.0\n",
      "1.0\n",
      "1.0\n",
      "1.0\n",
      "1.0\n",
      "1.0\n"
     ]
    }
   ],
   "source": [
    "N_agb=k_N/1.35 * (1**-1.35 - 7.2**-1.35)\n",
    "Yield_agb7=0.1*N_agb\n",
    "N_massive=k_N/1.35 * (7.2**-1.35 - 30**-1.35)\n",
    "Yield_massive7=0.1*N_massive\n",
    "N_agb=k_N/1.35 * (1**-1.35 - 8.**-1.35)\n",
    "Yield_agb8=0.1*N_agb\n",
    "N_massive=k_N/1.35 * (8.**-1.35 - 30**-1.35)\n",
    "Yield_massive8=0.1*N_massive\n",
    "N_agb=k_N/1.35 * (1**-1.35 - 9.**-1.35)\n",
    "Yield_agb9=0.1*N_agb\n",
    "N_massive=k_N/1.35 * (9.**-1.35 - 30**-1.35)\n",
    "Yield_massive9=0.1*N_massive\n",
    "print sum(s2.history.ism_elem_yield_agb[-1])/Yield_agb7\n",
    "print sum(s2.history.ism_elem_yield_massive[-1])/Yield_massive7\n",
    "print sum(s3.history.ism_elem_yield_agb[-1])/Yield_agb8\n",
    "print sum(s3.history.ism_elem_yield_massive[-1])/Yield_massive8\n",
    "print sum(s4.history.ism_elem_yield_agb[-1])/Yield_agb9\n",
    "print sum(s4.history.ism_elem_yield_massive[-1])/Yield_massive9"
   ]
  },
  {
   "cell_type": "code",
   "execution_count": 52,
   "metadata": {
    "collapsed": false
   },
   "outputs": [
    {
     "data": {
      "text/plain": [
       "(4000000.0, 4000000000.0)"
      ]
     },
     "execution_count": 52,
     "metadata": {},
     "output_type": "execute_result"
    },
    {
     "data": {
      "image/png": "[encoded data removed]",
      "text/plain": [
       "<matplotlib.figure.Figure at 0xb16dc5ac>"
      ]
     },
     "metadata": {},
     "output_type": "display_data"
    }
   ],
   "source": [
    "s2.plot_totmasses(mass='gas', source='all', norm='no', label='Tot,7Msun', shape='', marker='o', color='', markevery=20, log=True)\n",
    "s2.plot_totmasses(mass='gas', source='agb', norm='no', label='AGB, 7Msun', shape='', marker='s', color='', markevery=20, log=True)\n",
    "s2.plot_totmasses(mass='gas', source='massive', norm='no', label='Massive, 7Msun', shape='', marker='D', color='', markevery=20, log=True)\n",
    "s3.plot_totmasses(mass='gas', source='all', norm='no', label='Tot, 8Msun', shape='', marker='x', color='', markevery=20, log=True)\n",
    "s3.plot_totmasses(mass='gas', source='agb', norm='no', label='AGB, 8Msun', shape='', marker='+', color='', markevery=20, log=True)\n",
    "s3.plot_totmasses(mass='gas', source='massive', norm='no', label='Massive, 8Msun', shape='', marker='>', color='', markevery=20, log=True)\n",
    "s4.plot_totmasses(mass='gas', source='all', norm='no', label='Tot, 9Msun', shape='', marker='p', color='', markevery=20, log=True)\n",
    "s4.plot_totmasses(mass='gas', source='agb', norm='no', label='AGB, 9Msun', shape='', marker='^', color='', markevery=20, log=True)\n",
    "s4.plot_totmasses(mass='gas', source='massive', norm='no', label='Massive, 9Msun', shape='', marker='+', color='', markevery=20, log=True)\n",
    "plt.legend(prop={'size':12})\n",
    "plt.legend(loc='center left', bbox_to_anchor=(1, 0.5),markerscale=0.8,fontsize=12)\n",
    "plt.ylim(4e6,4e9)"
   ]
  },
  {
   "cell_type": "markdown",
   "metadata": {},
   "source": [
    "### Check of the exclude_masses parameter"
   ]
  },
  {
   "cell_type": "markdown",
   "metadata": {},
   "source": [
    "Default is exclude_masses=[32.,60.] because both can be only used in SSPs of solar Z and in no continous SFR simulations.\n",
    "This test requires to check the output and see if there is any 6M or 7Msun yield taken."
   ]
  },
  {
   "cell_type": "code",
   "execution_count": 4,
   "metadata": {
    "collapsed": false
   },
   "outputs": [
    {
     "name": "stdout",
     "output_type": "stream",
     "text": [
      " correct for isotopes\n",
      "SYGMA run in progress..\n",
      "   SYGMA run completed - Run time: 0.18s\n",
      "correct for isotopes\n",
      "SYGMA run in progress..\n",
      "   SYGMA run completed - Run time: 0.18s\n",
      "correct for isotopes\n",
      "SYGMA run in progress..\n",
      "   SYGMA run completed - Run time: 0.2s\n"
     ]
    }
   ],
   "source": [
    "reload(s)\n",
    "s1=s.sygma(iolevel=0,exclude_masses=[32.,60.],mgal=1e11,dt=1e7,tend=1.3e10,imf_type='salpeter',alphaimf=2.35,imf_bdys=[1,30],sn1a_on=False,hardsetZ=0.0001,table='yield_tables/isotope_yield_table_cnoni.txt', sn1a_table='yield_tables/sn1a_cnoni.txt', iniabu_table='yield_tables/iniabu/iniab1.0E-04GN93_alpha_cnoni.ppn')\n",
    "s2=s.sygma(iolevel=0,exclude_masses=[32.,60.,7,6],mgal=1e11,dt=1e7,tend=1.3e10,imf_type='salpeter',alphaimf=2.35,imf_bdys=[1,30],sn1a_on=False,hardsetZ=0.0001,table='yield_tables/isotope_yield_table_cnoni.txt', sn1a_table='yield_tables/sn1a_cnoni.txt', iniabu_table='yield_tables/iniabu/iniab1.0E-04GN93_alpha_cnoni.ppn')\n",
    "#s3=s.sygma(iolevel=1,exclude_masses=[],mgal=1e11,dt=1e7,tend=1.3e10,imf_type='salpeter',alphaimf=2.35,imf_bdys=[1,30],sn1a_on=True,iniZ=-1,hardsetZ=0.0001,table='yield_tables/isotope_yield_table_cnoni.txt', sn1a_table='yield_tables/sn1a_cnoni.txt', iniabu_table='yield_tables/iniabu/iniab1.0E-04GN93_alpha_cnoni.ppn')\n",
    "s3=s.sygma(iolevel=0,exclude_masses=[32.,60.,7,6,3],mgal=1e11,dt=1e7,tend=1.3e10,imf_type='salpeter',alphaimf=2.35,imf_bdys=[1,30],sn1a_on=False,hardsetZ=0.0001,table='yield_tables/isotope_yield_table_cnoni.txt', sn1a_table='yield_tables/sn1a_cnoni.txt', iniabu_table='yield_tables/iniabu/iniab1.0E-04GN93_alpha_cnoni.ppn')"
   ]
  },
  {
   "cell_type": "code",
   "execution_count": null,
   "metadata": {
    "collapsed": true
   },
   "outputs": [],
   "source": [
    "# k_N=1e11*0.35/ (1**-0.35 - 30**-0.35) #(I)\n",
    "N_tot=k_N/1.35 * (1**-1.35 - 30**-1.35) #(II)\n",
    "Yield=0.1*N_tot\n",
    "print 'Should be 1:',sum(s1.history.ism_iso_yield[-1])/Yield\n",
    "print 'Should be 1:',sum(s2.history.ism_iso_yield[-1])/Yield"
   ]
  },
  {
   "cell_type": "code",
   "execution_count": 6,
   "metadata": {
    "collapsed": false
   },
   "outputs": [
    {
     "name": "stdout",
     "output_type": "stream",
     "text": [
      "1.0\n",
      "1.0\n"
     ]
    }
   ],
   "source": [
    "N_tot=k_N/1.35 * (1**-1.35 - 8**-1.35) #(II)\n",
    "Yield=0.1*N_tot\n",
    "print sum(s1.history.ism_elem_yield_agb[-1])/Yield\n",
    "N_tot=k_N/1.35 * (8**-1.35 - 30**-1.35) #(II)\n",
    "Yield=0.1*N_tot\n",
    "print sum(s1.history.ism_elem_yield_massive[-1])/Yield"
   ]
  },
  {
   "cell_type": "markdown",
   "metadata": {},
   "source": [
    "#### For case where 3Msun excluded, which is low-mass with C, the boundary (3.5Msun) changes to 3Msun and hence N-14 is ejected in lower-mass stars. "
   ]
  },
  {
   "cell_type": "code",
   "execution_count": 7,
   "metadata": {
    "collapsed": false
   },
   "outputs": [],
   "source": [
    "Yield_lagb_sim=s3.history.ism_iso_yield[-1][0]\n",
    "Yield_magb_sim=s3.history.ism_iso_yield[-1][1]\n",
    "Yield_massive_sim=s3.history.ism_iso_yield[-1][2]"
   ]
  },
  {
   "cell_type": "code",
   "execution_count": 8,
   "metadata": {
    "collapsed": false
   },
   "outputs": [],
   "source": [
    "N_lagb=k_N/1.35 * (1**-1.35 - 3**-1.35)\n",
    "Yield_lagb=0.1*N_lagb\n",
    "N_magb=k_N/1.35 * (3**-1.35 - 8.**-1.35)\n",
    "Yield_magb=0.1*N_magb\n",
    "N_massive=k_N/1.35 * (8.**-1.35 - 30**-1.35)\n",
    "Yield_massive=0.1*N_massive"
   ]
  },
  {
   "cell_type": "code",
   "execution_count": 9,
   "metadata": {
    "collapsed": false
   },
   "outputs": [
    {
     "name": "stdout",
     "output_type": "stream",
     "text": [
      "Should be 1: 1.0\n",
      "Should be 1: 1.0\n",
      "Should be 1: 1.0\n"
     ]
    }
   ],
   "source": [
    "print 'Should be 1:',Yield_lagb_sim/Yield_lagb\n",
    "print 'Should be 1:',Yield_magb_sim/Yield_magb\n",
    "print 'Should be 1:',Yield_massive_sim/Yield_massive"
   ]
  },
  {
   "cell_type": "markdown",
   "metadata": {
    "collapsed": false
   },
   "source": [
    "### With transitionmass and exclude_mass: Change transitionmass to 6Msun"
   ]
  },
  {
   "cell_type": "code",
   "execution_count": 8,
   "metadata": {
    "collapsed": false
   },
   "outputs": [
    {
     "name": "stdout",
     "output_type": "stream",
     "text": [
      "Non-default transitionmass chosen. Use in agreementwith yield input!\n",
      "correct for isotopes\n",
      "Warning - Use isotopes with care.\n",
      "['C-12', 'N-14', 'O-16', 'Ni-58']\n",
      "Use initial abundance of  yield_tables/iniabu/iniab1.0E-04GN93_alpha_cnoni.ppn\n",
      "Number of timesteps:  3.0E+01\n",
      "### Start with initial metallicity of  1.0000E-04\n",
      "###############################\n",
      "SYGMA run in progress..\n",
      "################## Star formation at  1.000E+07 (Z=1.0000E-04) of  1.0\n",
      "Mass locked away: 1.000E+11 , new ISM mass: 0.000E+00\n",
      "Stars under consideration (take into account user-selected imf ends):\n",
      "[1.0, 1.65, 2.0, 3.0, 4.0, 5.0, 12.0, 15.0, 20.0, 25.0]\n",
      "with (corrected) mass bdys:####\n",
      "[1, 1.325, 1.825, 2.5, 3.5, 4.5, 6, 13.5, 17.5, 22.5, 30]\n",
      "Scaling factor for gas mass (mfac) 1.0\n",
      "Total mass of the gas in stars:\n",
      "0.000E+00\n",
      "AGB:  6.694E+10\n",
      "Massive:  3.306E+10\n",
      "time and metallicity and total mass:\n",
      "1.640E+07 1.0000E-04 5.1073E+07\n",
      "time and metallicity and total mass:\n",
      "1.640E+07 1.0000E-04 5.1073E+07\n",
      "time and metallicity and total mass:\n",
      "3.443E+07 1.0000E-04 1.4185E+08\n",
      "time and metallicity and total mass:\n",
      "3.443E+07 1.0000E-04 1.4185E+08\n",
      "time and metallicity and total mass:\n",
      "7.228E+07 1.0000E-04 2.9572E+08\n",
      "time and metallicity and total mass:\n",
      "7.228E+07 1.0000E-04 2.9572E+08\n",
      "time and metallicity and total mass:\n",
      "1.518E+08 1.0000E-04 4.9288E+08\n",
      "time and metallicity and total mass:\n",
      "1.518E+08 1.0000E-04 4.9288E+08\n",
      "time and metallicity and total mass:\n",
      "3.186E+08 1.0000E-04 8.1120E+08\n",
      "time and metallicity and total mass:\n",
      "3.186E+08 1.0000E-04 8.1120E+08\n",
      "time and metallicity and total mass:\n",
      "6.690E+08 1.0000E-04 1.2300E+09\n",
      "time and metallicity and total mass:\n",
      "6.690E+08 1.0000E-04 1.2300E+09\n",
      "time and metallicity and total mass:\n",
      "1.405E+09 1.0000E-04 1.7725E+09\n",
      "time and metallicity and total mass:\n",
      "1.405E+09 1.0000E-04 1.7725E+09\n",
      "time and metallicity and total mass:\n",
      "2.949E+09 1.0000E-04 2.4931E+09\n",
      "time and metallicity and total mass:\n",
      "2.949E+09 1.0000E-04 2.4931E+09\n",
      "time and metallicity and total mass:\n",
      "6.192E+09 1.0000E-04 3.4468E+09\n",
      "time and metallicity and total mass:\n",
      "6.192E+09 1.0000E-04 3.4468E+09\n",
      "time and metallicity and total mass:\n",
      "1.300E+10 1.0000E-04 3.6877E+09\n",
      "time and metallicity and total mass:\n",
      "1.300E+10 1.0000E-04 3.6877E+09\n",
      "   SYGMA run completed - Run time: 0.2s\n",
      "Non-default transitionmass chosen. Use in agreementwith yield input!\n",
      "correct for isotopes\n",
      "Warning - Use isotopes with care.\n",
      "['C-12', 'N-14', 'O-16', 'Ni-58']\n",
      "Use initial abundance of  yield_tables/iniabu/iniab1.0E-04GN93_alpha_cnoni.ppn\n",
      "Number of timesteps:  3.0E+01\n",
      "### Start with initial metallicity of  1.0000E-04\n",
      "###############################\n",
      "SYGMA run in progress..\n",
      "################## Star formation at  1.000E+07 (Z=1.0000E-04) of  1.0\n",
      "Mass locked away: 1.000E+11 , new ISM mass: 0.000E+00\n",
      "Stars under consideration (take into account user-selected imf ends):\n",
      "[1.0, 1.65, 2.0, 3.0, 4.0, 5.0, 6.0, 7.0, 15.0, 20.0, 25.0]\n",
      "with (corrected) mass bdys:####\n",
      "[1, 1.325, 1.825, 2.5, 3.5, 4.5, 5.5, 6.5, 13, 17.5, 22.5, 30]\n",
      "Scaling factor for gas mass (mfac) 1.0\n",
      "Total mass of the gas in stars:\n",
      "0.000E+00\n",
      "AGB:  8.514E+10\n",
      "Massive:  1.486E+10\n",
      "time and metallicity and total mass:\n",
      "1.640E+07 1.0000E-04 5.0754E+07\n",
      "time and metallicity and total mass:\n",
      "1.640E+07 1.0000E-04 5.0754E+07\n",
      "time and metallicity and total mass:\n",
      "3.443E+07 1.0000E-04 1.4953E+08\n",
      "time and metallicity and total mass:\n",
      "3.443E+07 1.0000E-04 1.4953E+08\n",
      "time and metallicity and total mass:\n",
      "7.228E+07 1.0000E-04 2.9400E+08\n",
      "time and metallicity and total mass:\n",
      "7.228E+07 1.0000E-04 2.9400E+08\n",
      "time and metallicity and total mass:\n",
      "1.518E+08 1.0000E-04 4.9304E+08\n",
      "time and metallicity and total mass:\n",
      "1.518E+08 1.0000E-04 4.9304E+08\n",
      "time and metallicity and total mass:\n",
      "3.186E+08 1.0000E-04 8.1120E+08\n",
      "time and metallicity and total mass:\n",
      "3.186E+08 1.0000E-04 8.1120E+08\n",
      "time and metallicity and total mass:\n",
      "6.690E+08 1.0000E-04 1.2300E+09\n",
      "time and metallicity and total mass:\n",
      "6.690E+08 1.0000E-04 1.2300E+09\n",
      "time and metallicity and total mass:\n",
      "1.405E+09 1.0000E-04 1.7725E+09\n",
      "time and metallicity and total mass:\n",
      "1.405E+09 1.0000E-04 1.7725E+09\n",
      "time and metallicity and total mass:\n",
      "2.949E+09 1.0000E-04 2.4931E+09\n",
      "time and metallicity and total mass:\n",
      "2.949E+09 1.0000E-04 2.4931E+09\n",
      "time and metallicity and total mass:\n",
      "6.192E+09 1.0000E-04 3.4468E+09\n",
      "time and metallicity and total mass:\n",
      "6.192E+09 1.0000E-04 3.4468E+09\n",
      "time and metallicity and total mass:\n",
      "1.300E+10 1.0000E-04 3.6877E+09\n",
      "time and metallicity and total mass:\n",
      "1.300E+10 1.0000E-04 3.6877E+09\n",
      "   SYGMA run completed - Run time: 0.21s\n"
     ]
    }
   ],
   "source": [
    "s1=s.sygma(iolevel=1,exclude_masses=[32.,60.,7,6],transitionmass=6,mgal=1e11,dt=1e7,tend=1.3e10,imf_type='salpeter',alphaimf=2.35,imf_bdys=[1,30],sn1a_on=False,hardsetZ=0.0001,table='yield_tables/isotope_yield_table_cnoni.txt', sn1a_table='yield_tables/sn1a_cnoni.txt', iniabu_table='yield_tables/iniabu/iniab1.0E-04GN93_alpha_cnoni.ppn')\n",
    "s2=s.sygma(iolevel=1,exclude_masses=[32.,60.,12],transitionmass=13,mgal=1e11,dt=1e7,tend=1.3e10,imf_type='salpeter',alphaimf=2.35,imf_bdys=[1,30],sn1a_on=False,hardsetZ=0.0001,table='yield_tables/isotope_yield_table_cnoni.txt', sn1a_table='yield_tables/sn1a_cnoni.txt', iniabu_table='yield_tables/iniabu/iniab1.0E-04GN93_alpha_cnoni.ppn')"
   ]
  },
  {
   "cell_type": "code",
   "execution_count": 4,
   "metadata": {
    "collapsed": false
   },
   "outputs": [
    {
     "name": "stdout",
     "output_type": "stream",
     "text": [
      " Should be 1: 1.0\n"
     ]
    }
   ],
   "source": [
    "k_N=1e11*0.35/ (1**-0.35 - 30**-0.35) #(I)\n",
    "N_tot=k_N/1.35 * (1**-1.35 - 30**-1.35) #(II)\n",
    "Yield=0.1*N_tot\n",
    "print 'Should be 1:',sum(s1.history.ism_iso_yield[-1])/Yield"
   ]
  },
  {
   "cell_type": "code",
   "execution_count": 11,
   "metadata": {
    "collapsed": false
   },
   "outputs": [
    {
     "data": {
      "image/png": "[encoded data removed]",
      "text/plain": [
       "<matplotlib.figure.Figure at 0xaef5cb2c>"
      ]
     },
     "metadata": {},
     "output_type": "display_data"
    }
   ],
   "source": [
    "s1.plot_totmasses(marker='^',label='all, mt=6')\n",
    "s1.plot_totmasses(marker='>',source='agb',label='agb,mt=6')\n",
    "s1.plot_totmasses(marker='<',source='massive',label='massive,mt=6')\n",
    "s1.plot_totmasses(source='sn1a',label='sn1a,mt=6')\n",
    "s2.plot_totmasses(label='all, mt=12')\n",
    "s2.plot_totmasses(source='agb',label='agb,mt=12')\n",
    "s2.plot_totmasses(source='massive',label='massive,mt=12')\n",
    "s2.plot_totmasses(source='sn1a',label='sn1a,mt=12')"
   ]
  },
  {
   "cell_type": "code",
   "execution_count": null,
   "metadata": {
    "collapsed": true
   },
   "outputs": [],
   "source": []
  }
 ],
 "metadata": {
  "kernelspec": {
   "display_name": "Python 2",
   "language": "python",
   "name": "python2"
  },
  "language_info": {
   "codemirror_mode": {
    "name": "ipython",
    "version": 2
   },
   "file_extension": ".py",
   "mimetype": "text/x-python",
   "name": "python",
   "nbconvert_exporter": "python",
   "pygments_lexer": "ipython2",
   "version": "2.7.8"
  }
 },
 "nbformat": 4,
 "nbformat_minor": 0
}
