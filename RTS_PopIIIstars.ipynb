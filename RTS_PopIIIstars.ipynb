{
 "cells": [
  {
   "cell_type": "markdown",
   "metadata": {},
   "source": [
    "## Regression test suite: Test of POPIII star input"
   ]
  },
  {
   "cell_type": "markdown",
   "metadata": {},
   "source": [
    "Test of SSP with POPIII yields. Focus are basic GCE features.\n",
    "You can find the documentation <a href=\"doc/sygma.html\">here</a>.\n",
    "\n",
    "\n",
    " "
   ]
  },
  {
   "cell_type": "code",
   "execution_count": 3,
   "metadata": {
    "collapsed": false
   },
   "outputs": [],
   "source": [
    "import sygma as s\n",
    "reload(s)\n",
    "#from imp import *\n",
    "#s=load_source('sygma','/home/nugrid/nugrid/SYGMA/SYGMA_online/SYGMA_dev/sygma.py')\n",
    "from scipy.integrate import quad\n",
    "from scipy.interpolate import UnivariateSpline\n",
    "import matplotlib.pyplot as plt\n",
    "%matplotlib inline\n",
    "import numpy as np"
   ]
  },
  {
   "cell_type": "markdown",
   "metadata": {},
   "source": [
    "## Results"
   ]
  },
  {
   "cell_type": "markdown",
   "metadata": {},
   "source": [
    "$\\odot$ Evolution of ISM fine\n",
    "\n",
    "$\\odot$ Sources of massive and AGB stars distinguished\n",
    "\n",
    "$\\odot$ Test of final mass of ISM for different IMF boundaries\n",
    "\n",
    "$\\odot$ Test of Salpeter, Chabrier, Kroupa IMF by checking  the evolution of ISM mass (incl. alphaimf)\n",
    "\n",
    "$\\odot$ Test if SNIa on/off works\n",
    "\n",
    "$\\odot$ Test of the three SNIa implementations, the evolution of SN1a contributions\n",
    "\n",
    "$\\odot$ Test of parameter tend, dt and special_timesteps\n",
    "\n",
    "$\\odot$ Test of parmeter mgal\n",
    "\n",
    "$\\odot$ Test of netyields_on\n",
    "\n",
    "TODO: test non-linear yield fitting (hard set in code right now, no input parameter provided)\n"
   ]
  },
  {
   "cell_type": "markdown",
   "metadata": {},
   "source": [
    "### IMF notes:"
   ]
  },
  {
   "cell_type": "markdown",
   "metadata": {},
   "source": [
    "The IMF allows to calculate the number of stars $N_{12}$ in the mass interval [m1,m2] with\n",
    "\n",
    "(I) $N_{12}$ = k_N $\\int _{m1}^{m2} m^{-2.35} dm$ \n",
    "\n",
    "Where k_N is the normalization constant. It can be derived from the total amount of mass of the system $M_{tot}$\n",
    "since the total mass $M_{12}$ in the mass interval above can be estimated with\n",
    "\n",
    "(II) $M_{12}$ = k_N $\\int _{m1}^{m2} m^{-1.35} dm$\n",
    "\n",
    "With a total mass interval of [1,30] and $M_{tot}=1e11$ the $k_N$ can be derived:\n",
    "\n",
    "$1e11 = k_N/0.35 * (1^{-0.35} - 30^{-0.35})$"
   ]
  },
  {
   "cell_type": "markdown",
   "metadata": {},
   "source": [
    "### Final mass"
   ]
  },
  {
   "cell_type": "code",
   "execution_count": 2,
   "metadata": {
    "collapsed": false
   },
   "outputs": [],
   "source": [
    "k_N=1e11*0.35/ (10**-0.35 - 30**-0.35) #(I)\n",
    "N_tot=k_N/1.35 * (10**-1.35 - 30**-1.35) #(II)\n",
    "Yield_tot=0.1*N_tot"
   ]
  },
  {
   "cell_type": "markdown",
   "metadata": {},
   "source": [
    "Includes stars from 10Msun to 30Msun (upper end consistent with higher Z). \n",
    "\n",
    "At ~5e6 M30 star starts to contribute. Need to resolve steps between masses and hence chhose small constant time interval for s2 run."
   ]
  },
  {
   "cell_type": "code",
   "execution_count": 3,
   "metadata": {
    "collapsed": false
   },
   "outputs": [
    {
     "name": "stdout",
     "output_type": "stream",
     "text": [
      "SYGMA run in progress..\n",
      "   SYGMA run completed - Run time: 0.17s\n",
      "SYGMA run in progress..\n",
      "   SYGMA run completed - Run time: 1.78s\n"
     ]
    }
   ],
   "source": [
    "reload(s)\n",
    "s1=s.sygma(iolevel=0,mgal=1e11,dt=1e6,tend=1.3e10,imf_type='salpeter',imf_yields_range_pop3=[10,30],imf_bdys_pop3=[10,30],pop3_table='yield_tables/popIII_h1.txt',table='yield_tables/isotope_yield_table_h1.txt',sn1a_on=False, sn1a_table='yield_tables/sn1a_h1.txt', iniabu_table='yield_tables/iniabu/iniab1.0E-04GN93_alpha_h1.ppn')\n",
    "s2=s.sygma(iolevel=0,mgal=1e11,dt=1e5,tend=3e7,special_timesteps=-1,imf_type='salpeter',imf_yields_range_pop3=[10,30],imf_bdys_pop3=[10,30],pop3_table='yield_tables/popIII_h1.txt',table='yield_tables/isotope_yield_table_h1.txt',sn1a_on=False, sn1a_table='yield_tables/sn1a_h1.txt', iniabu_table='yield_tables/iniabu/iniab1.0E-04GN93_alpha_h1.ppn')\n",
    "Yield_tot_sim=s1.history.ism_iso_yield[-1][0]"
   ]
  },
  {
   "cell_type": "code",
   "execution_count": 4,
   "metadata": {
    "collapsed": false
   },
   "outputs": [
    {
     "name": "stdout",
     "output_type": "stream",
     "text": [
      "627865031.179\n",
      "627865031.179\n",
      "ratio should be 1 :  1.0\n"
     ]
    }
   ],
   "source": [
    "print Yield_tot_sim\n",
    "print Yield_tot\n",
    "print 'ratio should be 1 : ',Yield_tot_sim/Yield_tot"
   ]
  },
  {
   "cell_type": "markdown",
   "metadata": {},
   "source": [
    "### Test of distinguishing between massive PoPIII and other sources"
   ]
  },
  {
   "cell_type": "markdown",
   "metadata": {},
   "source": [
    "No production of any source, except massive stars expected. Massive stars produce all H."
   ]
  },
  {
   "cell_type": "code",
   "execution_count": 5,
   "metadata": {
    "collapsed": false
   },
   "outputs": [
    {
     "name": "stdout",
     "output_type": "stream",
     "text": [
      "0.0\n",
      "should be 1:  1.0\n",
      "No SNIa contribution: 0.0\n"
     ]
    }
   ],
   "source": [
    "print s1.history.ism_iso_yield_agb[-1][0]\n",
    "print 'should be 1: ',s1.history.ism_iso_yield_massive[-1][0]/Yield_tot\n",
    "print 'No SNIa contribution:',s1.history.ism_iso_yield_1a[-1][0]"
   ]
  },
  {
   "cell_type": "code",
   "execution_count": 6,
   "metadata": {
    "collapsed": false
   },
   "outputs": [
    {
     "data": {
      "text/plain": [
       "(1000000.0, 1000000000.0)"
      ]
     },
     "execution_count": 6,
     "metadata": {},
     "output_type": "execute_result"
    },
    {
     "data": {
      "image/png": "[encoded data removed]",
      "text/plain": [
       "<matplotlib.figure.Figure at 0xb14fedac>"
      ]
     },
     "metadata": {},
     "output_type": "display_data"
    }
   ],
   "source": [
    "s1.plot_totmasses(fig=1,source='all',markevery=2,marker='^')\n",
    "s1.plot_totmasses(fig=1,source='agb')\n",
    "s1.plot_totmasses(fig=1,source='massive',marker='x',markevery=3)\n",
    "s1.plot_totmasses(fig=1,source='sn1a',marker='D')\n",
    "s1.plot_mass(fig=1,specie='H-1',marker='+',markevery=1)\n",
    "#plt.legend(loc=7,fontsize=14)\n",
    "#mpld3.display()\n",
    "#plt.legend(loc='center left', bbox_to_anchor=(1, 0.5))\n",
    "plt.xlim(1e6,1e9)"
   ]
  },
  {
   "cell_type": "markdown",
   "metadata": {},
   "source": [
    "Higher resolution:"
   ]
  },
  {
   "cell_type": "code",
   "execution_count": 8,
   "metadata": {
    "collapsed": false
   },
   "outputs": [
    {
     "data": {
      "text/plain": [
       "(6000000.0, 30000000.0)"
      ]
     },
     "execution_count": 8,
     "metadata": {},
     "output_type": "execute_result"
    },
    {
     "data": {
      "image/png": "[encoded data removed]",
      "text/plain": [
       "<matplotlib.figure.Figure at 0xb16f882c>"
      ]
     },
     "metadata": {},
     "output_type": "display_data"
    }
   ],
   "source": [
    "s2.plot_totmasses(fig=1,source='all',markevery=4,marker='^')\n",
    "s2.plot_totmasses(fig=1,source='massive',marker='x',markevery=6)\n",
    "s2.plot_mass(fig=1,specie='H-1',marker='+',markevery=10)\n",
    "#plt.legend(loc=7,fontsize=14)\n",
    "#mpld3.display()\n",
    "#plt.legend(loc='center left', bbox_to_anchor=(1, 0.5))\n",
    "plt.xlim(6e6,3e7)"
   ]
  },
  {
   "cell_type": "markdown",
   "metadata": {},
   "source": [
    "### Calculating yield ejection over time "
   ]
  },
  {
   "cell_type": "markdown",
   "metadata": {},
   "source": [
    "#### Check grid lifetime plot"
   ]
  },
  {
   "cell_type": "code",
   "execution_count": 9,
   "metadata": {
    "collapsed": false
   },
   "outputs": [
    {
     "data": {
      "text/plain": [
       "<matplotlib.legend.Legend at 0xb150ae0c>"
      ]
     },
     "execution_count": 9,
     "metadata": {},
     "output_type": "execute_result"
    },
    {
     "data": {
      "image/png": "[encoded data removed]",
      "text/plain": [
       "<matplotlib.figure.Figure at 0xb1688eec>"
      ]
     },
     "metadata": {},
     "output_type": "display_data"
    }
   ],
   "source": [
    "import read_yields as ry\n",
    "y=ry.read_nugrid_yields('yield_tables/popIII_h1.txt')\n",
    "zm_lifetime_grid=s1.zm_lifetime_grid_current\n",
    "idx_z = (np.abs(zm_lifetime_grid[0]-0.0001)).argmin() #Z=0\n",
    "grid_masses=zm_lifetime_grid[1][::-1]\n",
    "grid_lifetimes=zm_lifetime_grid[2][idx_z][::-1]\n",
    "plt.plot(grid_masses,grid_lifetimes,label='spline fit grid points (SYGMA)',marker='x')\n",
    "m=[]\n",
    "ages=[]\n",
    "for k in range(len(y.table_mz)):\n",
    "    m_ini=float(y.table_mz[k].split(',')[0].split('=')[1])\n",
    "    if m_ini>=30:\n",
    "        continue\n",
    "    m.append(m_ini)\n",
    "    ages.append(y.age[k])\n",
    "plt.plot(np.array(m),np.log10(np.array(ages)),marker='+',markersize=20,label='input yield grid',linestyle='None')\n",
    "plt.xlabel('Mini/Msun')\n",
    "plt.ylabel('log lifetime');plt.legend(prop={'size':14})"
   ]
  },
  {
   "cell_type": "code",
   "execution_count": 10,
   "metadata": {
    "collapsed": false
   },
   "outputs": [
    {
     "data": {
      "text/plain": [
       "(5000000.0, 30000000.0)"
      ]
     },
     "execution_count": 10,
     "metadata": {},
     "output_type": "execute_result"
    },
    {
     "data": {
      "image/png": "[encoded data removed]",
      "text/plain": [
       "<matplotlib.figure.Figure at 0xb15fed2c>"
      ]
     },
     "metadata": {},
     "output_type": "display_data"
    }
   ],
   "source": [
    "s2.plot_totmasses(fig=2,marker='x',label='totmass',markevery=2)\n",
    "s2.plot_mass(fig=2,specie='H',label='H, sim',color='k',shape='-',marker='o',markevery=3)\n",
    "import read_yields as ry\n",
    "y=ry.read_nugrid_yields('yield_tables/popIII_h1.txt')\n",
    "m=[]\n",
    "ages=[]\n",
    "for k in range(len(y.table_mz)):\n",
    "    m_ini=float(y.table_mz[k].split(',')[0].split('=')[1])\n",
    "    if m_ini>=30:\n",
    "        continue\n",
    "    m.append(m_ini)\n",
    "    ages.append(y.age[k])\n",
    "    #print m[-1],ages[-1]\n",
    "def yields(m,k_N):\n",
    "    return ( k_N/1.35 * (m**-1.35 - 30.**-1.35) ) * 0.1\n",
    "yields1=[]\n",
    "for m1 in m:\n",
    "    yields1.append(yields(m1,k_N))\n",
    "plt.plot(ages,yields1,marker='+',linestyle='',markersize=15,label='H, semi')\n",
    "plt.legend(loc=4)\n",
    "plt.xlim(5e6,3e7)"
   ]
  },
  {
   "cell_type": "markdown",
   "metadata": {},
   "source": [
    "### Test of parameter imf_bdys: Selection of different mass intervals"
   ]
  },
  {
   "cell_type": "markdown",
   "metadata": {},
   "source": [
    "#### Select imf_bdys=[15,30]"
   ]
  },
  {
   "cell_type": "code",
   "execution_count": 11,
   "metadata": {
    "collapsed": false
   },
   "outputs": [],
   "source": [
    "k_N=1e11*0.35/ (15**-0.35 - 30**-0.35)\n",
    "N_tot=k_N/1.35 * (15**-1.35 - 30**-1.35)\n",
    "Yield_tot=0.1*N_tot"
   ]
  },
  {
   "cell_type": "code",
   "execution_count": 12,
   "metadata": {
    "collapsed": false,
    "scrolled": true
   },
   "outputs": [
    {
     "name": "stdout",
     "output_type": "stream",
     "text": [
      "Warning - Use isotopes with care.\n",
      "['H-1']\n",
      "Use initial abundance of  yield_tables/iniabu/iniab1.0E-04GN93_alpha_h1.ppn\n",
      "Number of timesteps:  3.0E+01\n",
      "### Start with initial metallicity of  0.0000E+00\n",
      "###############################\n",
      "SYGMA run in progress..\n",
      "################## Star formation at  1.000E+07 (Z=0.0000E+00) of  1.0\n",
      "Mass locked away: 1.000E+11 , new ISM mass: 0.000E+00\n",
      "Taking POPIII yields from yield_tables/popIII_heger10.txt\n",
      "Currently only PopIII massive stars between 10Msun and 100Msun with their yielda contributions included\n",
      " lower IMF minimum (imf_bdys) fixed to 10Msun for now\n",
      "Stars under consideration (take into account user-selected imf ends):\n",
      "[15.0, 15.2, 15.4, 15.6, 15.8, 16.0, 16.2, 16.4, 16.6, 16.8, 17.0, 17.1, 17.2, 17.3, 17.4, 17.5, 17.6, 17.7, 17.8, 17.9, 18.0, 18.1, 18.2, 18.3, 18.4, 18.5, 18.6, 18.7, 18.8, 18.9, 19.0, 19.2, 19.4, 19.6, 19.8, 20.0, 20.5, 21.0, 21.5, 22.0, 22.5, 23.0, 23.5, 24.0, 24.5, 25.0, 25.5, 26.0, 26.5, 27.0, 27.5, 28.0, 28.5, 29.0, 29.5, 30.0]\n",
      "with (corrected) mass bdys:####\n",
      "[15, 15.1, 15.3, 15.5, 15.7, 15.9, 16.1, 16.299999999999997, 16.5, 16.700000000000003, 16.9, 17.05, 17.15, 17.25, 17.35, 17.45, 17.55, 17.65, 17.75, 17.85, 17.95, 18.05, 18.15, 18.25, 18.35, 18.45, 18.55, 18.65, 18.75, 18.85, 18.95, 19.1, 19.299999999999997, 19.5, 19.700000000000003, 19.9, 20.25, 20.75, 21.25, 21.75, 22.25, 22.75, 23.25, 23.75, 24.25, 24.75, 25.25, 25.75, 26.25, 26.75, 27.25, 27.75, 28.25, 28.75, 29.25, 29.75, 30]\n",
      "Scaling factor for gas mass (mfac) 1.0\n",
      "Total mass of the gas in stars:\n",
      "0.000E+00\n",
      "AGB:  0.000E+00\n",
      "Massive:  1.000E+11\n",
      "time and metallicity and total mass:\n",
      "1.640E+07 0.0000E+00 4.8760E+08\n",
      "time and metallicity and total mass:\n",
      "1.640E+07 0.0000E+00 4.8760E+08\n",
      "time and metallicity and total mass:\n",
      "3.443E+07 0.0000E+00 4.8760E+08\n",
      "time and metallicity and total mass:\n",
      "3.443E+07 0.0000E+00 4.8760E+08\n",
      "time and metallicity and total mass:\n",
      "7.228E+07 0.0000E+00 4.8760E+08\n",
      "time and metallicity and total mass:\n",
      "7.228E+07 0.0000E+00 4.8760E+08\n",
      "time and metallicity and total mass:\n",
      "1.518E+08 0.0000E+00 4.8760E+08\n",
      "time and metallicity and total mass:\n",
      "1.518E+08 0.0000E+00 4.8760E+08\n",
      "time and metallicity and total mass:\n",
      "3.186E+08 0.0000E+00 4.8760E+08\n",
      "time and metallicity and total mass:\n",
      "3.186E+08 0.0000E+00 4.8760E+08\n",
      "time and metallicity and total mass:\n",
      "6.690E+08 0.0000E+00 4.8760E+08\n",
      "time and metallicity and total mass:\n",
      "6.690E+08 0.0000E+00 4.8760E+08\n",
      "time and metallicity and total mass:\n",
      "1.405E+09 0.0000E+00 4.8760E+08\n",
      "time and metallicity and total mass:\n",
      "1.405E+09 0.0000E+00 4.8760E+08\n",
      "time and metallicity and total mass:\n",
      "2.949E+09 0.0000E+00 4.8760E+08\n",
      "time and metallicity and total mass:\n",
      "2.949E+09 0.0000E+00 4.8760E+08\n",
      "time and metallicity and total mass:\n",
      "6.192E+09 0.0000E+00 4.8760E+08\n",
      "time and metallicity and total mass:\n",
      "6.192E+09 0.0000E+00 4.8760E+08\n",
      "time and metallicity and total mass:\n",
      "1.300E+10 0.0000E+00 4.8760E+08\n",
      "time and metallicity and total mass:\n",
      "1.300E+10 0.0000E+00 4.8760E+08\n",
      "   SYGMA run completed - Run time: 0.16s\n"
     ]
    }
   ],
   "source": [
    "##reload(chem_evol)\n",
    "#dreload(s)\n",
    "import sygma as s\n",
    "reload(s)\n",
    "s1=s.sygma(iolevel=1,mgal=1e11,iniZ=0,dt=1e7,tend=1.3e10,imf_type='salpeter',imf_bdys=[10,30],imf_bdys_pop3=[15,30],pop3_table='yield_tables/popIII_h1.txt',table='yield_tables/isotope_yield_table_h1.txt',sn1a_on=False, sn1a_table='yield_tables/sn1a_h1.txt', iniabu_table='yield_tables/iniabu/iniab1.0E-04GN93_alpha_h1.ppn')\n",
    "Yield_tot_sim=s1.history.ism_iso_yield[-1][0]"
   ]
  },
  {
   "cell_type": "code",
   "execution_count": 13,
   "metadata": {
    "collapsed": false
   },
   "outputs": [
    {
     "name": "stdout",
     "output_type": "stream",
     "text": [
      "Sould be 1: 1.0\n"
     ]
    }
   ],
   "source": [
    "print 'Sould be 1:' ,Yield_tot_sim/Yield_tot"
   ]
  },
  {
   "cell_type": "markdown",
   "metadata": {},
   "source": [
    "#### Select imf_bdys=[10,15]"
   ]
  },
  {
   "cell_type": "code",
   "execution_count": 14,
   "metadata": {
    "collapsed": false
   },
   "outputs": [],
   "source": [
    "k_N=1e11*0.35/ (10**-0.35 - 15**-0.35)\n",
    "N_tot=k_N/1.35 * (10**-1.35 - 15**-1.35)\n",
    "Yield_tot=0.1*N_tot"
   ]
  },
  {
   "cell_type": "code",
   "execution_count": 17,
   "metadata": {
    "collapsed": false
   },
   "outputs": [
    {
     "name": "stdout",
     "output_type": "stream",
     "text": [
      "SYGMA run in progress..\n",
      "   SYGMA run completed - Run time: 0.14s\n"
     ]
    }
   ],
   "source": [
    "s1=s.sygma(iolevel=0,mgal=1e11,dt=1e7,tend=1.3e10,imf_type='salpeter',imf_yields_range_pop3=[10,30],imf_bdys_pop3=[10,15],pop3_table='yield_tables/popIII_h1.txt',table='yield_tables/isotope_yield_table_h1.txt',sn1a_on=False, sn1a_table='yield_tables/sn1a_h1.txt', iniabu_table='yield_tables/iniabu/iniab1.0E-04GN93_alpha_h1.ppn')\n",
    "Yield_tot_sim=s1.history.ism_iso_yield[-1][0]"
   ]
  },
  {
   "cell_type": "markdown",
   "metadata": {},
   "source": [
    "##### Select imf_bdys=[10,100] ; NEEDS TO BE TESTED"
   ]
  },
  {
   "cell_type": "code",
   "execution_count": 18,
   "metadata": {
    "collapsed": false
   },
   "outputs": [],
   "source": [
    "k_N=1e11*0.35/ (10**-0.35 - 100**-0.35) #(I)\n",
    "N_tot=k_N/1.35 * (10**-1.35 - 30**-1.35) #(II)\n",
    "Yield_tot=0.1*N_tot"
   ]
  },
  {
   "cell_type": "code",
   "execution_count": 20,
   "metadata": {
    "collapsed": false
   },
   "outputs": [
    {
     "name": "stdout",
     "output_type": "stream",
     "text": [
      "SYGMA run in progress..\n",
      "   SYGMA run completed - Run time: 0.15s\n"
     ]
    }
   ],
   "source": [
    "s1=s.sygma(iolevel=0,mgal=1e11,dt=1e7,tend=1.3e10,imf_type='salpeter',imf_bdys_pop3=[10,100],pop3_table='yield_tables/popIII_h1.txt',table='yield_tables/isotope_yield_table_h1.txt',sn1a_on=False, sn1a_table='yield_tables/sn1a_h1.txt', iniabu_table='yield_tables/iniabu/iniab1.0E-04GN93_alpha_h1.ppn')\n",
    "#imf_yields_range_pop3=[10,30],\n",
    "Yield_tot_sim=s1.history.ism_iso_yield[-1][0]"
   ]
  },
  {
   "cell_type": "code",
   "execution_count": 21,
   "metadata": {
    "collapsed": false
   },
   "outputs": [
    {
     "name": "stdout",
     "output_type": "stream",
     "text": [
      "[0.1, 100] [10, 100] [10, 30]\n"
     ]
    }
   ],
   "source": [
    "print s1.imf_bdys,s1.imf_bdys_pop3,s1.imf_yields_range_pop3"
   ]
  },
  {
   "cell_type": "code",
   "execution_count": 22,
   "metadata": {
    "collapsed": false
   },
   "outputs": [
    {
     "name": "stdout",
     "output_type": "stream",
     "text": [
      "362227312.051\n",
      "362227312.051\n",
      "Sould be 1: 1.0\n"
     ]
    }
   ],
   "source": [
    "print Yield_tot_sim\n",
    "print Yield_tot\n",
    "print 'Sould be 1:' ,Yield_tot_sim/Yield_tot"
   ]
  },
  {
   "cell_type": "markdown",
   "metadata": {},
   "source": [
    "### Test of parameter imf_type: Selection of different IMF types"
   ]
  },
  {
   "cell_type": "markdown",
   "metadata": {},
   "source": [
    "#### alphaimf"
   ]
  },
  {
   "cell_type": "code",
   "execution_count": 23,
   "metadata": {
    "collapsed": false
   },
   "outputs": [],
   "source": [
    "alphaimf = 1.5 #Set test alphaimf"
   ]
  },
  {
   "cell_type": "code",
   "execution_count": 24,
   "metadata": {
    "collapsed": false
   },
   "outputs": [],
   "source": [
    "k_N=1e11*(alphaimf-2)/ (-10**-(alphaimf-2) + 30**-(alphaimf-2))\n",
    "N_tot=k_N/(alphaimf-1) * (-10**-(alphaimf-1) + 30**-(alphaimf-1))\n",
    "Yield_tot=0.1*N_tot"
   ]
  },
  {
   "cell_type": "code",
   "execution_count": 26,
   "metadata": {
    "collapsed": false
   },
   "outputs": [
    {
     "name": "stdout",
     "output_type": "stream",
     "text": [
      "SYGMA run in progress..\n",
      "   SYGMA run completed - Run time: 0.15s\n"
     ]
    }
   ],
   "source": [
    "s1=s.sygma(iolevel=0,mgal=1e11,dt=1e7,tend=1.3e10,imf_type='alphaimf',alphaimf=1.5,imf_bdys_pop3=[10,30],pop3_table='yield_tables/popIII_h1.txt',table='yield_tables/isotope_yield_table_h1.txt',sn1a_on=False, sn1a_table='yield_tables/sn1a_h1.txt', iniabu_table='yield_tables/iniabu/iniab1.0E-04GN93_alpha_h1.ppn')\n",
    "Yield_tot_sim=s1.history.ism_iso_yield[-1][0]"
   ]
  },
  {
   "cell_type": "code",
   "execution_count": 27,
   "metadata": {
    "collapsed": false
   },
   "outputs": [
    {
     "name": "stdout",
     "output_type": "stream",
     "text": [
      "Should be 1 : 1.0\n"
     ]
    }
   ],
   "source": [
    "print 'Should be 1 :',Yield_tot/Yield_tot_sim"
   ]
  },
  {
   "cell_type": "markdown",
   "metadata": {},
   "source": [
    "### Testing other IMF type does not make sense since range only considers massive stars"
   ]
  },
  {
   "cell_type": "markdown",
   "metadata": {},
   "source": [
    "### Test of parameter sn1a_on: on/off mechanism : There should be no SNIa contribution"
   ]
  },
  {
   "cell_type": "code",
   "execution_count": 29,
   "metadata": {
    "collapsed": false
   },
   "outputs": [
    {
     "name": "stdout",
     "output_type": "stream",
     "text": [
      "SYGMA run in progress..\n",
      "   SYGMA run completed - Run time: 0.15s\n",
      "SYGMA run in progress..\n",
      "   SYGMA run completed - Run time: 0.15s\n"
     ]
    }
   ],
   "source": [
    "reload(s)\n",
    "s1=s.sygma(iolevel=0,mgal=1e11,dt=1e7,tend=1.3e10,imf_type='alphaimf',imf_bdys_pop3=[10,30],pop3_table='yield_tables/popIII_h1.txt',table='yield_tables/isotope_yield_table_h1.txt',sn1a_on=False, sn1a_table='yield_tables/sn1a_h1.txt', iniabu_table='yield_tables/iniabu/iniab1.0E-04GN93_alpha_h1.ppn')\n",
    "s2=s.sygma(iolevel=0,mgal=1e11,dt=1e7,tend=1.3e10,imf_type='alphaimf',imf_bdys_pop3=[10,30],pop3_table='yield_tables/popIII_h1.txt',table='yield_tables/isotope_yield_table_h1.txt',sn1a_on=True, sn1a_table='yield_tables/sn1a_h1.txt', iniabu_table='yield_tables/iniabu/iniab1.0E-04GN93_alpha_h1.ppn')\n"
   ]
  },
  {
   "cell_type": "code",
   "execution_count": 30,
   "metadata": {
    "collapsed": false
   },
   "outputs": [
    {
     "name": "stdout",
     "output_type": "stream",
     "text": [
      "Should be 0: [0] [0.0]\n",
      "[100000000000.0] [627865031.17904067]\n",
      "Should be 0: [0] [0.0]\n",
      "[100000000000.0] [627865031.17904067]\n",
      "1.0\n"
     ]
    }
   ],
   "source": [
    "print 'Should be 0:',(s1.history.ism_elem_yield_1a[0]),(s1.history.ism_elem_yield_1a[-1])\n",
    "print (s1.history.ism_elem_yield[0]),(s1.history.ism_elem_yield[-1])\n",
    "print 'Should be 0:',(s2.history.ism_elem_yield_1a[0]),(s2.history.ism_elem_yield_1a[-1])\n",
    "print (s2.history.ism_elem_yield[0]),(s2.history.ism_elem_yield[-1])\n",
    "print (s1.history.ism_elem_yield[-1][0] + s2.history.ism_elem_yield_1a[-1][0])/s2.history.ism_elem_yield[-1][0]\n",
    "#s2.plot_mass(specie='H-1',source='sn1a') #plot s1 data  (without sn) cannot be plotted -> error, maybe change plot function?"
   ]
  },
  {
   "cell_type": "markdown",
   "metadata": {},
   "source": [
    "# with net yields netyields_on = True"
   ]
  },
  {
   "cell_type": "code",
   "execution_count": 2,
   "metadata": {
    "collapsed": false
   },
   "outputs": [
    {
     "name": "stdout",
     "output_type": "stream",
     "text": [
      "Warning: Non-default transitionmass chosen. Use in agreement with yield input!\n",
      "Error - net yields setting not usable with PopIII at the moment.\n",
      "correct for isotopes\n"
     ]
    },
    {
     "data": {
      "image/png": "[encoded data removed]",
      "text/plain": [
       "<matplotlib.figure.Figure at 0xaefcf04c>"
      ]
     },
     "metadata": {},
     "output_type": "display_data"
    }
   ],
   "source": [
    "s0=s.sygma(iolevel=0,imf_bdys=[0.01,100],imf_yields_range=[0.02,99],imf_type='chabrier',transitionmass=6,sfr='input',iniZ=0.0,\\\n",
    "        dt=1e7,tend=1.3e10, mgal=1e1,sn1a_on=True,sn1a_rate='exp',exp_dtd=2e9,exclude_masses=[100,6,7],netyields_on=True,pop3_table='yield_tables/popIII_h1.txt')"
   ]
  },
  {
   "cell_type": "markdown",
   "metadata": {},
   "source": [
    "# End of test suite (for now)"
   ]
  },
  {
   "cell_type": "markdown",
   "metadata": {},
   "source": [
    "## Test parameter imf_yields_range : Change range of contributing yields: Not yet included!"
   ]
  },
  {
   "cell_type": "markdown",
   "metadata": {},
   "source": [
    "### yield range [20,30]"
   ]
  },
  {
   "cell_type": "code",
   "execution_count": 94,
   "metadata": {
    "collapsed": false
   },
   "outputs": [
    {
     "name": "stdout",
     "output_type": "stream",
     "text": [
      "################    Start SYGMA simulation   ##############\n",
      "Stop: Setting of imf_yields_range_pop3 feature not included  yet\n"
     ]
    }
   ],
   "source": [
    "s1=s.sygma(iolevel=1,mgal=1e11,dt=1e7,tend=1.3e10,imf_type='salpeter',imf_bdys_pop3=[10,30],imf_yields_range_pop3=[20,30],iniZ=-1,pop3_table='yield_tables/popIII_h1.txt',table='yield_tables/isotope_yield_table_h1.txt',sn1a_on=False, sn1a_table='yield_tables/sn1a_h1.txt', iniabu_table='yield_tables/iniabu/iniab1.0E-04GN93_alpha_h1.ppn')\n",
    "#Yield_tot_sim=s1.history.ism_iso_yield[-1][0]"
   ]
  },
  {
   "cell_type": "code",
   "execution_count": 330,
   "metadata": {
    "collapsed": false
   },
   "outputs": [],
   "source": [
    "k_N=1e11*0.35/ (10**-0.35 - 30**-0.35)\n",
    "N_tot=k_N/1.35 * (20**-1.35 - 30**-1.35)\n",
    "Yield_tot=0.1*N_tot"
   ]
  },
  {
   "cell_type": "code",
   "execution_count": 331,
   "metadata": {
    "collapsed": false
   },
   "outputs": [
    {
     "data": {
      "text/plain": [
       "([10, 30], [10, 30], [20, 30])"
      ]
     },
     "execution_count": 331,
     "metadata": {},
     "output_type": "execute_result"
    }
   ],
   "source": [
    "s1.imf_bdys,s1.imf_bdys_pop3,s1.imf_yields_range_pop3"
   ]
  },
  {
   "cell_type": "code",
   "execution_count": 332,
   "metadata": {
    "collapsed": false
   },
   "outputs": [
    {
     "name": "stdout",
     "output_type": "stream",
     "text": [
      "Sould be 1: 1.0\n"
     ]
    }
   ],
   "source": [
    "print 'Sould be 1:' ,Yield_tot_sim/Yield_tot"
   ]
  },
  {
   "cell_type": "code",
   "execution_count": null,
   "metadata": {
    "collapsed": false
   },
   "outputs": [],
   "source": [
    "yield range [20,30]"
   ]
  }
 ],
 "metadata": {
  "kernelspec": {
   "display_name": "Python 2",
   "language": "python",
   "name": "python2"
  },
  "language_info": {
   "codemirror_mode": {
    "name": "ipython",
    "version": 2
   },
   "file_extension": ".py",
   "mimetype": "text/x-python",
   "name": "python",
   "nbconvert_exporter": "python",
   "pygments_lexer": "ipython2",
   "version": "2.7.8"
  }
 },
 "nbformat": 4,
 "nbformat_minor": 0
}
